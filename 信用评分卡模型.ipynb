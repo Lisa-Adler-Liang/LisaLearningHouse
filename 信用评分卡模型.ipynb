{
 "cells": [
  {
   "cell_type": "markdown",
   "metadata": {},
   "source": [
    "# l1和l2正则化"
   ]
  },
  {
   "cell_type": "code",
   "execution_count": 1,
   "metadata": {},
   "outputs": [],
   "source": [
    "from sklearn.linear_model import LogisticRegression as LR\n",
    "from sklearn.datasets import load_breast_cancer\n",
    "import numpy as np\n",
    "import matplotlib.pyplot as plt\n",
    "from sklearn.model_selection import train_test_split\n",
    "from sklearn.metrics import accuracy_score"
   ]
  },
  {
   "cell_type": "code",
   "execution_count": 2,
   "metadata": {},
   "outputs": [],
   "source": [
    "data=load_breast_cancer()\n",
    "X=data.data\n",
    "y=data.target"
   ]
  },
  {
   "cell_type": "code",
   "execution_count": 4,
   "metadata": {},
   "outputs": [
    {
     "data": {
      "text/plain": [
       "(569, 30)"
      ]
     },
     "execution_count": 4,
     "metadata": {},
     "output_type": "execute_result"
    }
   ],
   "source": [
    "X.shape"
   ]
  },
  {
   "cell_type": "code",
   "execution_count": 5,
   "metadata": {},
   "outputs": [],
   "source": [
    "lrl1=LR(penalty='l1',solver='liblinear',C=0.5,max_iter=1000)\n",
    "lrl2=LR(penalty='l2',solver='liblinear',C=0.5,max_iter=1000)"
   ]
  },
  {
   "cell_type": "code",
   "execution_count": 6,
   "metadata": {},
   "outputs": [],
   "source": [
    "#逻辑回归的重要属性coef_，查看每个特征对应的参数\n",
    "lrl1=lrl1.fit(X,y)\n"
   ]
  },
  {
   "cell_type": "code",
   "execution_count": 7,
   "metadata": {},
   "outputs": [
    {
     "data": {
      "text/plain": [
       "array([[ 3.99615477,  0.03164715, -0.13635607, -0.01622717,  0.        ,\n",
       "         0.        ,  0.        ,  0.        ,  0.        ,  0.        ,\n",
       "         0.        ,  0.50346534,  0.        , -0.07124818,  0.        ,\n",
       "         0.        ,  0.        ,  0.        ,  0.        ,  0.        ,\n",
       "         0.        , -0.24555102, -0.12861141, -0.01440856,  0.        ,\n",
       "         0.        , -2.04661436,  0.        ,  0.        ,  0.        ]])"
      ]
     },
     "execution_count": 7,
     "metadata": {},
     "output_type": "execute_result"
    }
   ],
   "source": [
    "lrl1.coef_"
   ]
  },
  {
   "cell_type": "code",
   "execution_count": 8,
   "metadata": {},
   "outputs": [
    {
     "data": {
      "text/plain": [
       "array([10])"
      ]
     },
     "execution_count": 8,
     "metadata": {},
     "output_type": "execute_result"
    }
   ],
   "source": [
    "(lrl1.coef_!=0).sum(axis=1)#不为零系数个数"
   ]
  },
  {
   "cell_type": "code",
   "execution_count": 9,
   "metadata": {},
   "outputs": [
    {
     "data": {
      "text/plain": [
       "array([[ 1.61543234e+00,  1.02284415e-01,  4.78483684e-02,\n",
       "        -4.43927107e-03, -9.42247882e-02, -3.01420673e-01,\n",
       "        -4.56065677e-01, -2.22346063e-01, -1.35660484e-01,\n",
       "        -1.93917198e-02,  1.61646580e-02,  8.84531037e-01,\n",
       "         1.20301273e-01, -9.47422278e-02, -9.81687769e-03,\n",
       "        -2.37399092e-02, -5.71846204e-02, -2.70190106e-02,\n",
       "        -2.77563737e-02,  1.98122260e-04,  1.26394730e+00,\n",
       "        -3.01762592e-01, -1.72784162e-01, -2.21786411e-02,\n",
       "        -1.73339657e-01, -8.79070550e-01, -1.16325561e+00,\n",
       "        -4.27661014e-01, -4.20612369e-01, -8.69820058e-02]])"
      ]
     },
     "execution_count": 9,
     "metadata": {},
     "output_type": "execute_result"
    }
   ],
   "source": [
    "lrl2=lrl2.fit(X,y)\n",
    "lrl2.coef_"
   ]
  },
  {
   "cell_type": "code",
   "execution_count": 10,
   "metadata": {},
   "outputs": [
    {
     "data": {
      "text/plain": [
       "array([[ True,  True,  True,  True,  True,  True,  True,  True,  True,\n",
       "         True,  True,  True,  True,  True,  True,  True,  True,  True,\n",
       "         True,  True,  True,  True,  True,  True,  True,  True,  True,\n",
       "         True,  True,  True]])"
      ]
     },
     "execution_count": 10,
     "metadata": {},
     "output_type": "execute_result"
    }
   ],
   "source": [
    "lrl2.coef_!=0\n"
   ]
  },
  {
   "cell_type": "code",
   "execution_count": 11,
   "metadata": {},
   "outputs": [
    {
     "data": {
      "text/plain": [
       "array([0.1 , 0.15, 0.2 , 0.25, 0.3 , 0.35, 0.4 , 0.45, 0.5 , 0.55, 0.6 ,\n",
       "       0.65, 0.7 , 0.75, 0.8 , 0.85, 0.9 , 0.95, 1.  ])"
      ]
     },
     "execution_count": 11,
     "metadata": {},
     "output_type": "execute_result"
    }
   ],
   "source": [
    "np.linspace(0.1,1,19)"
   ]
  },
  {
   "cell_type": "code",
   "execution_count": 14,
   "metadata": {},
   "outputs": [
    {
     "data": {
      "image/png": "[encoded data removed]",
      "text/plain": [
       "<Figure size 432x432 with 1 Axes>"
      ]
     },
     "metadata": {
      "needs_background": "light"
     },
     "output_type": "display_data"
    }
   ],
   "source": [
    "l1=[]\n",
    "l2=[]\n",
    "l1test=[]\n",
    "l2test=[]\n",
    "Xtrain,Xtest,Ytrain,Ytest=train_test_split(X,y,test_size=0.3,random_state=420)\n",
    "\n",
    "for i in np.linspace(0.05,1,19):\n",
    "    lrl1=LR(penalty='l1',solver='liblinear',C=i,max_iter=1000)\n",
    "    lrl2=LR(penalty='l2',solver='liblinear',C=i,max_iter=1000)\n",
    "    \n",
    "    lrl1=lrl1.fit(Xtrain,Ytrain)\n",
    "    l1.append(accuracy_score(lrl1.predict(Xtrain),Ytrain))\n",
    "    l1test.append(accuracy_score(lrl1.predict(Xtest),Ytest))\n",
    "    \n",
    "    lrl2=lrl2.fit(Xtrain,Ytrain)\n",
    "    l2.append(accuracy_score(lrl2.predict(Xtrain),Ytrain))\n",
    "    l2test.append(accuracy_score(lrl2.predict(Xtest),Ytest))\n",
    "\n",
    "    \n",
    "graph=[l1,l2,l1test,l2test]#Y值\n",
    "color=['green','black','lightgreen','gray']\n",
    "label=['L1','L2','L1test','L2test']\n",
    "    \n",
    "plt.figure(figsize=(6,6))   \n",
    "for i in range(len(graph)):\n",
    "    plt.plot(np.linspace(0.05,1,19),graph[i],color[i],label=label[i])\n",
    "plt.legend(loc=4)#图例的位置在哪里，4表示右下角\n",
    "plt.show()"
   ]
  },
  {
   "cell_type": "code",
   "execution_count": 15,
   "metadata": {},
   "outputs": [
    {
     "name": "stdout",
     "output_type": "stream",
     "text": [
      "The Zen of Python, by Tim Peters\n",
      "\n",
      "Beautiful is better than ugly.\n",
      "Explicit is better than implicit.\n",
      "Simple is better than complex.\n",
      "Complex is better than complicated.\n",
      "Flat is better than nested.\n",
      "Sparse is better than dense.\n",
      "Readability counts.\n",
      "Special cases aren't special enough to break the rules.\n",
      "Although practicality beats purity.\n",
      "Errors should never pass silently.\n",
      "Unless explicitly silenced.\n",
      "In the face of ambiguity, refuse the temptation to guess.\n",
      "There should be one-- and preferably only one --obvious way to do it.\n",
      "Although that way may not be obvious at first unless you're Dutch.\n",
      "Now is better than never.\n",
      "Although never is often better than *right* now.\n",
      "If the implementation is hard to explain, it's a bad idea.\n",
      "If the implementation is easy to explain, it may be a good idea.\n",
      "Namespaces are one honking great idea -- let's do more of those!\n"
     ]
    }
   ],
   "source": [
    "import this"
   ]
  },
  {
   "cell_type": "markdown",
   "metadata": {},
   "source": [
    "# 高效的潜入法 embedded"
   ]
  },
  {
   "cell_type": "code",
   "execution_count": 16,
   "metadata": {},
   "outputs": [],
   "source": [
    "from sklearn.linear_model import LogisticRegression as LR\n",
    "from sklearn.datasets import load_breast_cancer\n",
    "import numpy as np\n",
    "import matplotlib.pyplot as plt\n",
    "from sklearn.model_selection import cross_val_score\n",
    "from sklearn.feature_selection import SelectFromModel\n",
    "\n",
    "data=load_breast_cancer()"
   ]
  },
  {
   "cell_type": "code",
   "execution_count": 17,
   "metadata": {},
   "outputs": [
    {
     "data": {
      "text/plain": [
       "(569, 30)"
      ]
     },
     "execution_count": 17,
     "metadata": {},
     "output_type": "execute_result"
    }
   ],
   "source": [
    "data.data.shape"
   ]
  },
  {
   "cell_type": "code",
   "execution_count": 25,
   "metadata": {},
   "outputs": [
    {
     "data": {
      "text/plain": [
       "0.9508998790078644"
      ]
     },
     "execution_count": 25,
     "metadata": {},
     "output_type": "execute_result"
    }
   ],
   "source": [
    "LR_=LR(solver='liblinear',C=0.8,random_state=420)\n",
    "cross_val_score(LR_,data.data,data.target,cv=10).mean()#交叉验证"
   ]
  },
  {
   "cell_type": "code",
   "execution_count": 26,
   "metadata": {},
   "outputs": [
    {
     "data": {
      "text/plain": [
       "(569, 9)"
      ]
     },
     "execution_count": 26,
     "metadata": {},
     "output_type": "execute_result"
    }
   ],
   "source": [
    "X_embedded=SelectFromModel(LR_,norm_order=1).fit_transform(data.data,data.target)#降维，norm_order为范式，=1\n",
    "X_embedded.shape"
   ]
  },
  {
   "cell_type": "code",
   "execution_count": 27,
   "metadata": {},
   "outputs": [
    {
     "data": {
      "text/plain": [
       "0.9368323826808401"
      ]
     },
     "execution_count": 27,
     "metadata": {},
     "output_type": "execute_result"
    }
   ],
   "source": [
    "cross_val_score(LR_,X_embedded,data.target,cv=10).mean()"
   ]
  },
  {
   "cell_type": "markdown",
   "metadata": {},
   "source": [
    "# 调节拟合效果的方法：两种\n",
    "\n",
    "## (1)调节SelectFromModel的参数threshold"
   ]
  },
  {
   "cell_type": "code",
   "execution_count": 30,
   "metadata": {},
   "outputs": [
    {
     "data": {
      "text/plain": [
       "1.9407192479360273"
      ]
     },
     "execution_count": 30,
     "metadata": {},
     "output_type": "execute_result"
    }
   ],
   "source": [
    "abs(LR_.fit(data.data,data.target).coef_).max()#abs()取绝对值"
   ]
  },
  {
   "cell_type": "code",
   "execution_count": 29,
   "metadata": {},
   "outputs": [
    {
     "name": "stdout",
     "output_type": "stream",
     "text": [
      "(0.0, 30)\n",
      "(0.1021431183124225, 17)\n",
      "(0.204286236624845, 12)\n",
      "(0.3064293549372675, 10)\n",
      "(0.40857247324969, 8)\n",
      "(0.5107155915621124, 8)\n",
      "(0.612858709874535, 5)\n",
      "(0.7150018281869575, 5)\n",
      "(0.81714494649938, 5)\n",
      "(0.9192880648118025, 5)\n",
      "(1.0214311831242249, 5)\n",
      "(1.1235743014366475, 4)\n",
      "(1.22571741974907, 3)\n",
      "(1.3278605380614925, 2)\n",
      "(1.430003656373915, 2)\n",
      "(1.5321467746863375, 1)\n",
      "(1.63428989299876, 1)\n",
      "(1.7364330113111823, 1)\n",
      "(1.838576129623605, 1)\n",
      "(1.9407192479360273, 1)\n"
     ]
    },
    {
     "data": {
      "image/png": "[encoded data removed]",
      "text/plain": [
       "<Figure size 1440x360 with 1 Axes>"
      ]
     },
     "metadata": {
      "needs_background": "light"
     },
     "output_type": "display_data"
    }
   ],
   "source": [
    "fullx=[]\n",
    "fsx=[]\n",
    "\n",
    "threshold=np.linspace(0,abs(LR_.fit(data.data,data.target).coef_).max(),20)\n",
    "\n",
    "k=0\n",
    "for i in threshold:\n",
    "    X_embedded=SelectFromModel(LR_,threshold=i,norm_order=1).fit_transform(data.data,data.target)\n",
    "    fullx.append(cross_val_score(LR_,data.data,data.target,cv=5).mean())\n",
    "    fsx.append(cross_val_score(LR_,X_embedded,data.target,cv=5).mean())#特征选择后的交叉验证\n",
    "    print((threshold[k],X_embedded.shape[1]))#降维后特征个数\n",
    "    k+=1\n",
    "    \n",
    "plt.figure(figsize=(20,5))\n",
    "plt.plot(threshold,fullx,label='full')\n",
    "plt.plot(threshold,fsx,label='feature selection')\n",
    "plt.xticks(threshold)\n",
    "plt.legend()\n",
    "plt.show()"
   ]
  },
  {
   "cell_type": "markdown",
   "metadata": {},
   "source": [
    "## (2)调逻辑回归的LR_,通过画C的学习曲线来实现"
   ]
  },
  {
   "cell_type": "code",
   "execution_count": 31,
   "metadata": {},
   "outputs": [
    {
     "name": "stdout",
     "output_type": "stream",
     "text": [
      "0.9563164376458386 7.01\n"
     ]
    },
    {
     "data": {
      "image/png": "[encoded data removed]",
      "text/plain": [
       "<Figure size 1440x360 with 1 Axes>"
      ]
     },
     "metadata": {
      "needs_background": "light"
     },
     "output_type": "display_data"
    }
   ],
   "source": [
    "fullx=[]\n",
    "fsx=[]\n",
    "\n",
    "C=np.arange(0.01,10.01,0.5)\n",
    "for i in C:\n",
    "    LR_=LR(solver='liblinear',C=i,random_state=420)\n",
    "    fullx.append(cross_val_score(LR_,data.data,data.target,cv=10).mean())\n",
    "    X_embedded=SelectFromModel(LR_,norm_order=1).fit_transform(data.data,data.target)\n",
    "    fsx.append(cross_val_score(LR_,X_embedded,data.target,cv=10).mean())\n",
    "\n",
    "print(max(fsx),C[fsx.index(max(fsx))])#最高分及其对应的索引值对应的C\n",
    "\n",
    "plt.figure(figsize=(20,5))\n",
    "plt.plot(C,fullx,label='full')\n",
    "plt.plot(C,fsx,label='feature selection')\n",
    "plt.xticks(C)\n",
    "plt.legend()\n",
    "plt.show()"
   ]
  },
  {
   "cell_type": "code",
   "execution_count": null,
   "metadata": {},
   "outputs": [],
   "source": [
    "f=[1,2,3,4,5]"
   ]
  },
  {
   "cell_type": "code",
   "execution_count": 32,
   "metadata": {},
   "outputs": [
    {
     "name": "stdout",
     "output_type": "stream",
     "text": [
      "0.9580405755768732 6.069999999999999\n"
     ]
    },
    {
     "data": {
      "image/png": "[encoded data removed]",
      "text/plain": [
       "<Figure size 1440x360 with 1 Axes>"
      ]
     },
     "metadata": {
      "needs_background": "light"
     },
     "output_type": "display_data"
    }
   ],
   "source": [
    "fullx=[]\n",
    "fsx=[]\n",
    "\n",
    "C=np.arange(6.05,7.05,0.005)\n",
    "for i in C:\n",
    "    LR_=LR(solver='liblinear',C=i,random_state=420)\n",
    "    fullx.append(cross_val_score(LR_,data.data,data.target,cv=10).mean())\n",
    "    X_embedded=SelectFromModel(LR_,norm_order=1).fit_transform(data.data,data.target)\n",
    "    fsx.append(cross_val_score(LR_,X_embedded,data.target,cv=10).mean())\n",
    "\n",
    "print(max(fsx),C[fsx.index(max(fsx))])#最高分及其对应的索引值对应的C\n",
    "\n",
    "plt.figure(figsize=(20,5))\n",
    "plt.plot(C,fullx,label='full')\n",
    "plt.plot(C,fsx,label='feature selection')\n",
    "plt.xticks(C)\n",
    "plt.legend()\n",
    "plt.show()"
   ]
  },
  {
   "cell_type": "code",
   "execution_count": 33,
   "metadata": {},
   "outputs": [
    {
     "data": {
      "text/plain": [
       "0.9491152450090743"
      ]
     },
     "execution_count": 33,
     "metadata": {},
     "output_type": "execute_result"
    }
   ],
   "source": [
    "LR_=LR(solver='liblinear',C=6.069999999999999,random_state=420)\n",
    "cross_val_score(LR_,data.data,data.target,cv=10).mean()"
   ]
  },
  {
   "cell_type": "code",
   "execution_count": 34,
   "metadata": {},
   "outputs": [
    {
     "data": {
      "text/plain": [
       "0.9580405755768732"
      ]
     },
     "execution_count": 34,
     "metadata": {},
     "output_type": "execute_result"
    }
   ],
   "source": [
    "LR_=LR(solver='liblinear',C=6.069999999999999,random_state=420)\n",
    "X_embedded=SelectFromModel(LR_,norm_order=1).fit_transform(data.data,data.target)\n",
    "cross_val_score(LR_,X_embedded,data.target,cv=10).mean()"
   ]
  },
  {
   "cell_type": "code",
   "execution_count": 35,
   "metadata": {},
   "outputs": [
    {
     "data": {
      "text/plain": [
       "(569, 11)"
      ]
     },
     "execution_count": 35,
     "metadata": {},
     "output_type": "execute_result"
    }
   ],
   "source": [
    "X_embedded.shape"
   ]
  },
  {
   "cell_type": "markdown",
   "metadata": {},
   "source": [
    "# 梯度下降：max_iter"
   ]
  },
  {
   "cell_type": "code",
   "execution_count": 5,
   "metadata": {},
   "outputs": [
    {
     "name": "stderr",
     "output_type": "stream",
     "text": [
      "D:\\Anoconda\\lib\\site-packages\\sklearn\\svm\\base.py:929: ConvergenceWarning: Liblinear failed to converge, increase the number of iterations.\n",
      "  \"the number of iterations.\", ConvergenceWarning)\n",
      "D:\\Anoconda\\lib\\site-packages\\sklearn\\svm\\base.py:929: ConvergenceWarning: Liblinear failed to converge, increase the number of iterations.\n",
      "  \"the number of iterations.\", ConvergenceWarning)\n",
      "D:\\Anoconda\\lib\\site-packages\\sklearn\\svm\\base.py:929: ConvergenceWarning: Liblinear failed to converge, increase the number of iterations.\n",
      "  \"the number of iterations.\", ConvergenceWarning)\n"
     ]
    }
   ],
   "source": [
    "l2=[]\n",
    "l2test=[]\n",
    "Xtrain,Xtest,Ytrain,Ytest=train_test_split(X,y,test_size=0.3,random_state=420)\n",
    "\n",
    "for i in np.arange(1,201,10):\n",
    "    lrl2=LR(penalty='l2',solver='liblinear',C=0.8,max_iter=i)    \n",
    "    lrl2=lrl2.fit(Xtrain,Ytrain)\n",
    "   \n",
    "    l2.append(accuracy_score(lrl2.predict(Xtrain),Ytrain))\n",
    "    l2test.append(accuracy_score(lrl2.predict(Xtest),Ytest))\n"
   ]
  },
  {
   "cell_type": "code",
   "execution_count": 6,
   "metadata": {},
   "outputs": [
    {
     "data": {
      "image/png": "[encoded data removed]",
      "text/plain": [
       "<Figure size 1440x360 with 1 Axes>"
      ]
     },
     "metadata": {
      "needs_background": "light"
     },
     "output_type": "display_data"
    }
   ],
   "source": [
    "graph=[l2,l2test]#Y值\n",
    "color=['black','gray']\n",
    "label=['L2','L2test']\n",
    "    \n",
    "plt.figure(figsize=(20,5))   \n",
    "for i in range(len(graph)):\n",
    "    plt.plot(np.arange(1,201,10),graph[i],color[i],label=label[i])\n",
    "plt.legend(loc=4)#图例的位置在哪里，4表示右下角\n",
    "plt.show()"
   ]
  },
  {
   "cell_type": "code",
   "execution_count": 9,
   "metadata": {},
   "outputs": [
    {
     "data": {
      "text/plain": [
       "array([24], dtype=int32)"
      ]
     },
     "execution_count": 9,
     "metadata": {},
     "output_type": "execute_result"
    }
   ],
   "source": [
    "lr=LR(penalty='l2',solver='liblinear',C=0.8,max_iter=300).fit(Xtrain,Ytrain)\n",
    "lr.n_iter_"
   ]
  },
  {
   "cell_type": "markdown",
   "metadata": {},
   "source": [
    "## 二元回归和多元回归：solver&multi_class"
   ]
  },
  {
   "cell_type": "code",
   "execution_count": 13,
   "metadata": {},
   "outputs": [
    {
     "name": "stdout",
     "output_type": "stream",
     "text": [
      "training score: 0.987(multinomial)\n",
      "training score: 0.960(ovr)\n"
     ]
    },
    {
     "name": "stderr",
     "output_type": "stream",
     "text": [
      "D:\\Anoconda\\lib\\site-packages\\sklearn\\linear_model\\sag.py:337: ConvergenceWarning: The max_iter was reached which means the coef_ did not converge\n",
      "  \"the coef_ did not converge\", ConvergenceWarning)\n",
      "D:\\Anoconda\\lib\\site-packages\\sklearn\\linear_model\\sag.py:337: ConvergenceWarning: The max_iter was reached which means the coef_ did not converge\n",
      "  \"the coef_ did not converge\", ConvergenceWarning)\n"
     ]
    }
   ],
   "source": [
    "from sklearn.datasets import load_iris\n",
    "iris=load_iris()\n",
    "\n",
    "for multi_class in('multinomial','ovr'):\n",
    "    lr=LR(solver='sag',max_iter=100,random_state=42,multi_class=multi_class).fit(iris.data,iris.target)\n",
    "    print(\"training score: %.3f(%s)\"%(lr.score(iris.data,iris.target),multi_class))"
   ]
  },
  {
   "cell_type": "markdown",
   "metadata": {},
   "source": [
    "# 略"
   ]
  },
  {
   "cell_type": "markdown",
   "metadata": {},
   "source": [
    "#  评分卡制作"
   ]
  },
  {
   "cell_type": "markdown",
   "metadata": {},
   "source": [
    "# 3.1 导库，获取数据"
   ]
  },
  {
   "cell_type": "code",
   "execution_count": 1,
   "metadata": {},
   "outputs": [],
   "source": [
    "%matplotlib inline\n",
    "import numpy as np\n",
    "import pandas as pd\n",
    "from sklearn.linear_model import LogisticRegression as LR\n",
    "\n",
    "data=pd.read_csv(r'cs-training.csv',index_col=0)"
   ]
  },
  {
   "cell_type": "markdown",
   "metadata": {},
   "source": [
    "#  3.2 探索数据与数据预处理"
   ]
  },
  {
   "cell_type": "code",
   "execution_count": 2,
   "metadata": {},
   "outputs": [
    {
     "data": {
      "text/html": [
       "<div>\n",
       "<style scoped>\n",
       "    .dataframe tbody tr th:only-of-type {\n",
       "        vertical-align: middle;\n",
       "    }\n",
       "\n",
       "    .dataframe tbody tr th {\n",
       "        vertical-align: top;\n",
       "    }\n",
       "\n",
       "    .dataframe thead th {\n",
       "        text-align: right;\n",
       "    }\n",
       "</style>\n",
       "<table border=\"1\" class=\"dataframe\">\n",
       "  <thead>\n",
       "    <tr style=\"text-align: right;\">\n",
       "      <th></th>\n",
       "      <th>SeriousDlqin2yrs</th>\n",
       "      <th>RevolvingUtilizationOfUnsecuredLines</th>\n",
       "      <th>age</th>\n",
       "      <th>NumberOfTime30-59DaysPastDueNotWorse</th>\n",
       "      <th>DebtRatio</th>\n",
       "      <th>MonthlyIncome</th>\n",
       "      <th>NumberOfOpenCreditLinesAndLoans</th>\n",
       "      <th>NumberOfTimes90DaysLate</th>\n",
       "      <th>NumberRealEstateLoansOrLines</th>\n",
       "      <th>NumberOfTime60-89DaysPastDueNotWorse</th>\n",
       "      <th>NumberOfDependents</th>\n",
       "    </tr>\n",
       "  </thead>\n",
       "  <tbody>\n",
       "    <tr>\n",
       "      <td>1</td>\n",
       "      <td>1</td>\n",
       "      <td>0.766127</td>\n",
       "      <td>45</td>\n",
       "      <td>2</td>\n",
       "      <td>0.802982</td>\n",
       "      <td>9120.0</td>\n",
       "      <td>13</td>\n",
       "      <td>0</td>\n",
       "      <td>6</td>\n",
       "      <td>0</td>\n",
       "      <td>2.0</td>\n",
       "    </tr>\n",
       "    <tr>\n",
       "      <td>2</td>\n",
       "      <td>0</td>\n",
       "      <td>0.957151</td>\n",
       "      <td>40</td>\n",
       "      <td>0</td>\n",
       "      <td>0.121876</td>\n",
       "      <td>2600.0</td>\n",
       "      <td>4</td>\n",
       "      <td>0</td>\n",
       "      <td>0</td>\n",
       "      <td>0</td>\n",
       "      <td>1.0</td>\n",
       "    </tr>\n",
       "    <tr>\n",
       "      <td>3</td>\n",
       "      <td>0</td>\n",
       "      <td>0.658180</td>\n",
       "      <td>38</td>\n",
       "      <td>1</td>\n",
       "      <td>0.085113</td>\n",
       "      <td>3042.0</td>\n",
       "      <td>2</td>\n",
       "      <td>1</td>\n",
       "      <td>0</td>\n",
       "      <td>0</td>\n",
       "      <td>0.0</td>\n",
       "    </tr>\n",
       "    <tr>\n",
       "      <td>4</td>\n",
       "      <td>0</td>\n",
       "      <td>0.233810</td>\n",
       "      <td>30</td>\n",
       "      <td>0</td>\n",
       "      <td>0.036050</td>\n",
       "      <td>3300.0</td>\n",
       "      <td>5</td>\n",
       "      <td>0</td>\n",
       "      <td>0</td>\n",
       "      <td>0</td>\n",
       "      <td>0.0</td>\n",
       "    </tr>\n",
       "    <tr>\n",
       "      <td>5</td>\n",
       "      <td>0</td>\n",
       "      <td>0.907239</td>\n",
       "      <td>49</td>\n",
       "      <td>1</td>\n",
       "      <td>0.024926</td>\n",
       "      <td>63588.0</td>\n",
       "      <td>7</td>\n",
       "      <td>0</td>\n",
       "      <td>1</td>\n",
       "      <td>0</td>\n",
       "      <td>0.0</td>\n",
       "    </tr>\n",
       "  </tbody>\n",
       "</table>\n",
       "</div>"
      ],
      "text/plain": [
       "   SeriousDlqin2yrs  RevolvingUtilizationOfUnsecuredLines  age  \\\n",
       "1                 1                              0.766127   45   \n",
       "2                 0                              0.957151   40   \n",
       "3                 0                              0.658180   38   \n",
       "4                 0                              0.233810   30   \n",
       "5                 0                              0.907239   49   \n",
       "\n",
       "   NumberOfTime30-59DaysPastDueNotWorse  DebtRatio  MonthlyIncome  \\\n",
       "1                                     2   0.802982         9120.0   \n",
       "2                                     0   0.121876         2600.0   \n",
       "3                                     1   0.085113         3042.0   \n",
       "4                                     0   0.036050         3300.0   \n",
       "5                                     1   0.024926        63588.0   \n",
       "\n",
       "   NumberOfOpenCreditLinesAndLoans  NumberOfTimes90DaysLate  \\\n",
       "1                               13                        0   \n",
       "2                                4                        0   \n",
       "3                                2                        1   \n",
       "4                                5                        0   \n",
       "5                                7                        0   \n",
       "\n",
       "   NumberRealEstateLoansOrLines  NumberOfTime60-89DaysPastDueNotWorse  \\\n",
       "1                             6                                     0   \n",
       "2                             0                                     0   \n",
       "3                             0                                     0   \n",
       "4                             0                                     0   \n",
       "5                             1                                     0   \n",
       "\n",
       "   NumberOfDependents  \n",
       "1                 2.0  \n",
       "2                 1.0  \n",
       "3                 0.0  \n",
       "4                 0.0  \n",
       "5                 0.0  "
      ]
     },
     "execution_count": 2,
     "metadata": {},
     "output_type": "execute_result"
    }
   ],
   "source": [
    "data.head()#观察数据类型"
   ]
  },
  {
   "cell_type": "code",
   "execution_count": 3,
   "metadata": {},
   "outputs": [
    {
     "data": {
      "text/plain": [
       "(150000, 11)"
      ]
     },
     "execution_count": 3,
     "metadata": {},
     "output_type": "execute_result"
    }
   ],
   "source": [
    "data.shape\n"
   ]
  },
  {
   "cell_type": "code",
   "execution_count": 4,
   "metadata": {},
   "outputs": [
    {
     "name": "stdout",
     "output_type": "stream",
     "text": [
      "<class 'pandas.core.frame.DataFrame'>\n",
      "Int64Index: 150000 entries, 1 to 150000\n",
      "Data columns (total 11 columns):\n",
      "SeriousDlqin2yrs                        150000 non-null int64\n",
      "RevolvingUtilizationOfUnsecuredLines    150000 non-null float64\n",
      "age                                     150000 non-null int64\n",
      "NumberOfTime30-59DaysPastDueNotWorse    150000 non-null int64\n",
      "DebtRatio                               150000 non-null float64\n",
      "MonthlyIncome                           120269 non-null float64\n",
      "NumberOfOpenCreditLinesAndLoans         150000 non-null int64\n",
      "NumberOfTimes90DaysLate                 150000 non-null int64\n",
      "NumberRealEstateLoansOrLines            150000 non-null int64\n",
      "NumberOfTime60-89DaysPastDueNotWorse    150000 non-null int64\n",
      "NumberOfDependents                      146076 non-null float64\n",
      "dtypes: float64(4), int64(7)\n",
      "memory usage: 13.7 MB\n"
     ]
    }
   ],
   "source": [
    "data.info()"
   ]
  },
  {
   "cell_type": "markdown",
   "metadata": {},
   "source": [
    "## 3.2.1去除重复值"
   ]
  },
  {
   "cell_type": "code",
   "execution_count": 5,
   "metadata": {},
   "outputs": [
    {
     "name": "stdout",
     "output_type": "stream",
     "text": [
      "<class 'pandas.core.frame.DataFrame'>\n",
      "Int64Index: 149391 entries, 1 to 150000\n",
      "Data columns (total 11 columns):\n",
      "SeriousDlqin2yrs                        149391 non-null int64\n",
      "RevolvingUtilizationOfUnsecuredLines    149391 non-null float64\n",
      "age                                     149391 non-null int64\n",
      "NumberOfTime30-59DaysPastDueNotWorse    149391 non-null int64\n",
      "DebtRatio                               149391 non-null float64\n",
      "MonthlyIncome                           120170 non-null float64\n",
      "NumberOfOpenCreditLinesAndLoans         149391 non-null int64\n",
      "NumberOfTimes90DaysLate                 149391 non-null int64\n",
      "NumberRealEstateLoansOrLines            149391 non-null int64\n",
      "NumberOfTime60-89DaysPastDueNotWorse    149391 non-null int64\n",
      "NumberOfDependents                      145563 non-null float64\n",
      "dtypes: float64(4), int64(7)\n",
      "memory usage: 13.7 MB\n"
     ]
    }
   ],
   "source": [
    "#去除重复值\n",
    "data.drop_duplicates(inplace=True)\n",
    "\n",
    "data.info()"
   ]
  },
  {
   "cell_type": "code",
   "execution_count": 6,
   "metadata": {},
   "outputs": [
    {
     "data": {
      "text/plain": [
       "149391"
      ]
     },
     "execution_count": 6,
     "metadata": {},
     "output_type": "execute_result"
    }
   ],
   "source": [
    "data.shape[0]"
   ]
  },
  {
   "cell_type": "code",
   "execution_count": 7,
   "metadata": {},
   "outputs": [
    {
     "name": "stdout",
     "output_type": "stream",
     "text": [
      "<class 'pandas.core.frame.DataFrame'>\n",
      "RangeIndex: 149391 entries, 0 to 149390\n",
      "Data columns (total 11 columns):\n",
      "SeriousDlqin2yrs                        149391 non-null int64\n",
      "RevolvingUtilizationOfUnsecuredLines    149391 non-null float64\n",
      "age                                     149391 non-null int64\n",
      "NumberOfTime30-59DaysPastDueNotWorse    149391 non-null int64\n",
      "DebtRatio                               149391 non-null float64\n",
      "MonthlyIncome                           120170 non-null float64\n",
      "NumberOfOpenCreditLinesAndLoans         149391 non-null int64\n",
      "NumberOfTimes90DaysLate                 149391 non-null int64\n",
      "NumberRealEstateLoansOrLines            149391 non-null int64\n",
      "NumberOfTime60-89DaysPastDueNotWorse    149391 non-null int64\n",
      "NumberOfDependents                      145563 non-null float64\n",
      "dtypes: float64(4), int64(7)\n",
      "memory usage: 12.5 MB\n"
     ]
    }
   ],
   "source": [
    "#删除后不要忘记恢复索引\n",
    "data.index=range(data.shape[0])\n",
    "data.info()"
   ]
  },
  {
   "cell_type": "markdown",
   "metadata": {},
   "source": [
    "## 3.2.2填补缺失值"
   ]
  },
  {
   "cell_type": "code",
   "execution_count": 8,
   "metadata": {},
   "outputs": [
    {
     "name": "stdout",
     "output_type": "stream",
     "text": [
      "<class 'pandas.core.frame.DataFrame'>\n",
      "RangeIndex: 149391 entries, 0 to 149390\n",
      "Data columns (total 11 columns):\n",
      "SeriousDlqin2yrs                        149391 non-null int64\n",
      "RevolvingUtilizationOfUnsecuredLines    149391 non-null float64\n",
      "age                                     149391 non-null int64\n",
      "NumberOfTime30-59DaysPastDueNotWorse    149391 non-null int64\n",
      "DebtRatio                               149391 non-null float64\n",
      "MonthlyIncome                           120170 non-null float64\n",
      "NumberOfOpenCreditLinesAndLoans         149391 non-null int64\n",
      "NumberOfTimes90DaysLate                 149391 non-null int64\n",
      "NumberRealEstateLoansOrLines            149391 non-null int64\n",
      "NumberOfTime60-89DaysPastDueNotWorse    149391 non-null int64\n",
      "NumberOfDependents                      145563 non-null float64\n",
      "dtypes: float64(4), int64(7)\n",
      "memory usage: 12.5 MB\n"
     ]
    }
   ],
   "source": [
    "#探索缺失值\n",
    "data.info()"
   ]
  },
  {
   "cell_type": "code",
   "execution_count": 9,
   "metadata": {},
   "outputs": [
    {
     "data": {
      "text/plain": [
       "SeriousDlqin2yrs                            0\n",
       "RevolvingUtilizationOfUnsecuredLines        0\n",
       "age                                         0\n",
       "NumberOfTime30-59DaysPastDueNotWorse        0\n",
       "DebtRatio                                   0\n",
       "MonthlyIncome                           29221\n",
       "NumberOfOpenCreditLinesAndLoans             0\n",
       "NumberOfTimes90DaysLate                     0\n",
       "NumberRealEstateLoansOrLines                0\n",
       "NumberOfTime60-89DaysPastDueNotWorse        0\n",
       "NumberOfDependents                       3828\n",
       "dtype: int64"
      ]
     },
     "execution_count": 9,
     "metadata": {},
     "output_type": "execute_result"
    }
   ],
   "source": [
    "data.isnull().sum()#每一个列中是空值的数目"
   ]
  },
  {
   "cell_type": "code",
   "execution_count": 10,
   "metadata": {},
   "outputs": [
    {
     "data": {
      "text/plain": [
       "SeriousDlqin2yrs                        0.000000\n",
       "RevolvingUtilizationOfUnsecuredLines    0.000000\n",
       "age                                     0.000000\n",
       "NumberOfTime30-59DaysPastDueNotWorse    0.000000\n",
       "DebtRatio                               0.000000\n",
       "MonthlyIncome                           0.195601\n",
       "NumberOfOpenCreditLinesAndLoans         0.000000\n",
       "NumberOfTimes90DaysLate                 0.000000\n",
       "NumberRealEstateLoansOrLines            0.000000\n",
       "NumberOfTime60-89DaysPastDueNotWorse    0.000000\n",
       "NumberOfDependents                      0.025624\n",
       "dtype: float64"
      ]
     },
     "execution_count": 10,
     "metadata": {},
     "output_type": "execute_result"
    }
   ],
   "source": [
    "data.isnull().sum()/data.shape[0]#空值所占比例，\n",
    "#MonthlyIncome缺失比例太高，很重要，不能删除，需要填补，NumberOfDependents缺失比例少，可删除\n"
   ]
  },
  {
   "cell_type": "code",
   "execution_count": 11,
   "metadata": {},
   "outputs": [
    {
     "data": {
      "text/plain": [
       "SeriousDlqin2yrs                        0.000000\n",
       "RevolvingUtilizationOfUnsecuredLines    0.000000\n",
       "age                                     0.000000\n",
       "NumberOfTime30-59DaysPastDueNotWorse    0.000000\n",
       "DebtRatio                               0.000000\n",
       "MonthlyIncome                           0.195601\n",
       "NumberOfOpenCreditLinesAndLoans         0.000000\n",
       "NumberOfTimes90DaysLate                 0.000000\n",
       "NumberRealEstateLoansOrLines            0.000000\n",
       "NumberOfTime60-89DaysPastDueNotWorse    0.000000\n",
       "NumberOfDependents                      0.025624\n",
       "dtype: float64"
      ]
     },
     "execution_count": 11,
     "metadata": {},
     "output_type": "execute_result"
    }
   ],
   "source": [
    "data.isnull().mean()#与上式一样"
   ]
  },
  {
   "cell_type": "code",
   "execution_count": 12,
   "metadata": {},
   "outputs": [],
   "source": [
    "#填补\n",
    "data['NumberOfDependents'].fillna(data['NumberOfDependents'].mean(),inplace=True)#均值填补\n",
    "#如果你选择删除缺失的2.5%的特征，要记得恢复索引"
   ]
  },
  {
   "cell_type": "code",
   "execution_count": 13,
   "metadata": {},
   "outputs": [
    {
     "name": "stdout",
     "output_type": "stream",
     "text": [
      "<class 'pandas.core.frame.DataFrame'>\n",
      "RangeIndex: 149391 entries, 0 to 149390\n",
      "Data columns (total 11 columns):\n",
      "SeriousDlqin2yrs                        149391 non-null int64\n",
      "RevolvingUtilizationOfUnsecuredLines    149391 non-null float64\n",
      "age                                     149391 non-null int64\n",
      "NumberOfTime30-59DaysPastDueNotWorse    149391 non-null int64\n",
      "DebtRatio                               149391 non-null float64\n",
      "MonthlyIncome                           120170 non-null float64\n",
      "NumberOfOpenCreditLinesAndLoans         149391 non-null int64\n",
      "NumberOfTimes90DaysLate                 149391 non-null int64\n",
      "NumberRealEstateLoansOrLines            149391 non-null int64\n",
      "NumberOfTime60-89DaysPastDueNotWorse    149391 non-null int64\n",
      "NumberOfDependents                      149391 non-null float64\n",
      "dtypes: float64(4), int64(7)\n",
      "memory usage: 12.5 MB\n"
     ]
    }
   ],
   "source": [
    "data.info()"
   ]
  },
  {
   "cell_type": "markdown",
   "metadata": {},
   "source": [
    "### 收入缺失可根据业务判断，应与工作人员沟通\n",
    "### 在这里，我们使用随机森林填补“收入”"
   ]
  },
  {
   "cell_type": "code",
   "execution_count": 14,
   "metadata": {},
   "outputs": [],
   "source": [
    "#构建填补函数\n",
    "\"\"\"\n",
    "参数：X--要填补的特征矩阵‘\n",
    "     y--完整的没有缺失的标签\n",
    "     to_fill:字符串，要填补的那一列的名称\n",
    "\"\"\"\n",
    "\n",
    "def fill_missing_rf(X,y,to_fill):\n",
    "    df=X.copy()\n",
    "    fill=df.loc[:,to_fill]#提取需要填补的那一列\n",
    "    df=pd.concat([df.loc[:,df.columns!=to_fill],pd.DataFrame(y)],axis=1)#除去填补的一列，把剩下的拼接起来\n",
    "    \n",
    "    \n",
    "#找出我们的训练集和测试集\n",
    "    Ytrain=fill[fill.notnull()]#要填补的那一列的非空部分\n",
    "    Ytest=fill[fill.isnull()]#要填补的那一列的空部分\n",
    "    Xtrain=df.iloc[Ytrain.index,:]\n",
    "    Xtest=df.iloc[Ytest.index,:]\n",
    "\n",
    "\n",
    "#用随机森林来填补缺失值\n",
    "    from sklearn.ensemble import RandomForestRegressor as rfr\n",
    "    rfr=rfr(n_estimators=100).fit(Xtrain,Ytrain)#100棵树\n",
    "    Ypredict=rfr.predict(Xtest)#预测值\n",
    "\n",
    "    return Ypredict"
   ]
  },
  {
   "cell_type": "code",
   "execution_count": 15,
   "metadata": {},
   "outputs": [
    {
     "data": {
      "text/html": [
       "<div>\n",
       "<style scoped>\n",
       "    .dataframe tbody tr th:only-of-type {\n",
       "        vertical-align: middle;\n",
       "    }\n",
       "\n",
       "    .dataframe tbody tr th {\n",
       "        vertical-align: top;\n",
       "    }\n",
       "\n",
       "    .dataframe thead th {\n",
       "        text-align: right;\n",
       "    }\n",
       "</style>\n",
       "<table border=\"1\" class=\"dataframe\">\n",
       "  <thead>\n",
       "    <tr style=\"text-align: right;\">\n",
       "      <th></th>\n",
       "      <th>SeriousDlqin2yrs</th>\n",
       "      <th>RevolvingUtilizationOfUnsecuredLines</th>\n",
       "      <th>age</th>\n",
       "      <th>NumberOfTime30-59DaysPastDueNotWorse</th>\n",
       "      <th>DebtRatio</th>\n",
       "      <th>MonthlyIncome</th>\n",
       "      <th>NumberOfOpenCreditLinesAndLoans</th>\n",
       "      <th>NumberOfTimes90DaysLate</th>\n",
       "      <th>NumberRealEstateLoansOrLines</th>\n",
       "      <th>NumberOfTime60-89DaysPastDueNotWorse</th>\n",
       "      <th>NumberOfDependents</th>\n",
       "    </tr>\n",
       "  </thead>\n",
       "  <tbody>\n",
       "    <tr>\n",
       "      <td>0</td>\n",
       "      <td>1</td>\n",
       "      <td>0.766127</td>\n",
       "      <td>45</td>\n",
       "      <td>2</td>\n",
       "      <td>0.802982</td>\n",
       "      <td>9120.0</td>\n",
       "      <td>13</td>\n",
       "      <td>0</td>\n",
       "      <td>6</td>\n",
       "      <td>0</td>\n",
       "      <td>2.0</td>\n",
       "    </tr>\n",
       "    <tr>\n",
       "      <td>1</td>\n",
       "      <td>0</td>\n",
       "      <td>0.957151</td>\n",
       "      <td>40</td>\n",
       "      <td>0</td>\n",
       "      <td>0.121876</td>\n",
       "      <td>2600.0</td>\n",
       "      <td>4</td>\n",
       "      <td>0</td>\n",
       "      <td>0</td>\n",
       "      <td>0</td>\n",
       "      <td>1.0</td>\n",
       "    </tr>\n",
       "    <tr>\n",
       "      <td>2</td>\n",
       "      <td>0</td>\n",
       "      <td>0.658180</td>\n",
       "      <td>38</td>\n",
       "      <td>1</td>\n",
       "      <td>0.085113</td>\n",
       "      <td>3042.0</td>\n",
       "      <td>2</td>\n",
       "      <td>1</td>\n",
       "      <td>0</td>\n",
       "      <td>0</td>\n",
       "      <td>0.0</td>\n",
       "    </tr>\n",
       "    <tr>\n",
       "      <td>3</td>\n",
       "      <td>0</td>\n",
       "      <td>0.233810</td>\n",
       "      <td>30</td>\n",
       "      <td>0</td>\n",
       "      <td>0.036050</td>\n",
       "      <td>3300.0</td>\n",
       "      <td>5</td>\n",
       "      <td>0</td>\n",
       "      <td>0</td>\n",
       "      <td>0</td>\n",
       "      <td>0.0</td>\n",
       "    </tr>\n",
       "    <tr>\n",
       "      <td>4</td>\n",
       "      <td>0</td>\n",
       "      <td>0.907239</td>\n",
       "      <td>49</td>\n",
       "      <td>1</td>\n",
       "      <td>0.024926</td>\n",
       "      <td>63588.0</td>\n",
       "      <td>7</td>\n",
       "      <td>0</td>\n",
       "      <td>1</td>\n",
       "      <td>0</td>\n",
       "      <td>0.0</td>\n",
       "    </tr>\n",
       "  </tbody>\n",
       "</table>\n",
       "</div>"
      ],
      "text/plain": [
       "   SeriousDlqin2yrs  RevolvingUtilizationOfUnsecuredLines  age  \\\n",
       "0                 1                              0.766127   45   \n",
       "1                 0                              0.957151   40   \n",
       "2                 0                              0.658180   38   \n",
       "3                 0                              0.233810   30   \n",
       "4                 0                              0.907239   49   \n",
       "\n",
       "   NumberOfTime30-59DaysPastDueNotWorse  DebtRatio  MonthlyIncome  \\\n",
       "0                                     2   0.802982         9120.0   \n",
       "1                                     0   0.121876         2600.0   \n",
       "2                                     1   0.085113         3042.0   \n",
       "3                                     0   0.036050         3300.0   \n",
       "4                                     1   0.024926        63588.0   \n",
       "\n",
       "   NumberOfOpenCreditLinesAndLoans  NumberOfTimes90DaysLate  \\\n",
       "0                               13                        0   \n",
       "1                                4                        0   \n",
       "2                                2                        1   \n",
       "3                                5                        0   \n",
       "4                                7                        0   \n",
       "\n",
       "   NumberRealEstateLoansOrLines  NumberOfTime60-89DaysPastDueNotWorse  \\\n",
       "0                             6                                     0   \n",
       "1                             0                                     0   \n",
       "2                             0                                     0   \n",
       "3                             0                                     0   \n",
       "4                             1                                     0   \n",
       "\n",
       "   NumberOfDependents  \n",
       "0                 2.0  \n",
       "1                 1.0  \n",
       "2                 0.0  \n",
       "3                 0.0  \n",
       "4                 0.0  "
      ]
     },
     "execution_count": 15,
     "metadata": {},
     "output_type": "execute_result"
    }
   ],
   "source": [
    "data.head()"
   ]
  },
  {
   "cell_type": "code",
   "execution_count": 16,
   "metadata": {},
   "outputs": [],
   "source": [
    "X=data.iloc[:,1:]#从第一列开始往后\n",
    "y=data['SeriousDlqin2yrs']"
   ]
  },
  {
   "cell_type": "code",
   "execution_count": 17,
   "metadata": {},
   "outputs": [
    {
     "data": {
      "text/plain": [
       "(149391, 10)"
      ]
     },
     "execution_count": 17,
     "metadata": {},
     "output_type": "execute_result"
    }
   ],
   "source": [
    "X.shape"
   ]
  },
  {
   "cell_type": "code",
   "execution_count": 18,
   "metadata": {},
   "outputs": [],
   "source": [
    "y_pred=fill_missing_rf(X,y,\"MonthlyIncome\")"
   ]
  },
  {
   "cell_type": "code",
   "execution_count": 19,
   "metadata": {},
   "outputs": [
    {
     "data": {
      "text/plain": [
       "(29221,)"
      ]
     },
     "execution_count": 19,
     "metadata": {},
     "output_type": "execute_result"
    }
   ],
   "source": [
    "y_pred.shape"
   ]
  },
  {
   "cell_type": "code",
   "execution_count": 20,
   "metadata": {},
   "outputs": [],
   "source": [
    "#确认结果合理之后，就可以将数据覆盖了\n",
    "data.loc[data.loc[:,'MonthlyIncome'].isnull(),'MonthlyIncome']=y_pred"
   ]
  },
  {
   "cell_type": "code",
   "execution_count": 21,
   "metadata": {},
   "outputs": [
    {
     "data": {
      "text/plain": [
       "0         False\n",
       "1         False\n",
       "2         False\n",
       "3         False\n",
       "4         False\n",
       "          ...  \n",
       "149386    False\n",
       "149387    False\n",
       "149388    False\n",
       "149389    False\n",
       "149390    False\n",
       "Name: MonthlyIncome, Length: 149391, dtype: bool"
      ]
     },
     "execution_count": 21,
     "metadata": {},
     "output_type": "execute_result"
    }
   ],
   "source": [
    "data.loc[:,'MonthlyIncome'].isnull()#缺失值"
   ]
  },
  {
   "cell_type": "code",
   "execution_count": 22,
   "metadata": {},
   "outputs": [
    {
     "data": {
      "text/plain": [
       "(0,)"
      ]
     },
     "execution_count": 22,
     "metadata": {},
     "output_type": "execute_result"
    }
   ],
   "source": [
    "data.loc[data.loc[:,'MonthlyIncome'].isnull(),'MonthlyIncome'].shape"
   ]
  },
  {
   "cell_type": "code",
   "execution_count": 23,
   "metadata": {},
   "outputs": [
    {
     "name": "stdout",
     "output_type": "stream",
     "text": [
      "<class 'pandas.core.frame.DataFrame'>\n",
      "RangeIndex: 149391 entries, 0 to 149390\n",
      "Data columns (total 11 columns):\n",
      "SeriousDlqin2yrs                        149391 non-null int64\n",
      "RevolvingUtilizationOfUnsecuredLines    149391 non-null float64\n",
      "age                                     149391 non-null int64\n",
      "NumberOfTime30-59DaysPastDueNotWorse    149391 non-null int64\n",
      "DebtRatio                               149391 non-null float64\n",
      "MonthlyIncome                           149391 non-null float64\n",
      "NumberOfOpenCreditLinesAndLoans         149391 non-null int64\n",
      "NumberOfTimes90DaysLate                 149391 non-null int64\n",
      "NumberRealEstateLoansOrLines            149391 non-null int64\n",
      "NumberOfTime60-89DaysPastDueNotWorse    149391 non-null int64\n",
      "NumberOfDependents                      149391 non-null float64\n",
      "dtypes: float64(4), int64(7)\n",
      "memory usage: 12.5 MB\n"
     ]
    }
   ],
   "source": [
    "data.info()"
   ]
  },
  {
   "cell_type": "code",
   "execution_count": 24,
   "metadata": {},
   "outputs": [
    {
     "data": {
      "text/html": [
       "<div>\n",
       "<style scoped>\n",
       "    .dataframe tbody tr th:only-of-type {\n",
       "        vertical-align: middle;\n",
       "    }\n",
       "\n",
       "    .dataframe tbody tr th {\n",
       "        vertical-align: top;\n",
       "    }\n",
       "\n",
       "    .dataframe thead th {\n",
       "        text-align: right;\n",
       "    }\n",
       "</style>\n",
       "<table border=\"1\" class=\"dataframe\">\n",
       "  <thead>\n",
       "    <tr style=\"text-align: right;\">\n",
       "      <th></th>\n",
       "      <th>count</th>\n",
       "      <th>mean</th>\n",
       "      <th>std</th>\n",
       "      <th>min</th>\n",
       "      <th>1%</th>\n",
       "      <th>10%</th>\n",
       "      <th>25%</th>\n",
       "      <th>50%</th>\n",
       "      <th>75%</th>\n",
       "      <th>90%</th>\n",
       "      <th>99%</th>\n",
       "      <th>max</th>\n",
       "    </tr>\n",
       "  </thead>\n",
       "  <tbody>\n",
       "    <tr>\n",
       "      <td>SeriousDlqin2yrs</td>\n",
       "      <td>149391.0</td>\n",
       "      <td>0.066999</td>\n",
       "      <td>0.250021</td>\n",
       "      <td>0.0</td>\n",
       "      <td>0.0</td>\n",
       "      <td>0.000000</td>\n",
       "      <td>0.000000</td>\n",
       "      <td>0.000000</td>\n",
       "      <td>0.000000</td>\n",
       "      <td>0.000000</td>\n",
       "      <td>1.000000</td>\n",
       "      <td>1.0</td>\n",
       "    </tr>\n",
       "    <tr>\n",
       "      <td>RevolvingUtilizationOfUnsecuredLines</td>\n",
       "      <td>149391.0</td>\n",
       "      <td>6.071087</td>\n",
       "      <td>250.263672</td>\n",
       "      <td>0.0</td>\n",
       "      <td>0.0</td>\n",
       "      <td>0.003199</td>\n",
       "      <td>0.030132</td>\n",
       "      <td>0.154235</td>\n",
       "      <td>0.556494</td>\n",
       "      <td>0.978007</td>\n",
       "      <td>1.093922</td>\n",
       "      <td>50708.0</td>\n",
       "    </tr>\n",
       "    <tr>\n",
       "      <td>age</td>\n",
       "      <td>149391.0</td>\n",
       "      <td>52.306237</td>\n",
       "      <td>14.725962</td>\n",
       "      <td>0.0</td>\n",
       "      <td>24.0</td>\n",
       "      <td>33.000000</td>\n",
       "      <td>41.000000</td>\n",
       "      <td>52.000000</td>\n",
       "      <td>63.000000</td>\n",
       "      <td>72.000000</td>\n",
       "      <td>87.000000</td>\n",
       "      <td>109.0</td>\n",
       "    </tr>\n",
       "    <tr>\n",
       "      <td>NumberOfTime30-59DaysPastDueNotWorse</td>\n",
       "      <td>149391.0</td>\n",
       "      <td>0.393886</td>\n",
       "      <td>3.852953</td>\n",
       "      <td>0.0</td>\n",
       "      <td>0.0</td>\n",
       "      <td>0.000000</td>\n",
       "      <td>0.000000</td>\n",
       "      <td>0.000000</td>\n",
       "      <td>0.000000</td>\n",
       "      <td>1.000000</td>\n",
       "      <td>4.000000</td>\n",
       "      <td>98.0</td>\n",
       "    </tr>\n",
       "    <tr>\n",
       "      <td>DebtRatio</td>\n",
       "      <td>149391.0</td>\n",
       "      <td>354.436740</td>\n",
       "      <td>2041.843455</td>\n",
       "      <td>0.0</td>\n",
       "      <td>0.0</td>\n",
       "      <td>0.034991</td>\n",
       "      <td>0.177441</td>\n",
       "      <td>0.368234</td>\n",
       "      <td>0.875279</td>\n",
       "      <td>1275.000000</td>\n",
       "      <td>4985.100000</td>\n",
       "      <td>329664.0</td>\n",
       "    </tr>\n",
       "    <tr>\n",
       "      <td>MonthlyIncome</td>\n",
       "      <td>149391.0</td>\n",
       "      <td>5427.751606</td>\n",
       "      <td>13235.726133</td>\n",
       "      <td>0.0</td>\n",
       "      <td>0.0</td>\n",
       "      <td>0.190000</td>\n",
       "      <td>1800.000000</td>\n",
       "      <td>4424.000000</td>\n",
       "      <td>7416.000000</td>\n",
       "      <td>10800.000000</td>\n",
       "      <td>23250.000000</td>\n",
       "      <td>3008750.0</td>\n",
       "    </tr>\n",
       "    <tr>\n",
       "      <td>NumberOfOpenCreditLinesAndLoans</td>\n",
       "      <td>149391.0</td>\n",
       "      <td>8.480892</td>\n",
       "      <td>5.136515</td>\n",
       "      <td>0.0</td>\n",
       "      <td>0.0</td>\n",
       "      <td>3.000000</td>\n",
       "      <td>5.000000</td>\n",
       "      <td>8.000000</td>\n",
       "      <td>11.000000</td>\n",
       "      <td>15.000000</td>\n",
       "      <td>24.000000</td>\n",
       "      <td>58.0</td>\n",
       "    </tr>\n",
       "    <tr>\n",
       "      <td>NumberOfTimes90DaysLate</td>\n",
       "      <td>149391.0</td>\n",
       "      <td>0.238120</td>\n",
       "      <td>3.826165</td>\n",
       "      <td>0.0</td>\n",
       "      <td>0.0</td>\n",
       "      <td>0.000000</td>\n",
       "      <td>0.000000</td>\n",
       "      <td>0.000000</td>\n",
       "      <td>0.000000</td>\n",
       "      <td>0.000000</td>\n",
       "      <td>3.000000</td>\n",
       "      <td>98.0</td>\n",
       "    </tr>\n",
       "    <tr>\n",
       "      <td>NumberRealEstateLoansOrLines</td>\n",
       "      <td>149391.0</td>\n",
       "      <td>1.022391</td>\n",
       "      <td>1.130196</td>\n",
       "      <td>0.0</td>\n",
       "      <td>0.0</td>\n",
       "      <td>0.000000</td>\n",
       "      <td>0.000000</td>\n",
       "      <td>1.000000</td>\n",
       "      <td>2.000000</td>\n",
       "      <td>2.000000</td>\n",
       "      <td>4.000000</td>\n",
       "      <td>54.0</td>\n",
       "    </tr>\n",
       "    <tr>\n",
       "      <td>NumberOfTime60-89DaysPastDueNotWorse</td>\n",
       "      <td>149391.0</td>\n",
       "      <td>0.212503</td>\n",
       "      <td>3.810523</td>\n",
       "      <td>0.0</td>\n",
       "      <td>0.0</td>\n",
       "      <td>0.000000</td>\n",
       "      <td>0.000000</td>\n",
       "      <td>0.000000</td>\n",
       "      <td>0.000000</td>\n",
       "      <td>0.000000</td>\n",
       "      <td>2.000000</td>\n",
       "      <td>98.0</td>\n",
       "    </tr>\n",
       "    <tr>\n",
       "      <td>NumberOfDependents</td>\n",
       "      <td>149391.0</td>\n",
       "      <td>0.759863</td>\n",
       "      <td>1.101749</td>\n",
       "      <td>0.0</td>\n",
       "      <td>0.0</td>\n",
       "      <td>0.000000</td>\n",
       "      <td>0.000000</td>\n",
       "      <td>0.000000</td>\n",
       "      <td>1.000000</td>\n",
       "      <td>2.000000</td>\n",
       "      <td>4.000000</td>\n",
       "      <td>20.0</td>\n",
       "    </tr>\n",
       "  </tbody>\n",
       "</table>\n",
       "</div>"
      ],
      "text/plain": [
       "                                         count         mean           std  \\\n",
       "SeriousDlqin2yrs                      149391.0     0.066999      0.250021   \n",
       "RevolvingUtilizationOfUnsecuredLines  149391.0     6.071087    250.263672   \n",
       "age                                   149391.0    52.306237     14.725962   \n",
       "NumberOfTime30-59DaysPastDueNotWorse  149391.0     0.393886      3.852953   \n",
       "DebtRatio                             149391.0   354.436740   2041.843455   \n",
       "MonthlyIncome                         149391.0  5427.751606  13235.726133   \n",
       "NumberOfOpenCreditLinesAndLoans       149391.0     8.480892      5.136515   \n",
       "NumberOfTimes90DaysLate               149391.0     0.238120      3.826165   \n",
       "NumberRealEstateLoansOrLines          149391.0     1.022391      1.130196   \n",
       "NumberOfTime60-89DaysPastDueNotWorse  149391.0     0.212503      3.810523   \n",
       "NumberOfDependents                    149391.0     0.759863      1.101749   \n",
       "\n",
       "                                      min    1%        10%          25%  \\\n",
       "SeriousDlqin2yrs                      0.0   0.0   0.000000     0.000000   \n",
       "RevolvingUtilizationOfUnsecuredLines  0.0   0.0   0.003199     0.030132   \n",
       "age                                   0.0  24.0  33.000000    41.000000   \n",
       "NumberOfTime30-59DaysPastDueNotWorse  0.0   0.0   0.000000     0.000000   \n",
       "DebtRatio                             0.0   0.0   0.034991     0.177441   \n",
       "MonthlyIncome                         0.0   0.0   0.190000  1800.000000   \n",
       "NumberOfOpenCreditLinesAndLoans       0.0   0.0   3.000000     5.000000   \n",
       "NumberOfTimes90DaysLate               0.0   0.0   0.000000     0.000000   \n",
       "NumberRealEstateLoansOrLines          0.0   0.0   0.000000     0.000000   \n",
       "NumberOfTime60-89DaysPastDueNotWorse  0.0   0.0   0.000000     0.000000   \n",
       "NumberOfDependents                    0.0   0.0   0.000000     0.000000   \n",
       "\n",
       "                                              50%          75%           90%  \\\n",
       "SeriousDlqin2yrs                         0.000000     0.000000      0.000000   \n",
       "RevolvingUtilizationOfUnsecuredLines     0.154235     0.556494      0.978007   \n",
       "age                                     52.000000    63.000000     72.000000   \n",
       "NumberOfTime30-59DaysPastDueNotWorse     0.000000     0.000000      1.000000   \n",
       "DebtRatio                                0.368234     0.875279   1275.000000   \n",
       "MonthlyIncome                         4424.000000  7416.000000  10800.000000   \n",
       "NumberOfOpenCreditLinesAndLoans          8.000000    11.000000     15.000000   \n",
       "NumberOfTimes90DaysLate                  0.000000     0.000000      0.000000   \n",
       "NumberRealEstateLoansOrLines             1.000000     2.000000      2.000000   \n",
       "NumberOfTime60-89DaysPastDueNotWorse     0.000000     0.000000      0.000000   \n",
       "NumberOfDependents                       0.000000     1.000000      2.000000   \n",
       "\n",
       "                                               99%        max  \n",
       "SeriousDlqin2yrs                          1.000000        1.0  \n",
       "RevolvingUtilizationOfUnsecuredLines      1.093922    50708.0  \n",
       "age                                      87.000000      109.0  \n",
       "NumberOfTime30-59DaysPastDueNotWorse      4.000000       98.0  \n",
       "DebtRatio                              4985.100000   329664.0  \n",
       "MonthlyIncome                         23250.000000  3008750.0  \n",
       "NumberOfOpenCreditLinesAndLoans          24.000000       58.0  \n",
       "NumberOfTimes90DaysLate                   3.000000       98.0  \n",
       "NumberRealEstateLoansOrLines              4.000000       54.0  \n",
       "NumberOfTime60-89DaysPastDueNotWorse      2.000000       98.0  \n",
       "NumberOfDependents                        4.000000       20.0  "
      ]
     },
     "execution_count": 24,
     "metadata": {},
     "output_type": "execute_result"
    }
   ],
   "source": [
    "# 描述性统计\n",
    "data.describe([0.01,0.1,0.25,0.5,0.75,0.9,0.99]).T\n"
   ]
  },
  {
   "cell_type": "code",
   "execution_count": 25,
   "metadata": {},
   "outputs": [
    {
     "data": {
      "text/plain": [
       "1"
      ]
     },
     "execution_count": 25,
     "metadata": {},
     "output_type": "execute_result"
    }
   ],
   "source": [
    "#异常值也被我们观察到，年龄的最小值居然有零，这不符合银行的业务需求，即便是儿童账户也要至少8岁，我们可以查看一下年龄为0的人有多少\n",
    "(data['age']==0).sum()"
   ]
  },
  {
   "cell_type": "code",
   "execution_count": 26,
   "metadata": {},
   "outputs": [],
   "source": [
    "#可以判断是录入失误造成的，当作缺失值处理，直接删除该样本\n",
    "data=data[data['age']!=0]"
   ]
  },
  {
   "cell_type": "code",
   "execution_count": 27,
   "metadata": {},
   "outputs": [
    {
     "data": {
      "text/plain": [
       "(149390, 11)"
      ]
     },
     "execution_count": 27,
     "metadata": {},
     "output_type": "execute_result"
    }
   ],
   "source": [
    "data.shape"
   ]
  },
  {
   "cell_type": "code",
   "execution_count": 28,
   "metadata": {},
   "outputs": [
    {
     "data": {
      "text/plain": [
       "SeriousDlqin2yrs                        225\n",
       "RevolvingUtilizationOfUnsecuredLines    225\n",
       "age                                     225\n",
       "NumberOfTime30-59DaysPastDueNotWorse    225\n",
       "DebtRatio                               225\n",
       "MonthlyIncome                           225\n",
       "NumberOfOpenCreditLinesAndLoans         225\n",
       "NumberOfTimes90DaysLate                 225\n",
       "NumberRealEstateLoansOrLines            225\n",
       "NumberOfTime60-89DaysPastDueNotWorse    225\n",
       "NumberOfDependents                      225\n",
       "dtype: int64"
      ]
     },
     "execution_count": 28,
     "metadata": {},
     "output_type": "execute_result"
    }
   ],
   "source": [
    "#NumberOfTime30-59DaysPastDueNotWorse出现最大值为98，异常值\n",
    "data[data.loc[:,'NumberOfTimes90DaysLate']>90].count()"
   ]
  },
  {
   "cell_type": "code",
   "execution_count": 29,
   "metadata": {},
   "outputs": [
    {
     "data": {
      "text/html": [
       "<div>\n",
       "<style scoped>\n",
       "    .dataframe tbody tr th:only-of-type {\n",
       "        vertical-align: middle;\n",
       "    }\n",
       "\n",
       "    .dataframe tbody tr th {\n",
       "        vertical-align: top;\n",
       "    }\n",
       "\n",
       "    .dataframe thead th {\n",
       "        text-align: right;\n",
       "    }\n",
       "</style>\n",
       "<table border=\"1\" class=\"dataframe\">\n",
       "  <thead>\n",
       "    <tr style=\"text-align: right;\">\n",
       "      <th></th>\n",
       "      <th>SeriousDlqin2yrs</th>\n",
       "      <th>RevolvingUtilizationOfUnsecuredLines</th>\n",
       "      <th>age</th>\n",
       "      <th>NumberOfTime30-59DaysPastDueNotWorse</th>\n",
       "      <th>DebtRatio</th>\n",
       "      <th>MonthlyIncome</th>\n",
       "      <th>NumberOfOpenCreditLinesAndLoans</th>\n",
       "      <th>NumberOfTimes90DaysLate</th>\n",
       "      <th>NumberRealEstateLoansOrLines</th>\n",
       "      <th>NumberOfTime60-89DaysPastDueNotWorse</th>\n",
       "      <th>NumberOfDependents</th>\n",
       "    </tr>\n",
       "  </thead>\n",
       "  <tbody>\n",
       "    <tr>\n",
       "      <td>1732</td>\n",
       "      <td>1</td>\n",
       "      <td>1.0</td>\n",
       "      <td>27</td>\n",
       "      <td>98</td>\n",
       "      <td>0.0</td>\n",
       "      <td>2700.000000</td>\n",
       "      <td>0</td>\n",
       "      <td>98</td>\n",
       "      <td>0</td>\n",
       "      <td>98</td>\n",
       "      <td>0.000000</td>\n",
       "    </tr>\n",
       "    <tr>\n",
       "      <td>2285</td>\n",
       "      <td>0</td>\n",
       "      <td>1.0</td>\n",
       "      <td>22</td>\n",
       "      <td>98</td>\n",
       "      <td>0.0</td>\n",
       "      <td>1267.080294</td>\n",
       "      <td>0</td>\n",
       "      <td>98</td>\n",
       "      <td>0</td>\n",
       "      <td>98</td>\n",
       "      <td>0.000000</td>\n",
       "    </tr>\n",
       "    <tr>\n",
       "      <td>3883</td>\n",
       "      <td>0</td>\n",
       "      <td>1.0</td>\n",
       "      <td>38</td>\n",
       "      <td>98</td>\n",
       "      <td>12.0</td>\n",
       "      <td>2233.600000</td>\n",
       "      <td>0</td>\n",
       "      <td>98</td>\n",
       "      <td>0</td>\n",
       "      <td>98</td>\n",
       "      <td>0.000000</td>\n",
       "    </tr>\n",
       "    <tr>\n",
       "      <td>4416</td>\n",
       "      <td>0</td>\n",
       "      <td>1.0</td>\n",
       "      <td>21</td>\n",
       "      <td>98</td>\n",
       "      <td>0.0</td>\n",
       "      <td>0.000000</td>\n",
       "      <td>0</td>\n",
       "      <td>98</td>\n",
       "      <td>0</td>\n",
       "      <td>98</td>\n",
       "      <td>0.000000</td>\n",
       "    </tr>\n",
       "    <tr>\n",
       "      <td>4704</td>\n",
       "      <td>0</td>\n",
       "      <td>1.0</td>\n",
       "      <td>21</td>\n",
       "      <td>98</td>\n",
       "      <td>0.0</td>\n",
       "      <td>2000.000000</td>\n",
       "      <td>0</td>\n",
       "      <td>98</td>\n",
       "      <td>0</td>\n",
       "      <td>98</td>\n",
       "      <td>0.000000</td>\n",
       "    </tr>\n",
       "    <tr>\n",
       "      <td>...</td>\n",
       "      <td>...</td>\n",
       "      <td>...</td>\n",
       "      <td>...</td>\n",
       "      <td>...</td>\n",
       "      <td>...</td>\n",
       "      <td>...</td>\n",
       "      <td>...</td>\n",
       "      <td>...</td>\n",
       "      <td>...</td>\n",
       "      <td>...</td>\n",
       "      <td>...</td>\n",
       "    </tr>\n",
       "    <tr>\n",
       "      <td>146667</td>\n",
       "      <td>1</td>\n",
       "      <td>1.0</td>\n",
       "      <td>25</td>\n",
       "      <td>98</td>\n",
       "      <td>0.0</td>\n",
       "      <td>2271.296667</td>\n",
       "      <td>0</td>\n",
       "      <td>98</td>\n",
       "      <td>0</td>\n",
       "      <td>98</td>\n",
       "      <td>0.759863</td>\n",
       "    </tr>\n",
       "    <tr>\n",
       "      <td>147180</td>\n",
       "      <td>1</td>\n",
       "      <td>1.0</td>\n",
       "      <td>68</td>\n",
       "      <td>98</td>\n",
       "      <td>255.0</td>\n",
       "      <td>49.210000</td>\n",
       "      <td>0</td>\n",
       "      <td>98</td>\n",
       "      <td>0</td>\n",
       "      <td>98</td>\n",
       "      <td>0.000000</td>\n",
       "    </tr>\n",
       "    <tr>\n",
       "      <td>148548</td>\n",
       "      <td>1</td>\n",
       "      <td>1.0</td>\n",
       "      <td>24</td>\n",
       "      <td>98</td>\n",
       "      <td>54.0</td>\n",
       "      <td>1067.420000</td>\n",
       "      <td>0</td>\n",
       "      <td>98</td>\n",
       "      <td>0</td>\n",
       "      <td>98</td>\n",
       "      <td>0.000000</td>\n",
       "    </tr>\n",
       "    <tr>\n",
       "      <td>148634</td>\n",
       "      <td>0</td>\n",
       "      <td>1.0</td>\n",
       "      <td>26</td>\n",
       "      <td>98</td>\n",
       "      <td>0.0</td>\n",
       "      <td>2000.000000</td>\n",
       "      <td>0</td>\n",
       "      <td>98</td>\n",
       "      <td>0</td>\n",
       "      <td>98</td>\n",
       "      <td>0.000000</td>\n",
       "    </tr>\n",
       "    <tr>\n",
       "      <td>148833</td>\n",
       "      <td>1</td>\n",
       "      <td>1.0</td>\n",
       "      <td>34</td>\n",
       "      <td>98</td>\n",
       "      <td>9.0</td>\n",
       "      <td>2171.500000</td>\n",
       "      <td>0</td>\n",
       "      <td>98</td>\n",
       "      <td>0</td>\n",
       "      <td>98</td>\n",
       "      <td>0.000000</td>\n",
       "    </tr>\n",
       "  </tbody>\n",
       "</table>\n",
       "<p>225 rows × 11 columns</p>\n",
       "</div>"
      ],
      "text/plain": [
       "        SeriousDlqin2yrs  RevolvingUtilizationOfUnsecuredLines  age  \\\n",
       "1732                   1                                   1.0   27   \n",
       "2285                   0                                   1.0   22   \n",
       "3883                   0                                   1.0   38   \n",
       "4416                   0                                   1.0   21   \n",
       "4704                   0                                   1.0   21   \n",
       "...                  ...                                   ...  ...   \n",
       "146667                 1                                   1.0   25   \n",
       "147180                 1                                   1.0   68   \n",
       "148548                 1                                   1.0   24   \n",
       "148634                 0                                   1.0   26   \n",
       "148833                 1                                   1.0   34   \n",
       "\n",
       "        NumberOfTime30-59DaysPastDueNotWorse  DebtRatio  MonthlyIncome  \\\n",
       "1732                                      98        0.0    2700.000000   \n",
       "2285                                      98        0.0    1267.080294   \n",
       "3883                                      98       12.0    2233.600000   \n",
       "4416                                      98        0.0       0.000000   \n",
       "4704                                      98        0.0    2000.000000   \n",
       "...                                      ...        ...            ...   \n",
       "146667                                    98        0.0    2271.296667   \n",
       "147180                                    98      255.0      49.210000   \n",
       "148548                                    98       54.0    1067.420000   \n",
       "148634                                    98        0.0    2000.000000   \n",
       "148833                                    98        9.0    2171.500000   \n",
       "\n",
       "        NumberOfOpenCreditLinesAndLoans  NumberOfTimes90DaysLate  \\\n",
       "1732                                  0                       98   \n",
       "2285                                  0                       98   \n",
       "3883                                  0                       98   \n",
       "4416                                  0                       98   \n",
       "4704                                  0                       98   \n",
       "...                                 ...                      ...   \n",
       "146667                                0                       98   \n",
       "147180                                0                       98   \n",
       "148548                                0                       98   \n",
       "148634                                0                       98   \n",
       "148833                                0                       98   \n",
       "\n",
       "        NumberRealEstateLoansOrLines  NumberOfTime60-89DaysPastDueNotWorse  \\\n",
       "1732                               0                                    98   \n",
       "2285                               0                                    98   \n",
       "3883                               0                                    98   \n",
       "4416                               0                                    98   \n",
       "4704                               0                                    98   \n",
       "...                              ...                                   ...   \n",
       "146667                             0                                    98   \n",
       "147180                             0                                    98   \n",
       "148548                             0                                    98   \n",
       "148634                             0                                    98   \n",
       "148833                             0                                    98   \n",
       "\n",
       "        NumberOfDependents  \n",
       "1732              0.000000  \n",
       "2285              0.000000  \n",
       "3883              0.000000  \n",
       "4416              0.000000  \n",
       "4704              0.000000  \n",
       "...                    ...  \n",
       "146667            0.759863  \n",
       "147180            0.000000  \n",
       "148548            0.000000  \n",
       "148634            0.000000  \n",
       "148833            0.000000  \n",
       "\n",
       "[225 rows x 11 columns]"
      ]
     },
     "execution_count": 29,
     "metadata": {},
     "output_type": "execute_result"
    }
   ],
   "source": [
    "data[data.loc[:,'NumberOfTimes90DaysLate']>90]"
   ]
  },
  {
   "cell_type": "code",
   "execution_count": 30,
   "metadata": {},
   "outputs": [
    {
     "data": {
      "text/plain": [
       "0     141107\n",
       "1       5232\n",
       "2       1555\n",
       "3        667\n",
       "4        291\n",
       "98       220\n",
       "5        131\n",
       "6         80\n",
       "7         38\n",
       "8         21\n",
       "9         19\n",
       "10         8\n",
       "11         5\n",
       "96         5\n",
       "13         4\n",
       "12         2\n",
       "14         2\n",
       "15         2\n",
       "17         1\n",
       "Name: NumberOfTimes90DaysLate, dtype: int64"
      ]
     },
     "execution_count": 30,
     "metadata": {},
     "output_type": "execute_result"
    }
   ],
   "source": [
    "data.loc[:,'NumberOfTimes90DaysLate'].value_counts()"
   ]
  },
  {
   "cell_type": "code",
   "execution_count": 31,
   "metadata": {},
   "outputs": [],
   "source": [
    "#删除违约次数大于90天的数据\n",
    "data=data[data.loc[:,'NumberOfTimes90DaysLate']<90]"
   ]
  },
  {
   "cell_type": "code",
   "execution_count": 32,
   "metadata": {},
   "outputs": [],
   "source": [
    "#恢复索引\n",
    "data.index=range(data.shape[0])"
   ]
  },
  {
   "cell_type": "code",
   "execution_count": 33,
   "metadata": {},
   "outputs": [
    {
     "name": "stdout",
     "output_type": "stream",
     "text": [
      "<class 'pandas.core.frame.DataFrame'>\n",
      "RangeIndex: 149165 entries, 0 to 149164\n",
      "Data columns (total 11 columns):\n",
      "SeriousDlqin2yrs                        149165 non-null int64\n",
      "RevolvingUtilizationOfUnsecuredLines    149165 non-null float64\n",
      "age                                     149165 non-null int64\n",
      "NumberOfTime30-59DaysPastDueNotWorse    149165 non-null int64\n",
      "DebtRatio                               149165 non-null float64\n",
      "MonthlyIncome                           149165 non-null float64\n",
      "NumberOfOpenCreditLinesAndLoans         149165 non-null int64\n",
      "NumberOfTimes90DaysLate                 149165 non-null int64\n",
      "NumberRealEstateLoansOrLines            149165 non-null int64\n",
      "NumberOfTime60-89DaysPastDueNotWorse    149165 non-null int64\n",
      "NumberOfDependents                      149165 non-null float64\n",
      "dtypes: float64(4), int64(7)\n",
      "memory usage: 12.5 MB\n"
     ]
    }
   ],
   "source": [
    "data.info()"
   ]
  },
  {
   "cell_type": "code",
   "execution_count": 34,
   "metadata": {},
   "outputs": [
    {
     "data": {
      "text/plain": [
       "(149165, 11)"
      ]
     },
     "execution_count": 34,
     "metadata": {},
     "output_type": "execute_result"
    }
   ],
   "source": [
    "data.shape"
   ]
  },
  {
   "cell_type": "code",
   "execution_count": 35,
   "metadata": {},
   "outputs": [
    {
     "name": "stdout",
     "output_type": "stream",
     "text": [
      "<class 'pandas.core.frame.DataFrame'>\n",
      "RangeIndex: 149165 entries, 0 to 149164\n",
      "Data columns (total 11 columns):\n",
      "SeriousDlqin2yrs                        149165 non-null int64\n",
      "RevolvingUtilizationOfUnsecuredLines    149165 non-null float64\n",
      "age                                     149165 non-null int64\n",
      "NumberOfTime30-59DaysPastDueNotWorse    149165 non-null int64\n",
      "DebtRatio                               149165 non-null float64\n",
      "MonthlyIncome                           149165 non-null float64\n",
      "NumberOfOpenCreditLinesAndLoans         149165 non-null int64\n",
      "NumberOfTimes90DaysLate                 149165 non-null int64\n",
      "NumberRealEstateLoansOrLines            149165 non-null int64\n",
      "NumberOfTime60-89DaysPastDueNotWorse    149165 non-null int64\n",
      "NumberOfDependents                      149165 non-null float64\n",
      "dtypes: float64(4), int64(7)\n",
      "memory usage: 12.5 MB\n"
     ]
    }
   ],
   "source": [
    "data.info()"
   ]
  },
  {
   "cell_type": "markdown",
   "metadata": {},
   "source": [
    "# 3.2.4 为什么不统一量纲，也不标准化数据分布？\n",
    "#### 因为是业务要求"
   ]
  },
  {
   "cell_type": "markdown",
   "metadata": {},
   "source": [
    "#  样本不均衡"
   ]
  },
  {
   "cell_type": "code",
   "execution_count": 36,
   "metadata": {},
   "outputs": [],
   "source": [
    "#\n",
    "X=data.iloc[:,1:]\n",
    "y=data.iloc[:,0]\n"
   ]
  },
  {
   "cell_type": "code",
   "execution_count": 37,
   "metadata": {},
   "outputs": [
    {
     "data": {
      "text/plain": [
       "0    139292\n",
       "1      9873\n",
       "Name: SeriousDlqin2yrs, dtype: int64"
      ]
     },
     "execution_count": 37,
     "metadata": {},
     "output_type": "execute_result"
    }
   ],
   "source": [
    "y.value_counts()"
   ]
  },
  {
   "cell_type": "code",
   "execution_count": 38,
   "metadata": {},
   "outputs": [
    {
     "name": "stdout",
     "output_type": "stream",
     "text": [
      "样本个数：149165;1占6.62%;0占93.38%\n"
     ]
    }
   ],
   "source": [
    "n_sample=X.shape[0]\n",
    "\n",
    "n_1_sample=y.value_counts()[1]#索引1的样本数\n",
    "n_0_sample=y.value_counts()[0]\n",
    "\n",
    "print('样本个数：{};1占{:.2%};0占{:.2%}'.format(n_sample,n_1_sample/n_sample,n_0_sample/n_sample))"
   ]
  },
  {
   "cell_type": "code",
   "execution_count": 39,
   "metadata": {},
   "outputs": [],
   "source": [
    "#之前提到过，逻辑回归使用最多的是上采样方法来平衡样本\n",
    "import imblearn\n",
    "# imblearn是专门用来处理不平衡数据集的库，处理样本不均衡问题中性能高过sklearn很多\n",
    "#  imblearn里面也是一个个的类，也需要进行实例化，fit拟合，和sklearn相似"
   ]
  },
  {
   "cell_type": "code",
   "execution_count": 40,
   "metadata": {},
   "outputs": [
    {
     "name": "stdout",
     "output_type": "stream",
     "text": [
      "样本个数：278584;1占50.00%;0占50.00%\n"
     ]
    }
   ],
   "source": [
    "from imblearn.over_sampling import SMOTE\n",
    "\n",
    "sm=SMOTE(random_state=42)#实例化\n",
    "X,y=sm.fit_sample(X,y)#返回上采样完毕后的特征和标签\n",
    "\n",
    "n_sample_=X.shape[0]\n",
    "\n",
    "n_1_sample=y.value_counts()[1]#索引1的样本数\n",
    "n_0_sample=y.value_counts()[0]\n",
    "\n",
    "print('样本个数：{};1占{:.2%};0占{:.2%}'.format(n_sample_,n_1_sample/n_sample_,n_0_sample/n_sample_))"
   ]
  },
  {
   "cell_type": "code",
   "execution_count": 41,
   "metadata": {},
   "outputs": [
    {
     "data": {
      "text/plain": [
       "(278584, 10)"
      ]
     },
     "execution_count": 41,
     "metadata": {},
     "output_type": "execute_result"
    }
   ],
   "source": [
    "X.shape"
   ]
  },
  {
   "cell_type": "code",
   "execution_count": 42,
   "metadata": {},
   "outputs": [
    {
     "data": {
      "text/plain": [
       "1    139292\n",
       "0    139292\n",
       "Name: SeriousDlqin2yrs, dtype: int64"
      ]
     },
     "execution_count": 42,
     "metadata": {},
     "output_type": "execute_result"
    }
   ],
   "source": [
    "pd.Series(y).value_counts()"
   ]
  },
  {
   "cell_type": "code",
   "execution_count": 43,
   "metadata": {},
   "outputs": [
    {
     "data": {
      "text/plain": [
       "1    139292\n",
       "0    139292\n",
       "Name: SeriousDlqin2yrs, dtype: int64"
      ]
     },
     "execution_count": 43,
     "metadata": {},
     "output_type": "execute_result"
    }
   ],
   "source": [
    "y.value_counts()"
   ]
  },
  {
   "cell_type": "markdown",
   "metadata": {},
   "source": [
    "# 3.2.6 分训练集和测试集"
   ]
  },
  {
   "cell_type": "code",
   "execution_count": 44,
   "metadata": {},
   "outputs": [],
   "source": [
    "from sklearn.model_selection import train_test_split\n",
    "X=pd.DataFrame(X)\n",
    "y=pd.DataFrame(y)\n",
    "\n",
    "X_train,X_vali,Y_train,Y_vali=train_test_split(X,y,test_size=0.3,random_state=420)\n",
    "\n",
    "model_data=pd.concat([Y_train,X_train],axis=1)\n",
    "model_data.index=range(model_data.shape[0])\n",
    "model_data.columns=data.columns\n",
    "\n",
    "model_data.to_csv(r'model_data.csv')\n",
    "\n",
    "vali_data=pd.concat([Y_vali,X_vali],axis=1)\n",
    "vali_data.index=range(vali_data.shape[0])\n",
    "vali_data.columns=data.columns\n",
    "vali_data.to_csv(r'vali_data.csv')"
   ]
  },
  {
   "cell_type": "code",
   "execution_count": 45,
   "metadata": {},
   "outputs": [
    {
     "data": {
      "text/html": [
       "<div>\n",
       "<style scoped>\n",
       "    .dataframe tbody tr th:only-of-type {\n",
       "        vertical-align: middle;\n",
       "    }\n",
       "\n",
       "    .dataframe tbody tr th {\n",
       "        vertical-align: top;\n",
       "    }\n",
       "\n",
       "    .dataframe thead th {\n",
       "        text-align: right;\n",
       "    }\n",
       "</style>\n",
       "<table border=\"1\" class=\"dataframe\">\n",
       "  <thead>\n",
       "    <tr style=\"text-align: right;\">\n",
       "      <th></th>\n",
       "      <th>SeriousDlqin2yrs</th>\n",
       "      <th>RevolvingUtilizationOfUnsecuredLines</th>\n",
       "      <th>age</th>\n",
       "      <th>NumberOfTime30-59DaysPastDueNotWorse</th>\n",
       "      <th>DebtRatio</th>\n",
       "      <th>MonthlyIncome</th>\n",
       "      <th>NumberOfOpenCreditLinesAndLoans</th>\n",
       "      <th>NumberOfTimes90DaysLate</th>\n",
       "      <th>NumberRealEstateLoansOrLines</th>\n",
       "      <th>NumberOfTime60-89DaysPastDueNotWorse</th>\n",
       "      <th>NumberOfDependents</th>\n",
       "    </tr>\n",
       "  </thead>\n",
       "  <tbody>\n",
       "    <tr>\n",
       "      <td>0</td>\n",
       "      <td>0</td>\n",
       "      <td>0.015404</td>\n",
       "      <td>53</td>\n",
       "      <td>0</td>\n",
       "      <td>0.121802</td>\n",
       "      <td>4728.00000</td>\n",
       "      <td>5</td>\n",
       "      <td>0</td>\n",
       "      <td>0</td>\n",
       "      <td>0</td>\n",
       "      <td>0.000000</td>\n",
       "    </tr>\n",
       "    <tr>\n",
       "      <td>1</td>\n",
       "      <td>0</td>\n",
       "      <td>0.168311</td>\n",
       "      <td>63</td>\n",
       "      <td>0</td>\n",
       "      <td>0.141964</td>\n",
       "      <td>1119.00000</td>\n",
       "      <td>5</td>\n",
       "      <td>0</td>\n",
       "      <td>0</td>\n",
       "      <td>0</td>\n",
       "      <td>0.000000</td>\n",
       "    </tr>\n",
       "    <tr>\n",
       "      <td>2</td>\n",
       "      <td>1</td>\n",
       "      <td>1.063570</td>\n",
       "      <td>39</td>\n",
       "      <td>1</td>\n",
       "      <td>0.417663</td>\n",
       "      <td>3500.00000</td>\n",
       "      <td>5</td>\n",
       "      <td>1</td>\n",
       "      <td>0</td>\n",
       "      <td>2</td>\n",
       "      <td>3.716057</td>\n",
       "    </tr>\n",
       "    <tr>\n",
       "      <td>3</td>\n",
       "      <td>0</td>\n",
       "      <td>0.088684</td>\n",
       "      <td>73</td>\n",
       "      <td>0</td>\n",
       "      <td>0.522822</td>\n",
       "      <td>5301.00000</td>\n",
       "      <td>11</td>\n",
       "      <td>0</td>\n",
       "      <td>2</td>\n",
       "      <td>0</td>\n",
       "      <td>0.000000</td>\n",
       "    </tr>\n",
       "    <tr>\n",
       "      <td>4</td>\n",
       "      <td>1</td>\n",
       "      <td>0.622999</td>\n",
       "      <td>53</td>\n",
       "      <td>0</td>\n",
       "      <td>0.423650</td>\n",
       "      <td>13000.00000</td>\n",
       "      <td>9</td>\n",
       "      <td>0</td>\n",
       "      <td>2</td>\n",
       "      <td>0</td>\n",
       "      <td>0.181999</td>\n",
       "    </tr>\n",
       "    <tr>\n",
       "      <td>...</td>\n",
       "      <td>...</td>\n",
       "      <td>...</td>\n",
       "      <td>...</td>\n",
       "      <td>...</td>\n",
       "      <td>...</td>\n",
       "      <td>...</td>\n",
       "      <td>...</td>\n",
       "      <td>...</td>\n",
       "      <td>...</td>\n",
       "      <td>...</td>\n",
       "      <td>...</td>\n",
       "    </tr>\n",
       "    <tr>\n",
       "      <td>195003</td>\n",
       "      <td>1</td>\n",
       "      <td>0.916269</td>\n",
       "      <td>32</td>\n",
       "      <td>2</td>\n",
       "      <td>0.548132</td>\n",
       "      <td>6000.00000</td>\n",
       "      <td>10</td>\n",
       "      <td>0</td>\n",
       "      <td>1</td>\n",
       "      <td>0</td>\n",
       "      <td>3.966830</td>\n",
       "    </tr>\n",
       "    <tr>\n",
       "      <td>195004</td>\n",
       "      <td>1</td>\n",
       "      <td>0.484728</td>\n",
       "      <td>50</td>\n",
       "      <td>1</td>\n",
       "      <td>0.370603</td>\n",
       "      <td>5258.00000</td>\n",
       "      <td>12</td>\n",
       "      <td>0</td>\n",
       "      <td>1</td>\n",
       "      <td>0</td>\n",
       "      <td>2.000000</td>\n",
       "    </tr>\n",
       "    <tr>\n",
       "      <td>195005</td>\n",
       "      <td>1</td>\n",
       "      <td>0.850447</td>\n",
       "      <td>46</td>\n",
       "      <td>0</td>\n",
       "      <td>0.562610</td>\n",
       "      <td>8000.00000</td>\n",
       "      <td>9</td>\n",
       "      <td>0</td>\n",
       "      <td>1</td>\n",
       "      <td>0</td>\n",
       "      <td>2.768793</td>\n",
       "    </tr>\n",
       "    <tr>\n",
       "      <td>195006</td>\n",
       "      <td>0</td>\n",
       "      <td>1.000000</td>\n",
       "      <td>64</td>\n",
       "      <td>0</td>\n",
       "      <td>0.364694</td>\n",
       "      <td>10309.00000</td>\n",
       "      <td>7</td>\n",
       "      <td>0</td>\n",
       "      <td>3</td>\n",
       "      <td>0</td>\n",
       "      <td>0.000000</td>\n",
       "    </tr>\n",
       "    <tr>\n",
       "      <td>195007</td>\n",
       "      <td>1</td>\n",
       "      <td>0.512881</td>\n",
       "      <td>53</td>\n",
       "      <td>0</td>\n",
       "      <td>1968.401488</td>\n",
       "      <td>0.17771</td>\n",
       "      <td>12</td>\n",
       "      <td>0</td>\n",
       "      <td>1</td>\n",
       "      <td>0</td>\n",
       "      <td>0.000000</td>\n",
       "    </tr>\n",
       "  </tbody>\n",
       "</table>\n",
       "<p>195008 rows × 11 columns</p>\n",
       "</div>"
      ],
      "text/plain": [
       "        SeriousDlqin2yrs  RevolvingUtilizationOfUnsecuredLines  age  \\\n",
       "0                      0                              0.015404   53   \n",
       "1                      0                              0.168311   63   \n",
       "2                      1                              1.063570   39   \n",
       "3                      0                              0.088684   73   \n",
       "4                      1                              0.622999   53   \n",
       "...                  ...                                   ...  ...   \n",
       "195003                 1                              0.916269   32   \n",
       "195004                 1                              0.484728   50   \n",
       "195005                 1                              0.850447   46   \n",
       "195006                 0                              1.000000   64   \n",
       "195007                 1                              0.512881   53   \n",
       "\n",
       "        NumberOfTime30-59DaysPastDueNotWorse    DebtRatio  MonthlyIncome  \\\n",
       "0                                          0     0.121802     4728.00000   \n",
       "1                                          0     0.141964     1119.00000   \n",
       "2                                          1     0.417663     3500.00000   \n",
       "3                                          0     0.522822     5301.00000   \n",
       "4                                          0     0.423650    13000.00000   \n",
       "...                                      ...          ...            ...   \n",
       "195003                                     2     0.548132     6000.00000   \n",
       "195004                                     1     0.370603     5258.00000   \n",
       "195005                                     0     0.562610     8000.00000   \n",
       "195006                                     0     0.364694    10309.00000   \n",
       "195007                                     0  1968.401488        0.17771   \n",
       "\n",
       "        NumberOfOpenCreditLinesAndLoans  NumberOfTimes90DaysLate  \\\n",
       "0                                     5                        0   \n",
       "1                                     5                        0   \n",
       "2                                     5                        1   \n",
       "3                                    11                        0   \n",
       "4                                     9                        0   \n",
       "...                                 ...                      ...   \n",
       "195003                               10                        0   \n",
       "195004                               12                        0   \n",
       "195005                                9                        0   \n",
       "195006                                7                        0   \n",
       "195007                               12                        0   \n",
       "\n",
       "        NumberRealEstateLoansOrLines  NumberOfTime60-89DaysPastDueNotWorse  \\\n",
       "0                                  0                                     0   \n",
       "1                                  0                                     0   \n",
       "2                                  0                                     2   \n",
       "3                                  2                                     0   \n",
       "4                                  2                                     0   \n",
       "...                              ...                                   ...   \n",
       "195003                             1                                     0   \n",
       "195004                             1                                     0   \n",
       "195005                             1                                     0   \n",
       "195006                             3                                     0   \n",
       "195007                             1                                     0   \n",
       "\n",
       "        NumberOfDependents  \n",
       "0                 0.000000  \n",
       "1                 0.000000  \n",
       "2                 3.716057  \n",
       "3                 0.000000  \n",
       "4                 0.181999  \n",
       "...                    ...  \n",
       "195003            3.966830  \n",
       "195004            2.000000  \n",
       "195005            2.768793  \n",
       "195006            0.000000  \n",
       "195007            0.000000  \n",
       "\n",
       "[195008 rows x 11 columns]"
      ]
     },
     "execution_count": 45,
     "metadata": {},
     "output_type": "execute_result"
    }
   ],
   "source": [
    "model_data"
   ]
  },
  {
   "cell_type": "code",
   "execution_count": 46,
   "metadata": {},
   "outputs": [],
   "source": [
    "model_data['age']=model_data['age'].astype('float')"
   ]
  },
  {
   "cell_type": "code",
   "execution_count": 47,
   "metadata": {},
   "outputs": [
    {
     "data": {
      "text/plain": [
       "dtype('float64')"
      ]
     },
     "execution_count": 47,
     "metadata": {},
     "output_type": "execute_result"
    }
   ],
   "source": [
    "model_data['age'].dtype"
   ]
  },
  {
   "cell_type": "code",
   "execution_count": 48,
   "metadata": {},
   "outputs": [
    {
     "data": {
      "text/plain": [
       "Index(['SeriousDlqin2yrs', 'RevolvingUtilizationOfUnsecuredLines', 'age',\n",
       "       'NumberOfTime30-59DaysPastDueNotWorse', 'DebtRatio', 'MonthlyIncome',\n",
       "       'NumberOfOpenCreditLinesAndLoans', 'NumberOfTimes90DaysLate',\n",
       "       'NumberRealEstateLoansOrLines', 'NumberOfTime60-89DaysPastDueNotWorse',\n",
       "       'NumberOfDependents'],\n",
       "      dtype='object')"
      ]
     },
     "execution_count": 48,
     "metadata": {},
     "output_type": "execute_result"
    }
   ],
   "source": [
    "data.columns"
   ]
  },
  {
   "cell_type": "code",
   "execution_count": 49,
   "metadata": {},
   "outputs": [
    {
     "data": {
      "text/html": [
       "<div>\n",
       "<style scoped>\n",
       "    .dataframe tbody tr th:only-of-type {\n",
       "        vertical-align: middle;\n",
       "    }\n",
       "\n",
       "    .dataframe tbody tr th {\n",
       "        vertical-align: top;\n",
       "    }\n",
       "\n",
       "    .dataframe thead th {\n",
       "        text-align: right;\n",
       "    }\n",
       "</style>\n",
       "<table border=\"1\" class=\"dataframe\">\n",
       "  <thead>\n",
       "    <tr style=\"text-align: right;\">\n",
       "      <th></th>\n",
       "      <th>SeriousDlqin2yrs</th>\n",
       "      <th>RevolvingUtilizationOfUnsecuredLines</th>\n",
       "      <th>age</th>\n",
       "      <th>NumberOfTime30-59DaysPastDueNotWorse</th>\n",
       "      <th>DebtRatio</th>\n",
       "      <th>MonthlyIncome</th>\n",
       "      <th>NumberOfOpenCreditLinesAndLoans</th>\n",
       "      <th>NumberOfTimes90DaysLate</th>\n",
       "      <th>NumberRealEstateLoansOrLines</th>\n",
       "      <th>NumberOfTime60-89DaysPastDueNotWorse</th>\n",
       "      <th>NumberOfDependents</th>\n",
       "    </tr>\n",
       "  </thead>\n",
       "  <tbody>\n",
       "    <tr>\n",
       "      <td>0</td>\n",
       "      <td>0</td>\n",
       "      <td>0.000000</td>\n",
       "      <td>58</td>\n",
       "      <td>0</td>\n",
       "      <td>0.000481</td>\n",
       "      <td>2080.000000</td>\n",
       "      <td>4</td>\n",
       "      <td>0</td>\n",
       "      <td>0</td>\n",
       "      <td>0</td>\n",
       "      <td>0.000000</td>\n",
       "    </tr>\n",
       "    <tr>\n",
       "      <td>1</td>\n",
       "      <td>1</td>\n",
       "      <td>0.588870</td>\n",
       "      <td>44</td>\n",
       "      <td>0</td>\n",
       "      <td>0.198193</td>\n",
       "      <td>29373.217358</td>\n",
       "      <td>13</td>\n",
       "      <td>0</td>\n",
       "      <td>2</td>\n",
       "      <td>0</td>\n",
       "      <td>2.504880</td>\n",
       "    </tr>\n",
       "    <tr>\n",
       "      <td>2</td>\n",
       "      <td>0</td>\n",
       "      <td>0.057460</td>\n",
       "      <td>64</td>\n",
       "      <td>0</td>\n",
       "      <td>0.021830</td>\n",
       "      <td>6000.000000</td>\n",
       "      <td>4</td>\n",
       "      <td>0</td>\n",
       "      <td>0</td>\n",
       "      <td>0</td>\n",
       "      <td>0.000000</td>\n",
       "    </tr>\n",
       "    <tr>\n",
       "      <td>3</td>\n",
       "      <td>0</td>\n",
       "      <td>0.011585</td>\n",
       "      <td>52</td>\n",
       "      <td>0</td>\n",
       "      <td>0.139685</td>\n",
       "      <td>5583.000000</td>\n",
       "      <td>8</td>\n",
       "      <td>0</td>\n",
       "      <td>1</td>\n",
       "      <td>0</td>\n",
       "      <td>0.000000</td>\n",
       "    </tr>\n",
       "    <tr>\n",
       "      <td>4</td>\n",
       "      <td>1</td>\n",
       "      <td>0.663034</td>\n",
       "      <td>53</td>\n",
       "      <td>0</td>\n",
       "      <td>0.399663</td>\n",
       "      <td>4800.000000</td>\n",
       "      <td>12</td>\n",
       "      <td>0</td>\n",
       "      <td>0</td>\n",
       "      <td>0</td>\n",
       "      <td>0.201706</td>\n",
       "    </tr>\n",
       "    <tr>\n",
       "      <td>...</td>\n",
       "      <td>...</td>\n",
       "      <td>...</td>\n",
       "      <td>...</td>\n",
       "      <td>...</td>\n",
       "      <td>...</td>\n",
       "      <td>...</td>\n",
       "      <td>...</td>\n",
       "      <td>...</td>\n",
       "      <td>...</td>\n",
       "      <td>...</td>\n",
       "      <td>...</td>\n",
       "    </tr>\n",
       "    <tr>\n",
       "      <td>83571</td>\n",
       "      <td>1</td>\n",
       "      <td>1.177297</td>\n",
       "      <td>46</td>\n",
       "      <td>0</td>\n",
       "      <td>9.061839</td>\n",
       "      <td>1189.138498</td>\n",
       "      <td>1</td>\n",
       "      <td>0</td>\n",
       "      <td>0</td>\n",
       "      <td>0</td>\n",
       "      <td>0.097132</td>\n",
       "    </tr>\n",
       "    <tr>\n",
       "      <td>83572</td>\n",
       "      <td>1</td>\n",
       "      <td>0.865386</td>\n",
       "      <td>40</td>\n",
       "      <td>2</td>\n",
       "      <td>0.460507</td>\n",
       "      <td>3900.000000</td>\n",
       "      <td>11</td>\n",
       "      <td>0</td>\n",
       "      <td>0</td>\n",
       "      <td>0</td>\n",
       "      <td>4.592942</td>\n",
       "    </tr>\n",
       "    <tr>\n",
       "      <td>83573</td>\n",
       "      <td>1</td>\n",
       "      <td>0.876731</td>\n",
       "      <td>41</td>\n",
       "      <td>0</td>\n",
       "      <td>0.115744</td>\n",
       "      <td>6116.265023</td>\n",
       "      <td>3</td>\n",
       "      <td>0</td>\n",
       "      <td>0</td>\n",
       "      <td>0</td>\n",
       "      <td>2.132511</td>\n",
       "    </tr>\n",
       "    <tr>\n",
       "      <td>83574</td>\n",
       "      <td>1</td>\n",
       "      <td>0.966116</td>\n",
       "      <td>41</td>\n",
       "      <td>1</td>\n",
       "      <td>0.113281</td>\n",
       "      <td>3800.000000</td>\n",
       "      <td>3</td>\n",
       "      <td>3</td>\n",
       "      <td>0</td>\n",
       "      <td>0</td>\n",
       "      <td>3.000000</td>\n",
       "    </tr>\n",
       "    <tr>\n",
       "      <td>83575</td>\n",
       "      <td>1</td>\n",
       "      <td>0.698284</td>\n",
       "      <td>48</td>\n",
       "      <td>3</td>\n",
       "      <td>0.477207</td>\n",
       "      <td>5200.000000</td>\n",
       "      <td>12</td>\n",
       "      <td>1</td>\n",
       "      <td>1</td>\n",
       "      <td>2</td>\n",
       "      <td>1.340894</td>\n",
       "    </tr>\n",
       "  </tbody>\n",
       "</table>\n",
       "<p>83576 rows × 11 columns</p>\n",
       "</div>"
      ],
      "text/plain": [
       "       SeriousDlqin2yrs  RevolvingUtilizationOfUnsecuredLines  age  \\\n",
       "0                     0                              0.000000   58   \n",
       "1                     1                              0.588870   44   \n",
       "2                     0                              0.057460   64   \n",
       "3                     0                              0.011585   52   \n",
       "4                     1                              0.663034   53   \n",
       "...                 ...                                   ...  ...   \n",
       "83571                 1                              1.177297   46   \n",
       "83572                 1                              0.865386   40   \n",
       "83573                 1                              0.876731   41   \n",
       "83574                 1                              0.966116   41   \n",
       "83575                 1                              0.698284   48   \n",
       "\n",
       "       NumberOfTime30-59DaysPastDueNotWorse  DebtRatio  MonthlyIncome  \\\n",
       "0                                         0   0.000481    2080.000000   \n",
       "1                                         0   0.198193   29373.217358   \n",
       "2                                         0   0.021830    6000.000000   \n",
       "3                                         0   0.139685    5583.000000   \n",
       "4                                         0   0.399663    4800.000000   \n",
       "...                                     ...        ...            ...   \n",
       "83571                                     0   9.061839    1189.138498   \n",
       "83572                                     2   0.460507    3900.000000   \n",
       "83573                                     0   0.115744    6116.265023   \n",
       "83574                                     1   0.113281    3800.000000   \n",
       "83575                                     3   0.477207    5200.000000   \n",
       "\n",
       "       NumberOfOpenCreditLinesAndLoans  NumberOfTimes90DaysLate  \\\n",
       "0                                    4                        0   \n",
       "1                                   13                        0   \n",
       "2                                    4                        0   \n",
       "3                                    8                        0   \n",
       "4                                   12                        0   \n",
       "...                                ...                      ...   \n",
       "83571                                1                        0   \n",
       "83572                               11                        0   \n",
       "83573                                3                        0   \n",
       "83574                                3                        3   \n",
       "83575                               12                        1   \n",
       "\n",
       "       NumberRealEstateLoansOrLines  NumberOfTime60-89DaysPastDueNotWorse  \\\n",
       "0                                 0                                     0   \n",
       "1                                 2                                     0   \n",
       "2                                 0                                     0   \n",
       "3                                 1                                     0   \n",
       "4                                 0                                     0   \n",
       "...                             ...                                   ...   \n",
       "83571                             0                                     0   \n",
       "83572                             0                                     0   \n",
       "83573                             0                                     0   \n",
       "83574                             0                                     0   \n",
       "83575                             1                                     2   \n",
       "\n",
       "       NumberOfDependents  \n",
       "0                0.000000  \n",
       "1                2.504880  \n",
       "2                0.000000  \n",
       "3                0.000000  \n",
       "4                0.201706  \n",
       "...                   ...  \n",
       "83571            0.097132  \n",
       "83572            4.592942  \n",
       "83573            2.132511  \n",
       "83574            3.000000  \n",
       "83575            1.340894  \n",
       "\n",
       "[83576 rows x 11 columns]"
      ]
     },
     "execution_count": 49,
     "metadata": {},
     "output_type": "execute_result"
    }
   ],
   "source": [
    "vali_data"
   ]
  },
  {
   "cell_type": "markdown",
   "metadata": {},
   "source": [
    "# 3.3 分箱"
   ]
  },
  {
   "cell_type": "markdown",
   "metadata": {},
   "source": [
    "## 3.3.1 等频分箱\n"
   ]
  },
  {
   "cell_type": "code",
   "execution_count": 50,
   "metadata": {},
   "outputs": [
    {
     "data": {
      "text/plain": [
       "0         53.0\n",
       "1         63.0\n",
       "2         39.0\n",
       "3         73.0\n",
       "4         53.0\n",
       "          ... \n",
       "195003    32.0\n",
       "195004    50.0\n",
       "195005    46.0\n",
       "195006    64.0\n",
       "195007    53.0\n",
       "Name: age, Length: 195008, dtype: float64"
      ]
     },
     "execution_count": 50,
     "metadata": {},
     "output_type": "execute_result"
    }
   ],
   "source": [
    "model_data['age']"
   ]
  },
  {
   "cell_type": "code",
   "execution_count": 51,
   "metadata": {},
   "outputs": [
    {
     "data": {
      "text/plain": [
       "\"\\npd.qcut,基于分位数的分箱函数，本质是将连续型变量离散化\\n只能处理一维数据，返回箱子的上限和下限\\n参数q:要分箱的个数\\n参数retbins=True来要求同时返回结构为索引为样本索引，元素为分到的Series\\n现在返回两个值：每个样本属于哪个箱子，以及所有箱子的上限和下限\\n\\n\\n注：dataframe['列名']#当这个列存在的时候，就是索引\\n当这个列不存在的时候，DataFrame会自动生成叫做这个列名的一个新的列\\n\""
      ]
     },
     "execution_count": 51,
     "metadata": {},
     "output_type": "execute_result"
    }
   ],
   "source": [
    "# 按照等频对需要分箱的列进行分箱\n",
    "model_data['qcut'],updown=pd.qcut(model_data['age'],retbins=True,q=20)\n",
    "\"\"\"\n",
    "pd.qcut,基于分位数的分箱函数，本质是将连续型变量离散化\n",
    "只能处理一维数据，返回箱子的上限和下限\n",
    "参数q:要分箱的个数\n",
    "参数retbins=True来要求同时返回结构为索引为样本索引，元素为分到的Series\n",
    "现在返回两个值：每个样本属于哪个箱子，以及所有箱子的上限和下限\n",
    "\n",
    "\n",
    "注：dataframe['列名']#当这个列存在的时候，就是索引\n",
    "当这个列不存在的时候，DataFrame会自动生成叫做这个列名的一个新的列\n",
    "\"\"\"\n",
    "\n",
    "#model_data['qcut']：在这里是让model_data新添加一列叫做“分箱”，这一列其实就是每个样本所对应的箱子\n",
    "#updown：所有箱子的上限和下限\n"
   ]
  },
  {
   "cell_type": "code",
   "execution_count": 52,
   "metadata": {},
   "outputs": [
    {
     "data": {
      "text/html": [
       "<div>\n",
       "<style scoped>\n",
       "    .dataframe tbody tr th:only-of-type {\n",
       "        vertical-align: middle;\n",
       "    }\n",
       "\n",
       "    .dataframe tbody tr th {\n",
       "        vertical-align: top;\n",
       "    }\n",
       "\n",
       "    .dataframe thead th {\n",
       "        text-align: right;\n",
       "    }\n",
       "</style>\n",
       "<table border=\"1\" class=\"dataframe\">\n",
       "  <thead>\n",
       "    <tr style=\"text-align: right;\">\n",
       "      <th></th>\n",
       "      <th>SeriousDlqin2yrs</th>\n",
       "      <th>RevolvingUtilizationOfUnsecuredLines</th>\n",
       "      <th>age</th>\n",
       "      <th>NumberOfTime30-59DaysPastDueNotWorse</th>\n",
       "      <th>DebtRatio</th>\n",
       "      <th>MonthlyIncome</th>\n",
       "      <th>NumberOfOpenCreditLinesAndLoans</th>\n",
       "      <th>NumberOfTimes90DaysLate</th>\n",
       "      <th>NumberRealEstateLoansOrLines</th>\n",
       "      <th>NumberOfTime60-89DaysPastDueNotWorse</th>\n",
       "      <th>NumberOfDependents</th>\n",
       "      <th>qcut</th>\n",
       "    </tr>\n",
       "  </thead>\n",
       "  <tbody>\n",
       "    <tr>\n",
       "      <td>0</td>\n",
       "      <td>0</td>\n",
       "      <td>0.015404</td>\n",
       "      <td>53.0</td>\n",
       "      <td>0</td>\n",
       "      <td>0.121802</td>\n",
       "      <td>4728.0</td>\n",
       "      <td>5</td>\n",
       "      <td>0</td>\n",
       "      <td>0</td>\n",
       "      <td>0</td>\n",
       "      <td>0.000000</td>\n",
       "      <td>(52.0, 54.0]</td>\n",
       "    </tr>\n",
       "    <tr>\n",
       "      <td>1</td>\n",
       "      <td>0</td>\n",
       "      <td>0.168311</td>\n",
       "      <td>63.0</td>\n",
       "      <td>0</td>\n",
       "      <td>0.141964</td>\n",
       "      <td>1119.0</td>\n",
       "      <td>5</td>\n",
       "      <td>0</td>\n",
       "      <td>0</td>\n",
       "      <td>0</td>\n",
       "      <td>0.000000</td>\n",
       "      <td>(61.0, 64.0]</td>\n",
       "    </tr>\n",
       "    <tr>\n",
       "      <td>2</td>\n",
       "      <td>1</td>\n",
       "      <td>1.063570</td>\n",
       "      <td>39.0</td>\n",
       "      <td>1</td>\n",
       "      <td>0.417663</td>\n",
       "      <td>3500.0</td>\n",
       "      <td>5</td>\n",
       "      <td>1</td>\n",
       "      <td>0</td>\n",
       "      <td>2</td>\n",
       "      <td>3.716057</td>\n",
       "      <td>(36.0, 39.0]</td>\n",
       "    </tr>\n",
       "    <tr>\n",
       "      <td>3</td>\n",
       "      <td>0</td>\n",
       "      <td>0.088684</td>\n",
       "      <td>73.0</td>\n",
       "      <td>0</td>\n",
       "      <td>0.522822</td>\n",
       "      <td>5301.0</td>\n",
       "      <td>11</td>\n",
       "      <td>0</td>\n",
       "      <td>2</td>\n",
       "      <td>0</td>\n",
       "      <td>0.000000</td>\n",
       "      <td>(68.0, 74.0]</td>\n",
       "    </tr>\n",
       "    <tr>\n",
       "      <td>4</td>\n",
       "      <td>1</td>\n",
       "      <td>0.622999</td>\n",
       "      <td>53.0</td>\n",
       "      <td>0</td>\n",
       "      <td>0.423650</td>\n",
       "      <td>13000.0</td>\n",
       "      <td>9</td>\n",
       "      <td>0</td>\n",
       "      <td>2</td>\n",
       "      <td>0</td>\n",
       "      <td>0.181999</td>\n",
       "      <td>(52.0, 54.0]</td>\n",
       "    </tr>\n",
       "  </tbody>\n",
       "</table>\n",
       "</div>"
      ],
      "text/plain": [
       "   SeriousDlqin2yrs  RevolvingUtilizationOfUnsecuredLines   age  \\\n",
       "0                 0                              0.015404  53.0   \n",
       "1                 0                              0.168311  63.0   \n",
       "2                 1                              1.063570  39.0   \n",
       "3                 0                              0.088684  73.0   \n",
       "4                 1                              0.622999  53.0   \n",
       "\n",
       "   NumberOfTime30-59DaysPastDueNotWorse  DebtRatio  MonthlyIncome  \\\n",
       "0                                     0   0.121802         4728.0   \n",
       "1                                     0   0.141964         1119.0   \n",
       "2                                     1   0.417663         3500.0   \n",
       "3                                     0   0.522822         5301.0   \n",
       "4                                     0   0.423650        13000.0   \n",
       "\n",
       "   NumberOfOpenCreditLinesAndLoans  NumberOfTimes90DaysLate  \\\n",
       "0                                5                        0   \n",
       "1                                5                        0   \n",
       "2                                5                        1   \n",
       "3                               11                        0   \n",
       "4                                9                        0   \n",
       "\n",
       "   NumberRealEstateLoansOrLines  NumberOfTime60-89DaysPastDueNotWorse  \\\n",
       "0                             0                                     0   \n",
       "1                             0                                     0   \n",
       "2                             0                                     2   \n",
       "3                             2                                     0   \n",
       "4                             2                                     0   \n",
       "\n",
       "   NumberOfDependents          qcut  \n",
       "0            0.000000  (52.0, 54.0]  \n",
       "1            0.000000  (61.0, 64.0]  \n",
       "2            3.716057  (36.0, 39.0]  \n",
       "3            0.000000  (68.0, 74.0]  \n",
       "4            0.181999  (52.0, 54.0]  "
      ]
     },
     "execution_count": 52,
     "metadata": {},
     "output_type": "execute_result"
    }
   ],
   "source": [
    "model_data.head()"
   ]
  },
  {
   "cell_type": "code",
   "execution_count": 53,
   "metadata": {},
   "outputs": [
    {
     "data": {
      "text/plain": [
       "0         (52.0, 54.0]\n",
       "1         (61.0, 64.0]\n",
       "2         (36.0, 39.0]\n",
       "3         (68.0, 74.0]\n",
       "4         (52.0, 54.0]\n",
       "              ...     \n",
       "195003    (31.0, 34.0]\n",
       "195004    (48.0, 50.0]\n",
       "195005    (45.0, 46.0]\n",
       "195006    (61.0, 64.0]\n",
       "195007    (52.0, 54.0]\n",
       "Name: qcut, Length: 195008, dtype: category\n",
       "Categories (20, interval[float64]): [(20.999, 28.0] < (28.0, 31.0] < (31.0, 34.0] < (34.0, 36.0] ... (61.0, 64.0] < (64.0, 68.0] < (68.0, 74.0] < (74.0, 107.0]]"
      ]
     },
     "execution_count": 53,
     "metadata": {},
     "output_type": "execute_result"
    }
   ],
   "source": [
    "model_data['qcut']\n",
    "#在这里是让model_data新添加一列叫做“分箱”，这一列其实就是每个样本所对应的箱子\n",
    "#updown：所有箱子的上限和下限"
   ]
  },
  {
   "cell_type": "code",
   "execution_count": 54,
   "metadata": {},
   "outputs": [
    {
     "data": {
      "text/plain": [
       "(36.0, 39.0]      12692\n",
       "(20.999, 28.0]    11752\n",
       "(58.0, 61.0]      11380\n",
       "(48.0, 50.0]      11085\n",
       "(46.0, 48.0]      10966\n",
       "(31.0, 34.0]      10816\n",
       "(50.0, 52.0]      10548\n",
       "(43.0, 45.0]      10351\n",
       "(61.0, 64.0]      10177\n",
       "(39.0, 41.0]       9809\n",
       "(52.0, 54.0]       9711\n",
       "(41.0, 43.0]       9691\n",
       "(28.0, 31.0]       9530\n",
       "(74.0, 107.0]      9138\n",
       "(64.0, 68.0]       8909\n",
       "(54.0, 56.0]       8700\n",
       "(68.0, 74.0]       8658\n",
       "(56.0, 58.0]       7898\n",
       "(34.0, 36.0]       7516\n",
       "(45.0, 46.0]       5681\n",
       "Name: qcut, dtype: int64"
      ]
     },
     "execution_count": 54,
     "metadata": {},
     "output_type": "execute_result"
    }
   ],
   "source": [
    "model_data['qcut'].value_counts()"
   ]
  },
  {
   "cell_type": "code",
   "execution_count": 55,
   "metadata": {},
   "outputs": [
    {
     "data": {
      "text/plain": [
       "array([ 21.,  28.,  31.,  34.,  36.,  39.,  41.,  43.,  45.,  46.,  48.,\n",
       "        50.,  52.,  54.,  56.,  58.,  61.,  64.,  68.,  74., 107.])"
      ]
     },
     "execution_count": 55,
     "metadata": {},
     "output_type": "execute_result"
    }
   ],
   "source": [
    "updown#所有箱子的上限和下限"
   ]
  },
  {
   "cell_type": "code",
   "execution_count": 56,
   "metadata": {},
   "outputs": [
    {
     "data": {
      "text/plain": [
       "array([ 28.,  31.,  34.,  36.,  39.,  41.,  43.,  45.,  46.,  48.,  50.,\n",
       "        52.,  54.,  56.,  58.,  61.,  64.,  68.,  74., 107.])"
      ]
     },
     "execution_count": 56,
     "metadata": {},
     "output_type": "execute_result"
    }
   ],
   "source": [
    "updown[1:]"
   ]
  },
  {
   "cell_type": "code",
   "execution_count": 57,
   "metadata": {},
   "outputs": [
    {
     "data": {
      "text/plain": [
       "(21,)"
      ]
     },
     "execution_count": 57,
     "metadata": {},
     "output_type": "execute_result"
    }
   ],
   "source": [
    "updown.shape"
   ]
  },
  {
   "cell_type": "code",
   "execution_count": 58,
   "metadata": {},
   "outputs": [],
   "source": [
    "#统计每个分段0，1的数量\n",
    "#这里使用了数据透视表的功能groupby\n",
    "coount_y0=model_data[model_data['SeriousDlqin2yrs']==0].groupby(by='qcut').count()['SeriousDlqin2yrs']\n",
    "coount_y1=model_data[model_data['SeriousDlqin2yrs']==1].groupby(by='qcut').count()['SeriousDlqin2yrs']\n",
    "\n"
   ]
  },
  {
   "cell_type": "code",
   "execution_count": 59,
   "metadata": {},
   "outputs": [
    {
     "data": {
      "text/html": [
       "<div>\n",
       "<style scoped>\n",
       "    .dataframe tbody tr th:only-of-type {\n",
       "        vertical-align: middle;\n",
       "    }\n",
       "\n",
       "    .dataframe tbody tr th {\n",
       "        vertical-align: top;\n",
       "    }\n",
       "\n",
       "    .dataframe thead th {\n",
       "        text-align: right;\n",
       "    }\n",
       "</style>\n",
       "<table border=\"1\" class=\"dataframe\">\n",
       "  <thead>\n",
       "    <tr style=\"text-align: right;\">\n",
       "      <th></th>\n",
       "      <th>SeriousDlqin2yrs</th>\n",
       "      <th>RevolvingUtilizationOfUnsecuredLines</th>\n",
       "      <th>age</th>\n",
       "      <th>NumberOfTime30-59DaysPastDueNotWorse</th>\n",
       "      <th>DebtRatio</th>\n",
       "      <th>MonthlyIncome</th>\n",
       "      <th>NumberOfOpenCreditLinesAndLoans</th>\n",
       "      <th>NumberOfTimes90DaysLate</th>\n",
       "      <th>NumberRealEstateLoansOrLines</th>\n",
       "      <th>NumberOfTime60-89DaysPastDueNotWorse</th>\n",
       "      <th>NumberOfDependents</th>\n",
       "      <th>qcut</th>\n",
       "    </tr>\n",
       "  </thead>\n",
       "  <tbody>\n",
       "    <tr>\n",
       "      <td>0</td>\n",
       "      <td>0</td>\n",
       "      <td>0.015404</td>\n",
       "      <td>53.0</td>\n",
       "      <td>0</td>\n",
       "      <td>0.121802</td>\n",
       "      <td>4728.00</td>\n",
       "      <td>5</td>\n",
       "      <td>0</td>\n",
       "      <td>0</td>\n",
       "      <td>0</td>\n",
       "      <td>0.0</td>\n",
       "      <td>(52.0, 54.0]</td>\n",
       "    </tr>\n",
       "    <tr>\n",
       "      <td>1</td>\n",
       "      <td>0</td>\n",
       "      <td>0.168311</td>\n",
       "      <td>63.0</td>\n",
       "      <td>0</td>\n",
       "      <td>0.141964</td>\n",
       "      <td>1119.00</td>\n",
       "      <td>5</td>\n",
       "      <td>0</td>\n",
       "      <td>0</td>\n",
       "      <td>0</td>\n",
       "      <td>0.0</td>\n",
       "      <td>(61.0, 64.0]</td>\n",
       "    </tr>\n",
       "    <tr>\n",
       "      <td>3</td>\n",
       "      <td>0</td>\n",
       "      <td>0.088684</td>\n",
       "      <td>73.0</td>\n",
       "      <td>0</td>\n",
       "      <td>0.522822</td>\n",
       "      <td>5301.00</td>\n",
       "      <td>11</td>\n",
       "      <td>0</td>\n",
       "      <td>2</td>\n",
       "      <td>0</td>\n",
       "      <td>0.0</td>\n",
       "      <td>(68.0, 74.0]</td>\n",
       "    </tr>\n",
       "    <tr>\n",
       "      <td>5</td>\n",
       "      <td>0</td>\n",
       "      <td>0.364157</td>\n",
       "      <td>42.0</td>\n",
       "      <td>0</td>\n",
       "      <td>0.228036</td>\n",
       "      <td>23333.00</td>\n",
       "      <td>10</td>\n",
       "      <td>0</td>\n",
       "      <td>1</td>\n",
       "      <td>0</td>\n",
       "      <td>2.0</td>\n",
       "      <td>(41.0, 43.0]</td>\n",
       "    </tr>\n",
       "    <tr>\n",
       "      <td>7</td>\n",
       "      <td>0</td>\n",
       "      <td>1.000000</td>\n",
       "      <td>26.0</td>\n",
       "      <td>0</td>\n",
       "      <td>25.000000</td>\n",
       "      <td>0.61</td>\n",
       "      <td>0</td>\n",
       "      <td>0</td>\n",
       "      <td>0</td>\n",
       "      <td>0</td>\n",
       "      <td>0.0</td>\n",
       "      <td>(20.999, 28.0]</td>\n",
       "    </tr>\n",
       "    <tr>\n",
       "      <td>...</td>\n",
       "      <td>...</td>\n",
       "      <td>...</td>\n",
       "      <td>...</td>\n",
       "      <td>...</td>\n",
       "      <td>...</td>\n",
       "      <td>...</td>\n",
       "      <td>...</td>\n",
       "      <td>...</td>\n",
       "      <td>...</td>\n",
       "      <td>...</td>\n",
       "      <td>...</td>\n",
       "      <td>...</td>\n",
       "    </tr>\n",
       "    <tr>\n",
       "      <td>194996</td>\n",
       "      <td>0</td>\n",
       "      <td>0.938866</td>\n",
       "      <td>48.0</td>\n",
       "      <td>0</td>\n",
       "      <td>0.611371</td>\n",
       "      <td>3200.00</td>\n",
       "      <td>9</td>\n",
       "      <td>0</td>\n",
       "      <td>1</td>\n",
       "      <td>1</td>\n",
       "      <td>1.0</td>\n",
       "      <td>(46.0, 48.0]</td>\n",
       "    </tr>\n",
       "    <tr>\n",
       "      <td>194997</td>\n",
       "      <td>0</td>\n",
       "      <td>0.000000</td>\n",
       "      <td>79.0</td>\n",
       "      <td>0</td>\n",
       "      <td>0.734151</td>\n",
       "      <td>4400.00</td>\n",
       "      <td>6</td>\n",
       "      <td>0</td>\n",
       "      <td>1</td>\n",
       "      <td>0</td>\n",
       "      <td>0.0</td>\n",
       "      <td>(74.0, 107.0]</td>\n",
       "    </tr>\n",
       "    <tr>\n",
       "      <td>194999</td>\n",
       "      <td>0</td>\n",
       "      <td>0.001234</td>\n",
       "      <td>78.0</td>\n",
       "      <td>0</td>\n",
       "      <td>0.000476</td>\n",
       "      <td>10500.00</td>\n",
       "      <td>13</td>\n",
       "      <td>0</td>\n",
       "      <td>0</td>\n",
       "      <td>0</td>\n",
       "      <td>0.0</td>\n",
       "      <td>(74.0, 107.0]</td>\n",
       "    </tr>\n",
       "    <tr>\n",
       "      <td>195002</td>\n",
       "      <td>0</td>\n",
       "      <td>0.227820</td>\n",
       "      <td>77.0</td>\n",
       "      <td>0</td>\n",
       "      <td>0.554916</td>\n",
       "      <td>6600.00</td>\n",
       "      <td>24</td>\n",
       "      <td>0</td>\n",
       "      <td>2</td>\n",
       "      <td>0</td>\n",
       "      <td>0.0</td>\n",
       "      <td>(74.0, 107.0]</td>\n",
       "    </tr>\n",
       "    <tr>\n",
       "      <td>195006</td>\n",
       "      <td>0</td>\n",
       "      <td>1.000000</td>\n",
       "      <td>64.0</td>\n",
       "      <td>0</td>\n",
       "      <td>0.364694</td>\n",
       "      <td>10309.00</td>\n",
       "      <td>7</td>\n",
       "      <td>0</td>\n",
       "      <td>3</td>\n",
       "      <td>0</td>\n",
       "      <td>0.0</td>\n",
       "      <td>(61.0, 64.0]</td>\n",
       "    </tr>\n",
       "  </tbody>\n",
       "</table>\n",
       "<p>97691 rows × 12 columns</p>\n",
       "</div>"
      ],
      "text/plain": [
       "        SeriousDlqin2yrs  RevolvingUtilizationOfUnsecuredLines   age  \\\n",
       "0                      0                              0.015404  53.0   \n",
       "1                      0                              0.168311  63.0   \n",
       "3                      0                              0.088684  73.0   \n",
       "5                      0                              0.364157  42.0   \n",
       "7                      0                              1.000000  26.0   \n",
       "...                  ...                                   ...   ...   \n",
       "194996                 0                              0.938866  48.0   \n",
       "194997                 0                              0.000000  79.0   \n",
       "194999                 0                              0.001234  78.0   \n",
       "195002                 0                              0.227820  77.0   \n",
       "195006                 0                              1.000000  64.0   \n",
       "\n",
       "        NumberOfTime30-59DaysPastDueNotWorse  DebtRatio  MonthlyIncome  \\\n",
       "0                                          0   0.121802        4728.00   \n",
       "1                                          0   0.141964        1119.00   \n",
       "3                                          0   0.522822        5301.00   \n",
       "5                                          0   0.228036       23333.00   \n",
       "7                                          0  25.000000           0.61   \n",
       "...                                      ...        ...            ...   \n",
       "194996                                     0   0.611371        3200.00   \n",
       "194997                                     0   0.734151        4400.00   \n",
       "194999                                     0   0.000476       10500.00   \n",
       "195002                                     0   0.554916        6600.00   \n",
       "195006                                     0   0.364694       10309.00   \n",
       "\n",
       "        NumberOfOpenCreditLinesAndLoans  NumberOfTimes90DaysLate  \\\n",
       "0                                     5                        0   \n",
       "1                                     5                        0   \n",
       "3                                    11                        0   \n",
       "5                                    10                        0   \n",
       "7                                     0                        0   \n",
       "...                                 ...                      ...   \n",
       "194996                                9                        0   \n",
       "194997                                6                        0   \n",
       "194999                               13                        0   \n",
       "195002                               24                        0   \n",
       "195006                                7                        0   \n",
       "\n",
       "        NumberRealEstateLoansOrLines  NumberOfTime60-89DaysPastDueNotWorse  \\\n",
       "0                                  0                                     0   \n",
       "1                                  0                                     0   \n",
       "3                                  2                                     0   \n",
       "5                                  1                                     0   \n",
       "7                                  0                                     0   \n",
       "...                              ...                                   ...   \n",
       "194996                             1                                     1   \n",
       "194997                             1                                     0   \n",
       "194999                             0                                     0   \n",
       "195002                             2                                     0   \n",
       "195006                             3                                     0   \n",
       "\n",
       "        NumberOfDependents            qcut  \n",
       "0                      0.0    (52.0, 54.0]  \n",
       "1                      0.0    (61.0, 64.0]  \n",
       "3                      0.0    (68.0, 74.0]  \n",
       "5                      2.0    (41.0, 43.0]  \n",
       "7                      0.0  (20.999, 28.0]  \n",
       "...                    ...             ...  \n",
       "194996                 1.0    (46.0, 48.0]  \n",
       "194997                 0.0   (74.0, 107.0]  \n",
       "194999                 0.0   (74.0, 107.0]  \n",
       "195002                 0.0   (74.0, 107.0]  \n",
       "195006                 0.0    (61.0, 64.0]  \n",
       "\n",
       "[97691 rows x 12 columns]"
      ]
     },
     "execution_count": 59,
     "metadata": {},
     "output_type": "execute_result"
    }
   ],
   "source": [
    "model_data[model_data['SeriousDlqin2yrs']==0]"
   ]
  },
  {
   "cell_type": "code",
   "execution_count": 60,
   "metadata": {},
   "outputs": [
    {
     "data": {
      "text/html": [
       "<div>\n",
       "<style scoped>\n",
       "    .dataframe tbody tr th:only-of-type {\n",
       "        vertical-align: middle;\n",
       "    }\n",
       "\n",
       "    .dataframe tbody tr th {\n",
       "        vertical-align: top;\n",
       "    }\n",
       "\n",
       "    .dataframe thead th {\n",
       "        text-align: right;\n",
       "    }\n",
       "</style>\n",
       "<table border=\"1\" class=\"dataframe\">\n",
       "  <thead>\n",
       "    <tr style=\"text-align: right;\">\n",
       "      <th></th>\n",
       "      <th>SeriousDlqin2yrs</th>\n",
       "      <th>RevolvingUtilizationOfUnsecuredLines</th>\n",
       "      <th>age</th>\n",
       "      <th>NumberOfTime30-59DaysPastDueNotWorse</th>\n",
       "      <th>DebtRatio</th>\n",
       "      <th>MonthlyIncome</th>\n",
       "      <th>NumberOfOpenCreditLinesAndLoans</th>\n",
       "      <th>NumberOfTimes90DaysLate</th>\n",
       "      <th>NumberRealEstateLoansOrLines</th>\n",
       "      <th>NumberOfTime60-89DaysPastDueNotWorse</th>\n",
       "      <th>NumberOfDependents</th>\n",
       "    </tr>\n",
       "    <tr>\n",
       "      <th>qcut</th>\n",
       "      <th></th>\n",
       "      <th></th>\n",
       "      <th></th>\n",
       "      <th></th>\n",
       "      <th></th>\n",
       "      <th></th>\n",
       "      <th></th>\n",
       "      <th></th>\n",
       "      <th></th>\n",
       "      <th></th>\n",
       "      <th></th>\n",
       "    </tr>\n",
       "  </thead>\n",
       "  <tbody>\n",
       "    <tr>\n",
       "      <td>(20.999, 28.0]</td>\n",
       "      <td>4243</td>\n",
       "      <td>4243</td>\n",
       "      <td>4243</td>\n",
       "      <td>4243</td>\n",
       "      <td>4243</td>\n",
       "      <td>4243</td>\n",
       "      <td>4243</td>\n",
       "      <td>4243</td>\n",
       "      <td>4243</td>\n",
       "      <td>4243</td>\n",
       "      <td>4243</td>\n",
       "    </tr>\n",
       "    <tr>\n",
       "      <td>(28.0, 31.0]</td>\n",
       "      <td>3571</td>\n",
       "      <td>3571</td>\n",
       "      <td>3571</td>\n",
       "      <td>3571</td>\n",
       "      <td>3571</td>\n",
       "      <td>3571</td>\n",
       "      <td>3571</td>\n",
       "      <td>3571</td>\n",
       "      <td>3571</td>\n",
       "      <td>3571</td>\n",
       "      <td>3571</td>\n",
       "    </tr>\n",
       "    <tr>\n",
       "      <td>(31.0, 34.0]</td>\n",
       "      <td>4075</td>\n",
       "      <td>4075</td>\n",
       "      <td>4075</td>\n",
       "      <td>4075</td>\n",
       "      <td>4075</td>\n",
       "      <td>4075</td>\n",
       "      <td>4075</td>\n",
       "      <td>4075</td>\n",
       "      <td>4075</td>\n",
       "      <td>4075</td>\n",
       "      <td>4075</td>\n",
       "    </tr>\n",
       "    <tr>\n",
       "      <td>(34.0, 36.0]</td>\n",
       "      <td>2908</td>\n",
       "      <td>2908</td>\n",
       "      <td>2908</td>\n",
       "      <td>2908</td>\n",
       "      <td>2908</td>\n",
       "      <td>2908</td>\n",
       "      <td>2908</td>\n",
       "      <td>2908</td>\n",
       "      <td>2908</td>\n",
       "      <td>2908</td>\n",
       "      <td>2908</td>\n",
       "    </tr>\n",
       "    <tr>\n",
       "      <td>(36.0, 39.0]</td>\n",
       "      <td>5182</td>\n",
       "      <td>5182</td>\n",
       "      <td>5182</td>\n",
       "      <td>5182</td>\n",
       "      <td>5182</td>\n",
       "      <td>5182</td>\n",
       "      <td>5182</td>\n",
       "      <td>5182</td>\n",
       "      <td>5182</td>\n",
       "      <td>5182</td>\n",
       "      <td>5182</td>\n",
       "    </tr>\n",
       "    <tr>\n",
       "      <td>(39.0, 41.0]</td>\n",
       "      <td>3956</td>\n",
       "      <td>3956</td>\n",
       "      <td>3956</td>\n",
       "      <td>3956</td>\n",
       "      <td>3956</td>\n",
       "      <td>3956</td>\n",
       "      <td>3956</td>\n",
       "      <td>3956</td>\n",
       "      <td>3956</td>\n",
       "      <td>3956</td>\n",
       "      <td>3956</td>\n",
       "    </tr>\n",
       "    <tr>\n",
       "      <td>(41.0, 43.0]</td>\n",
       "      <td>4002</td>\n",
       "      <td>4002</td>\n",
       "      <td>4002</td>\n",
       "      <td>4002</td>\n",
       "      <td>4002</td>\n",
       "      <td>4002</td>\n",
       "      <td>4002</td>\n",
       "      <td>4002</td>\n",
       "      <td>4002</td>\n",
       "      <td>4002</td>\n",
       "      <td>4002</td>\n",
       "    </tr>\n",
       "    <tr>\n",
       "      <td>(43.0, 45.0]</td>\n",
       "      <td>4389</td>\n",
       "      <td>4389</td>\n",
       "      <td>4389</td>\n",
       "      <td>4389</td>\n",
       "      <td>4389</td>\n",
       "      <td>4389</td>\n",
       "      <td>4389</td>\n",
       "      <td>4389</td>\n",
       "      <td>4389</td>\n",
       "      <td>4389</td>\n",
       "      <td>4389</td>\n",
       "    </tr>\n",
       "    <tr>\n",
       "      <td>(45.0, 46.0]</td>\n",
       "      <td>2419</td>\n",
       "      <td>2419</td>\n",
       "      <td>2419</td>\n",
       "      <td>2419</td>\n",
       "      <td>2419</td>\n",
       "      <td>2419</td>\n",
       "      <td>2419</td>\n",
       "      <td>2419</td>\n",
       "      <td>2419</td>\n",
       "      <td>2419</td>\n",
       "      <td>2419</td>\n",
       "    </tr>\n",
       "    <tr>\n",
       "      <td>(46.0, 48.0]</td>\n",
       "      <td>4813</td>\n",
       "      <td>4813</td>\n",
       "      <td>4813</td>\n",
       "      <td>4813</td>\n",
       "      <td>4813</td>\n",
       "      <td>4813</td>\n",
       "      <td>4813</td>\n",
       "      <td>4813</td>\n",
       "      <td>4813</td>\n",
       "      <td>4813</td>\n",
       "      <td>4813</td>\n",
       "    </tr>\n",
       "    <tr>\n",
       "      <td>(48.0, 50.0]</td>\n",
       "      <td>4900</td>\n",
       "      <td>4900</td>\n",
       "      <td>4900</td>\n",
       "      <td>4900</td>\n",
       "      <td>4900</td>\n",
       "      <td>4900</td>\n",
       "      <td>4900</td>\n",
       "      <td>4900</td>\n",
       "      <td>4900</td>\n",
       "      <td>4900</td>\n",
       "      <td>4900</td>\n",
       "    </tr>\n",
       "    <tr>\n",
       "      <td>(50.0, 52.0]</td>\n",
       "      <td>4728</td>\n",
       "      <td>4728</td>\n",
       "      <td>4728</td>\n",
       "      <td>4728</td>\n",
       "      <td>4728</td>\n",
       "      <td>4728</td>\n",
       "      <td>4728</td>\n",
       "      <td>4728</td>\n",
       "      <td>4728</td>\n",
       "      <td>4728</td>\n",
       "      <td>4728</td>\n",
       "    </tr>\n",
       "    <tr>\n",
       "      <td>(52.0, 54.0]</td>\n",
       "      <td>4681</td>\n",
       "      <td>4681</td>\n",
       "      <td>4681</td>\n",
       "      <td>4681</td>\n",
       "      <td>4681</td>\n",
       "      <td>4681</td>\n",
       "      <td>4681</td>\n",
       "      <td>4681</td>\n",
       "      <td>4681</td>\n",
       "      <td>4681</td>\n",
       "      <td>4681</td>\n",
       "    </tr>\n",
       "    <tr>\n",
       "      <td>(54.0, 56.0]</td>\n",
       "      <td>4677</td>\n",
       "      <td>4677</td>\n",
       "      <td>4677</td>\n",
       "      <td>4677</td>\n",
       "      <td>4677</td>\n",
       "      <td>4677</td>\n",
       "      <td>4677</td>\n",
       "      <td>4677</td>\n",
       "      <td>4677</td>\n",
       "      <td>4677</td>\n",
       "      <td>4677</td>\n",
       "    </tr>\n",
       "    <tr>\n",
       "      <td>(56.0, 58.0]</td>\n",
       "      <td>4483</td>\n",
       "      <td>4483</td>\n",
       "      <td>4483</td>\n",
       "      <td>4483</td>\n",
       "      <td>4483</td>\n",
       "      <td>4483</td>\n",
       "      <td>4483</td>\n",
       "      <td>4483</td>\n",
       "      <td>4483</td>\n",
       "      <td>4483</td>\n",
       "      <td>4483</td>\n",
       "    </tr>\n",
       "    <tr>\n",
       "      <td>(58.0, 61.0]</td>\n",
       "      <td>6583</td>\n",
       "      <td>6583</td>\n",
       "      <td>6583</td>\n",
       "      <td>6583</td>\n",
       "      <td>6583</td>\n",
       "      <td>6583</td>\n",
       "      <td>6583</td>\n",
       "      <td>6583</td>\n",
       "      <td>6583</td>\n",
       "      <td>6583</td>\n",
       "      <td>6583</td>\n",
       "    </tr>\n",
       "    <tr>\n",
       "      <td>(61.0, 64.0]</td>\n",
       "      <td>6968</td>\n",
       "      <td>6968</td>\n",
       "      <td>6968</td>\n",
       "      <td>6968</td>\n",
       "      <td>6968</td>\n",
       "      <td>6968</td>\n",
       "      <td>6968</td>\n",
       "      <td>6968</td>\n",
       "      <td>6968</td>\n",
       "      <td>6968</td>\n",
       "      <td>6968</td>\n",
       "    </tr>\n",
       "    <tr>\n",
       "      <td>(64.0, 68.0]</td>\n",
       "      <td>6623</td>\n",
       "      <td>6623</td>\n",
       "      <td>6623</td>\n",
       "      <td>6623</td>\n",
       "      <td>6623</td>\n",
       "      <td>6623</td>\n",
       "      <td>6623</td>\n",
       "      <td>6623</td>\n",
       "      <td>6623</td>\n",
       "      <td>6623</td>\n",
       "      <td>6623</td>\n",
       "    </tr>\n",
       "    <tr>\n",
       "      <td>(68.0, 74.0]</td>\n",
       "      <td>6753</td>\n",
       "      <td>6753</td>\n",
       "      <td>6753</td>\n",
       "      <td>6753</td>\n",
       "      <td>6753</td>\n",
       "      <td>6753</td>\n",
       "      <td>6753</td>\n",
       "      <td>6753</td>\n",
       "      <td>6753</td>\n",
       "      <td>6753</td>\n",
       "      <td>6753</td>\n",
       "    </tr>\n",
       "    <tr>\n",
       "      <td>(74.0, 107.0]</td>\n",
       "      <td>7737</td>\n",
       "      <td>7737</td>\n",
       "      <td>7737</td>\n",
       "      <td>7737</td>\n",
       "      <td>7737</td>\n",
       "      <td>7737</td>\n",
       "      <td>7737</td>\n",
       "      <td>7737</td>\n",
       "      <td>7737</td>\n",
       "      <td>7737</td>\n",
       "      <td>7737</td>\n",
       "    </tr>\n",
       "  </tbody>\n",
       "</table>\n",
       "</div>"
      ],
      "text/plain": [
       "                SeriousDlqin2yrs  RevolvingUtilizationOfUnsecuredLines   age  \\\n",
       "qcut                                                                           \n",
       "(20.999, 28.0]              4243                                  4243  4243   \n",
       "(28.0, 31.0]                3571                                  3571  3571   \n",
       "(31.0, 34.0]                4075                                  4075  4075   \n",
       "(34.0, 36.0]                2908                                  2908  2908   \n",
       "(36.0, 39.0]                5182                                  5182  5182   \n",
       "(39.0, 41.0]                3956                                  3956  3956   \n",
       "(41.0, 43.0]                4002                                  4002  4002   \n",
       "(43.0, 45.0]                4389                                  4389  4389   \n",
       "(45.0, 46.0]                2419                                  2419  2419   \n",
       "(46.0, 48.0]                4813                                  4813  4813   \n",
       "(48.0, 50.0]                4900                                  4900  4900   \n",
       "(50.0, 52.0]                4728                                  4728  4728   \n",
       "(52.0, 54.0]                4681                                  4681  4681   \n",
       "(54.0, 56.0]                4677                                  4677  4677   \n",
       "(56.0, 58.0]                4483                                  4483  4483   \n",
       "(58.0, 61.0]                6583                                  6583  6583   \n",
       "(61.0, 64.0]                6968                                  6968  6968   \n",
       "(64.0, 68.0]                6623                                  6623  6623   \n",
       "(68.0, 74.0]                6753                                  6753  6753   \n",
       "(74.0, 107.0]               7737                                  7737  7737   \n",
       "\n",
       "                NumberOfTime30-59DaysPastDueNotWorse  DebtRatio  \\\n",
       "qcut                                                              \n",
       "(20.999, 28.0]                                  4243       4243   \n",
       "(28.0, 31.0]                                    3571       3571   \n",
       "(31.0, 34.0]                                    4075       4075   \n",
       "(34.0, 36.0]                                    2908       2908   \n",
       "(36.0, 39.0]                                    5182       5182   \n",
       "(39.0, 41.0]                                    3956       3956   \n",
       "(41.0, 43.0]                                    4002       4002   \n",
       "(43.0, 45.0]                                    4389       4389   \n",
       "(45.0, 46.0]                                    2419       2419   \n",
       "(46.0, 48.0]                                    4813       4813   \n",
       "(48.0, 50.0]                                    4900       4900   \n",
       "(50.0, 52.0]                                    4728       4728   \n",
       "(52.0, 54.0]                                    4681       4681   \n",
       "(54.0, 56.0]                                    4677       4677   \n",
       "(56.0, 58.0]                                    4483       4483   \n",
       "(58.0, 61.0]                                    6583       6583   \n",
       "(61.0, 64.0]                                    6968       6968   \n",
       "(64.0, 68.0]                                    6623       6623   \n",
       "(68.0, 74.0]                                    6753       6753   \n",
       "(74.0, 107.0]                                   7737       7737   \n",
       "\n",
       "                MonthlyIncome  NumberOfOpenCreditLinesAndLoans  \\\n",
       "qcut                                                             \n",
       "(20.999, 28.0]           4243                             4243   \n",
       "(28.0, 31.0]             3571                             3571   \n",
       "(31.0, 34.0]             4075                             4075   \n",
       "(34.0, 36.0]             2908                             2908   \n",
       "(36.0, 39.0]             5182                             5182   \n",
       "(39.0, 41.0]             3956                             3956   \n",
       "(41.0, 43.0]             4002                             4002   \n",
       "(43.0, 45.0]             4389                             4389   \n",
       "(45.0, 46.0]             2419                             2419   \n",
       "(46.0, 48.0]             4813                             4813   \n",
       "(48.0, 50.0]             4900                             4900   \n",
       "(50.0, 52.0]             4728                             4728   \n",
       "(52.0, 54.0]             4681                             4681   \n",
       "(54.0, 56.0]             4677                             4677   \n",
       "(56.0, 58.0]             4483                             4483   \n",
       "(58.0, 61.0]             6583                             6583   \n",
       "(61.0, 64.0]             6968                             6968   \n",
       "(64.0, 68.0]             6623                             6623   \n",
       "(68.0, 74.0]             6753                             6753   \n",
       "(74.0, 107.0]            7737                             7737   \n",
       "\n",
       "                NumberOfTimes90DaysLate  NumberRealEstateLoansOrLines  \\\n",
       "qcut                                                                    \n",
       "(20.999, 28.0]                     4243                          4243   \n",
       "(28.0, 31.0]                       3571                          3571   \n",
       "(31.0, 34.0]                       4075                          4075   \n",
       "(34.0, 36.0]                       2908                          2908   \n",
       "(36.0, 39.0]                       5182                          5182   \n",
       "(39.0, 41.0]                       3956                          3956   \n",
       "(41.0, 43.0]                       4002                          4002   \n",
       "(43.0, 45.0]                       4389                          4389   \n",
       "(45.0, 46.0]                       2419                          2419   \n",
       "(46.0, 48.0]                       4813                          4813   \n",
       "(48.0, 50.0]                       4900                          4900   \n",
       "(50.0, 52.0]                       4728                          4728   \n",
       "(52.0, 54.0]                       4681                          4681   \n",
       "(54.0, 56.0]                       4677                          4677   \n",
       "(56.0, 58.0]                       4483                          4483   \n",
       "(58.0, 61.0]                       6583                          6583   \n",
       "(61.0, 64.0]                       6968                          6968   \n",
       "(64.0, 68.0]                       6623                          6623   \n",
       "(68.0, 74.0]                       6753                          6753   \n",
       "(74.0, 107.0]                      7737                          7737   \n",
       "\n",
       "                NumberOfTime60-89DaysPastDueNotWorse  NumberOfDependents  \n",
       "qcut                                                                      \n",
       "(20.999, 28.0]                                  4243                4243  \n",
       "(28.0, 31.0]                                    3571                3571  \n",
       "(31.0, 34.0]                                    4075                4075  \n",
       "(34.0, 36.0]                                    2908                2908  \n",
       "(36.0, 39.0]                                    5182                5182  \n",
       "(39.0, 41.0]                                    3956                3956  \n",
       "(41.0, 43.0]                                    4002                4002  \n",
       "(43.0, 45.0]                                    4389                4389  \n",
       "(45.0, 46.0]                                    2419                2419  \n",
       "(46.0, 48.0]                                    4813                4813  \n",
       "(48.0, 50.0]                                    4900                4900  \n",
       "(50.0, 52.0]                                    4728                4728  \n",
       "(52.0, 54.0]                                    4681                4681  \n",
       "(54.0, 56.0]                                    4677                4677  \n",
       "(56.0, 58.0]                                    4483                4483  \n",
       "(58.0, 61.0]                                    6583                6583  \n",
       "(61.0, 64.0]                                    6968                6968  \n",
       "(64.0, 68.0]                                    6623                6623  \n",
       "(68.0, 74.0]                                    6753                6753  \n",
       "(74.0, 107.0]                                   7737                7737  "
      ]
     },
     "execution_count": 60,
     "metadata": {},
     "output_type": "execute_result"
    }
   ],
   "source": [
    "model_data[model_data['SeriousDlqin2yrs']==0].groupby(by='qcut').count()#以qcut聚类，统计每个箱中值为0的数量"
   ]
  },
  {
   "cell_type": "code",
   "execution_count": 61,
   "metadata": {},
   "outputs": [
    {
     "data": {
      "text/plain": [
       "qcut\n",
       "(20.999, 28.0]    4243\n",
       "(28.0, 31.0]      3571\n",
       "(31.0, 34.0]      4075\n",
       "(34.0, 36.0]      2908\n",
       "(36.0, 39.0]      5182\n",
       "(39.0, 41.0]      3956\n",
       "(41.0, 43.0]      4002\n",
       "(43.0, 45.0]      4389\n",
       "(45.0, 46.0]      2419\n",
       "(46.0, 48.0]      4813\n",
       "(48.0, 50.0]      4900\n",
       "(50.0, 52.0]      4728\n",
       "(52.0, 54.0]      4681\n",
       "(54.0, 56.0]      4677\n",
       "(56.0, 58.0]      4483\n",
       "(58.0, 61.0]      6583\n",
       "(61.0, 64.0]      6968\n",
       "(64.0, 68.0]      6623\n",
       "(68.0, 74.0]      6753\n",
       "(74.0, 107.0]     7737\n",
       "Name: SeriousDlqin2yrs, dtype: int64"
      ]
     },
     "execution_count": 61,
     "metadata": {},
     "output_type": "execute_result"
    }
   ],
   "source": [
    "model_data[model_data['SeriousDlqin2yrs']==0].groupby(by='qcut').count()['SeriousDlqin2yrs']"
   ]
  },
  {
   "cell_type": "code",
   "execution_count": 62,
   "metadata": {},
   "outputs": [
    {
     "data": {
      "text/plain": [
       "qcut\n",
       "(20.999, 28.0]    7509\n",
       "(28.0, 31.0]      5959\n",
       "(31.0, 34.0]      6741\n",
       "(34.0, 36.0]      4608\n",
       "(36.0, 39.0]      7510\n",
       "(39.0, 41.0]      5853\n",
       "(41.0, 43.0]      5689\n",
       "(43.0, 45.0]      5962\n",
       "(45.0, 46.0]      3262\n",
       "(46.0, 48.0]      6153\n",
       "(48.0, 50.0]      6185\n",
       "(50.0, 52.0]      5820\n",
       "(52.0, 54.0]      5030\n",
       "(54.0, 56.0]      4023\n",
       "(56.0, 58.0]      3415\n",
       "(58.0, 61.0]      4797\n",
       "(61.0, 64.0]      3209\n",
       "(64.0, 68.0]      2286\n",
       "(68.0, 74.0]      1905\n",
       "(74.0, 107.0]     1401\n",
       "Name: SeriousDlqin2yrs, dtype: int64"
      ]
     },
     "execution_count": 62,
     "metadata": {},
     "output_type": "execute_result"
    }
   ],
   "source": [
    "coount_y1"
   ]
  },
  {
   "cell_type": "code",
   "execution_count": 63,
   "metadata": {},
   "outputs": [
    {
     "data": {
      "text/plain": [
       "[(21.0, 28.0, 4243, 7509),\n",
       " (28.0, 31.0, 3571, 5959),\n",
       " (31.0, 34.0, 4075, 6741),\n",
       " (34.0, 36.0, 2908, 4608),\n",
       " (36.0, 39.0, 5182, 7510),\n",
       " (39.0, 41.0, 3956, 5853),\n",
       " (41.0, 43.0, 4002, 5689),\n",
       " (43.0, 45.0, 4389, 5962),\n",
       " (45.0, 46.0, 2419, 3262),\n",
       " (46.0, 48.0, 4813, 6153),\n",
       " (48.0, 50.0, 4900, 6185),\n",
       " (50.0, 52.0, 4728, 5820),\n",
       " (52.0, 54.0, 4681, 5030),\n",
       " (54.0, 56.0, 4677, 4023),\n",
       " (56.0, 58.0, 4483, 3415),\n",
       " (58.0, 61.0, 6583, 4797),\n",
       " (61.0, 64.0, 6968, 3209),\n",
       " (64.0, 68.0, 6623, 2286),\n",
       " (68.0, 74.0, 6753, 1905),\n",
       " (74.0, 107.0, 7737, 1401)]"
      ]
     },
     "execution_count": 63,
     "metadata": {},
     "output_type": "execute_result"
    }
   ],
   "source": [
    "#num_bins值分别为每个区间的上界，下界，0出现的次数，1出现的次数\n",
    "num_bins=[*zip(updown,updown[1:],coount_y0,coount_y1)]\n",
    "#注意zip会按照最短的那一个列表来进行结合\n",
    "num_bins  "
   ]
  },
  {
   "cell_type": "code",
   "execution_count": 64,
   "metadata": {},
   "outputs": [
    {
     "data": {
      "text/plain": [
       "[(1, 'a'), (2, 'b'), (3, 'c')]"
      ]
     },
     "execution_count": 64,
     "metadata": {},
     "output_type": "execute_result"
    }
   ],
   "source": [
    "# zip的用法\n",
    "[*zip([1,2,3],['a','b','c'])]#元祖"
   ]
  },
  {
   "cell_type": "code",
   "execution_count": 65,
   "metadata": {},
   "outputs": [
    {
     "data": {
      "text/plain": [
       "[(1, 'a'), (2, 'b'), (3, 'c')]"
      ]
     },
     "execution_count": 65,
     "metadata": {},
     "output_type": "execute_result"
    }
   ],
   "source": [
    "[*zip([1,2,3],['a','b','c','d'])]"
   ]
  },
  {
   "cell_type": "code",
   "execution_count": 66,
   "metadata": {},
   "outputs": [
    {
     "data": {
      "text/plain": [
       "[(21.0, 28.0),\n",
       " (28.0, 31.0),\n",
       " (31.0, 34.0),\n",
       " (34.0, 36.0),\n",
       " (36.0, 39.0),\n",
       " (39.0, 41.0),\n",
       " (41.0, 43.0),\n",
       " (43.0, 45.0),\n",
       " (45.0, 46.0),\n",
       " (46.0, 48.0),\n",
       " (48.0, 50.0),\n",
       " (50.0, 52.0),\n",
       " (52.0, 54.0),\n",
       " (54.0, 56.0),\n",
       " (56.0, 58.0),\n",
       " (58.0, 61.0),\n",
       " (61.0, 64.0),\n",
       " (64.0, 68.0),\n",
       " (68.0, 74.0),\n",
       " (74.0, 107.0)]"
      ]
     },
     "execution_count": 66,
     "metadata": {},
     "output_type": "execute_result"
    }
   ],
   "source": [
    "[*zip(updown,updown[1:])]"
   ]
  },
  {
   "cell_type": "markdown",
   "metadata": {},
   "source": [
    "##  3.3.2确保每个箱中都有0和1\n"
   ]
  },
  {
   "cell_type": "code",
   "execution_count": 67,
   "metadata": {},
   "outputs": [],
   "source": [
    "for i in range(20):\n",
    "    if 0 in num_bins[0][2:]:\n",
    "        num_bins[0:2]=[(\n",
    "            num_bins[0][0],\n",
    "            num_bins[1][1],\n",
    "            num_bins[0][2]+num_bins[1][2],\n",
    "            num_bins[0][2]+num_bins[1][3] )]\n",
    "        continue\n",
    "    \n",
    "    for i in range(len(num_bins)):\n",
    "        if 0 in num_bins[i][2:]:\n",
    "            num_bins[i-1:i+1]=[(\n",
    "                num_bins[i-1][0],\n",
    "                num_bins[i][1],\n",
    "                num_bins[i-1][2]+num_bins[i][2],\n",
    "                num_bins[i-1][3]+num_bins[i][3]        \n",
    "        )]\n",
    "        break\n",
    "    else:\n",
    "        break\n",
    "            \n",
    "        "
   ]
  },
  {
   "cell_type": "markdown",
   "metadata": {},
   "source": [
    "## 3.3.3 定义WOE和IV函数\n"
   ]
  },
  {
   "cell_type": "code",
   "execution_count": 68,
   "metadata": {},
   "outputs": [],
   "source": [
    "# 定义WOE和BAD RATE\n",
    "# BAD RATE和bad%不是一个东西\n",
    "# BAD RATE是一个箱中，坏的样本所占的比例(bad/total)\n",
    "#而bad%是一个箱中的坏样本占整个特征中的坏样本的比例\n",
    "\n",
    "def get_woe(num_bins):\n",
    "    #通过 num_bins数据计算woe\n",
    "    columns=['min','max','count_0','count_1']\n",
    "    df=pd.DataFrame(num_bins,columns=columns)\n",
    "    df['total']=df.count_0+df.count_1#一个箱子中的所有样本数\n",
    "    df['percentage']=df.total/df.total.sum()\n",
    "    df['bad_rate']=df.count_1/df.total\n",
    "    df['good%']=df.count_0/df.count_0.sum()\n",
    "    df['bad%']=df.count_1/df.count_1.sum()\n",
    "    df['woe']=np.log(df['good%']/df['bad%'])\n",
    "    return df\n",
    "\n",
    "#计算IV值\n",
    "def get_iv(bins_df):\n",
    "    rate=bins_df['good%']-bins_df['bad%']\n",
    "    iv=np.sum(rate*bins_df.woe)\n",
    "    return iv\n"
   ]
  },
  {
   "cell_type": "code",
   "execution_count": 69,
   "metadata": {},
   "outputs": [],
   "source": [
    "df=get_woe(num_bins)"
   ]
  },
  {
   "cell_type": "code",
   "execution_count": 70,
   "metadata": {},
   "outputs": [
    {
     "data": {
      "text/html": [
       "<div>\n",
       "<style scoped>\n",
       "    .dataframe tbody tr th:only-of-type {\n",
       "        vertical-align: middle;\n",
       "    }\n",
       "\n",
       "    .dataframe tbody tr th {\n",
       "        vertical-align: top;\n",
       "    }\n",
       "\n",
       "    .dataframe thead th {\n",
       "        text-align: right;\n",
       "    }\n",
       "</style>\n",
       "<table border=\"1\" class=\"dataframe\">\n",
       "  <thead>\n",
       "    <tr style=\"text-align: right;\">\n",
       "      <th></th>\n",
       "      <th>min</th>\n",
       "      <th>max</th>\n",
       "      <th>count_0</th>\n",
       "      <th>count_1</th>\n",
       "      <th>total</th>\n",
       "      <th>percentage</th>\n",
       "      <th>bad_rate</th>\n",
       "      <th>good%</th>\n",
       "      <th>bad%</th>\n",
       "      <th>woe</th>\n",
       "    </tr>\n",
       "  </thead>\n",
       "  <tbody>\n",
       "    <tr>\n",
       "      <td>0</td>\n",
       "      <td>21.0</td>\n",
       "      <td>28.0</td>\n",
       "      <td>4243</td>\n",
       "      <td>7509</td>\n",
       "      <td>11752</td>\n",
       "      <td>0.060264</td>\n",
       "      <td>0.638955</td>\n",
       "      <td>0.043433</td>\n",
       "      <td>0.077160</td>\n",
       "      <td>-0.574667</td>\n",
       "    </tr>\n",
       "    <tr>\n",
       "      <td>1</td>\n",
       "      <td>28.0</td>\n",
       "      <td>31.0</td>\n",
       "      <td>3571</td>\n",
       "      <td>5959</td>\n",
       "      <td>9530</td>\n",
       "      <td>0.048870</td>\n",
       "      <td>0.625289</td>\n",
       "      <td>0.036554</td>\n",
       "      <td>0.061233</td>\n",
       "      <td>-0.515893</td>\n",
       "    </tr>\n",
       "    <tr>\n",
       "      <td>2</td>\n",
       "      <td>31.0</td>\n",
       "      <td>34.0</td>\n",
       "      <td>4075</td>\n",
       "      <td>6741</td>\n",
       "      <td>10816</td>\n",
       "      <td>0.055464</td>\n",
       "      <td>0.623243</td>\n",
       "      <td>0.041713</td>\n",
       "      <td>0.069268</td>\n",
       "      <td>-0.507173</td>\n",
       "    </tr>\n",
       "    <tr>\n",
       "      <td>3</td>\n",
       "      <td>34.0</td>\n",
       "      <td>36.0</td>\n",
       "      <td>2908</td>\n",
       "      <td>4608</td>\n",
       "      <td>7516</td>\n",
       "      <td>0.038542</td>\n",
       "      <td>0.613092</td>\n",
       "      <td>0.029767</td>\n",
       "      <td>0.047350</td>\n",
       "      <td>-0.464164</td>\n",
       "    </tr>\n",
       "    <tr>\n",
       "      <td>4</td>\n",
       "      <td>36.0</td>\n",
       "      <td>39.0</td>\n",
       "      <td>5182</td>\n",
       "      <td>7510</td>\n",
       "      <td>12692</td>\n",
       "      <td>0.065085</td>\n",
       "      <td>0.591711</td>\n",
       "      <td>0.053045</td>\n",
       "      <td>0.077170</td>\n",
       "      <td>-0.374880</td>\n",
       "    </tr>\n",
       "    <tr>\n",
       "      <td>5</td>\n",
       "      <td>39.0</td>\n",
       "      <td>41.0</td>\n",
       "      <td>3956</td>\n",
       "      <td>5853</td>\n",
       "      <td>9809</td>\n",
       "      <td>0.050301</td>\n",
       "      <td>0.596697</td>\n",
       "      <td>0.040495</td>\n",
       "      <td>0.060144</td>\n",
       "      <td>-0.395557</td>\n",
       "    </tr>\n",
       "    <tr>\n",
       "      <td>6</td>\n",
       "      <td>41.0</td>\n",
       "      <td>43.0</td>\n",
       "      <td>4002</td>\n",
       "      <td>5689</td>\n",
       "      <td>9691</td>\n",
       "      <td>0.049695</td>\n",
       "      <td>0.587040</td>\n",
       "      <td>0.040966</td>\n",
       "      <td>0.058458</td>\n",
       "      <td>-0.355576</td>\n",
       "    </tr>\n",
       "    <tr>\n",
       "      <td>7</td>\n",
       "      <td>43.0</td>\n",
       "      <td>45.0</td>\n",
       "      <td>4389</td>\n",
       "      <td>5962</td>\n",
       "      <td>10351</td>\n",
       "      <td>0.053080</td>\n",
       "      <td>0.575983</td>\n",
       "      <td>0.044927</td>\n",
       "      <td>0.061264</td>\n",
       "      <td>-0.310140</td>\n",
       "    </tr>\n",
       "    <tr>\n",
       "      <td>8</td>\n",
       "      <td>45.0</td>\n",
       "      <td>46.0</td>\n",
       "      <td>2419</td>\n",
       "      <td>3262</td>\n",
       "      <td>5681</td>\n",
       "      <td>0.029132</td>\n",
       "      <td>0.574195</td>\n",
       "      <td>0.024762</td>\n",
       "      <td>0.033519</td>\n",
       "      <td>-0.302822</td>\n",
       "    </tr>\n",
       "    <tr>\n",
       "      <td>9</td>\n",
       "      <td>46.0</td>\n",
       "      <td>48.0</td>\n",
       "      <td>4813</td>\n",
       "      <td>6153</td>\n",
       "      <td>10966</td>\n",
       "      <td>0.056234</td>\n",
       "      <td>0.561098</td>\n",
       "      <td>0.049268</td>\n",
       "      <td>0.063226</td>\n",
       "      <td>-0.249455</td>\n",
       "    </tr>\n",
       "    <tr>\n",
       "      <td>10</td>\n",
       "      <td>48.0</td>\n",
       "      <td>50.0</td>\n",
       "      <td>4900</td>\n",
       "      <td>6185</td>\n",
       "      <td>11085</td>\n",
       "      <td>0.056844</td>\n",
       "      <td>0.557961</td>\n",
       "      <td>0.050158</td>\n",
       "      <td>0.063555</td>\n",
       "      <td>-0.236728</td>\n",
       "    </tr>\n",
       "    <tr>\n",
       "      <td>11</td>\n",
       "      <td>50.0</td>\n",
       "      <td>52.0</td>\n",
       "      <td>4728</td>\n",
       "      <td>5820</td>\n",
       "      <td>10548</td>\n",
       "      <td>0.054090</td>\n",
       "      <td>0.551763</td>\n",
       "      <td>0.048397</td>\n",
       "      <td>0.059805</td>\n",
       "      <td>-0.211634</td>\n",
       "    </tr>\n",
       "    <tr>\n",
       "      <td>12</td>\n",
       "      <td>52.0</td>\n",
       "      <td>54.0</td>\n",
       "      <td>4681</td>\n",
       "      <td>5030</td>\n",
       "      <td>9711</td>\n",
       "      <td>0.049798</td>\n",
       "      <td>0.517969</td>\n",
       "      <td>0.047916</td>\n",
       "      <td>0.051687</td>\n",
       "      <td>-0.075744</td>\n",
       "    </tr>\n",
       "    <tr>\n",
       "      <td>13</td>\n",
       "      <td>54.0</td>\n",
       "      <td>56.0</td>\n",
       "      <td>4677</td>\n",
       "      <td>4023</td>\n",
       "      <td>8700</td>\n",
       "      <td>0.044614</td>\n",
       "      <td>0.462414</td>\n",
       "      <td>0.047875</td>\n",
       "      <td>0.041339</td>\n",
       "      <td>0.146793</td>\n",
       "    </tr>\n",
       "    <tr>\n",
       "      <td>14</td>\n",
       "      <td>56.0</td>\n",
       "      <td>58.0</td>\n",
       "      <td>4483</td>\n",
       "      <td>3415</td>\n",
       "      <td>7898</td>\n",
       "      <td>0.040501</td>\n",
       "      <td>0.432388</td>\n",
       "      <td>0.045890</td>\n",
       "      <td>0.035092</td>\n",
       "      <td>0.268279</td>\n",
       "    </tr>\n",
       "    <tr>\n",
       "      <td>15</td>\n",
       "      <td>58.0</td>\n",
       "      <td>61.0</td>\n",
       "      <td>6583</td>\n",
       "      <td>4797</td>\n",
       "      <td>11380</td>\n",
       "      <td>0.058357</td>\n",
       "      <td>0.421529</td>\n",
       "      <td>0.067386</td>\n",
       "      <td>0.049293</td>\n",
       "      <td>0.312664</td>\n",
       "    </tr>\n",
       "    <tr>\n",
       "      <td>16</td>\n",
       "      <td>61.0</td>\n",
       "      <td>64.0</td>\n",
       "      <td>6968</td>\n",
       "      <td>3209</td>\n",
       "      <td>10177</td>\n",
       "      <td>0.052188</td>\n",
       "      <td>0.315319</td>\n",
       "      <td>0.071327</td>\n",
       "      <td>0.032975</td>\n",
       "      <td>0.771533</td>\n",
       "    </tr>\n",
       "    <tr>\n",
       "      <td>17</td>\n",
       "      <td>64.0</td>\n",
       "      <td>68.0</td>\n",
       "      <td>6623</td>\n",
       "      <td>2286</td>\n",
       "      <td>8909</td>\n",
       "      <td>0.045685</td>\n",
       "      <td>0.256594</td>\n",
       "      <td>0.067795</td>\n",
       "      <td>0.023490</td>\n",
       "      <td>1.059909</td>\n",
       "    </tr>\n",
       "    <tr>\n",
       "      <td>18</td>\n",
       "      <td>68.0</td>\n",
       "      <td>74.0</td>\n",
       "      <td>6753</td>\n",
       "      <td>1905</td>\n",
       "      <td>8658</td>\n",
       "      <td>0.044398</td>\n",
       "      <td>0.220028</td>\n",
       "      <td>0.069126</td>\n",
       "      <td>0.019575</td>\n",
       "      <td>1.261669</td>\n",
       "    </tr>\n",
       "    <tr>\n",
       "      <td>19</td>\n",
       "      <td>74.0</td>\n",
       "      <td>107.0</td>\n",
       "      <td>7737</td>\n",
       "      <td>1401</td>\n",
       "      <td>9138</td>\n",
       "      <td>0.046860</td>\n",
       "      <td>0.153316</td>\n",
       "      <td>0.079199</td>\n",
       "      <td>0.014396</td>\n",
       "      <td>1.704992</td>\n",
       "    </tr>\n",
       "  </tbody>\n",
       "</table>\n",
       "</div>"
      ],
      "text/plain": [
       "     min    max  count_0  count_1  total  percentage  bad_rate     good%  \\\n",
       "0   21.0   28.0     4243     7509  11752    0.060264  0.638955  0.043433   \n",
       "1   28.0   31.0     3571     5959   9530    0.048870  0.625289  0.036554   \n",
       "2   31.0   34.0     4075     6741  10816    0.055464  0.623243  0.041713   \n",
       "3   34.0   36.0     2908     4608   7516    0.038542  0.613092  0.029767   \n",
       "4   36.0   39.0     5182     7510  12692    0.065085  0.591711  0.053045   \n",
       "5   39.0   41.0     3956     5853   9809    0.050301  0.596697  0.040495   \n",
       "6   41.0   43.0     4002     5689   9691    0.049695  0.587040  0.040966   \n",
       "7   43.0   45.0     4389     5962  10351    0.053080  0.575983  0.044927   \n",
       "8   45.0   46.0     2419     3262   5681    0.029132  0.574195  0.024762   \n",
       "9   46.0   48.0     4813     6153  10966    0.056234  0.561098  0.049268   \n",
       "10  48.0   50.0     4900     6185  11085    0.056844  0.557961  0.050158   \n",
       "11  50.0   52.0     4728     5820  10548    0.054090  0.551763  0.048397   \n",
       "12  52.0   54.0     4681     5030   9711    0.049798  0.517969  0.047916   \n",
       "13  54.0   56.0     4677     4023   8700    0.044614  0.462414  0.047875   \n",
       "14  56.0   58.0     4483     3415   7898    0.040501  0.432388  0.045890   \n",
       "15  58.0   61.0     6583     4797  11380    0.058357  0.421529  0.067386   \n",
       "16  61.0   64.0     6968     3209  10177    0.052188  0.315319  0.071327   \n",
       "17  64.0   68.0     6623     2286   8909    0.045685  0.256594  0.067795   \n",
       "18  68.0   74.0     6753     1905   8658    0.044398  0.220028  0.069126   \n",
       "19  74.0  107.0     7737     1401   9138    0.046860  0.153316  0.079199   \n",
       "\n",
       "        bad%       woe  \n",
       "0   0.077160 -0.574667  \n",
       "1   0.061233 -0.515893  \n",
       "2   0.069268 -0.507173  \n",
       "3   0.047350 -0.464164  \n",
       "4   0.077170 -0.374880  \n",
       "5   0.060144 -0.395557  \n",
       "6   0.058458 -0.355576  \n",
       "7   0.061264 -0.310140  \n",
       "8   0.033519 -0.302822  \n",
       "9   0.063226 -0.249455  \n",
       "10  0.063555 -0.236728  \n",
       "11  0.059805 -0.211634  \n",
       "12  0.051687 -0.075744  \n",
       "13  0.041339  0.146793  \n",
       "14  0.035092  0.268279  \n",
       "15  0.049293  0.312664  \n",
       "16  0.032975  0.771533  \n",
       "17  0.023490  1.059909  \n",
       "18  0.019575  1.261669  \n",
       "19  0.014396  1.704992  "
      ]
     },
     "execution_count": 70,
     "metadata": {},
     "output_type": "execute_result"
    }
   ],
   "source": [
    "df"
   ]
  },
  {
   "cell_type": "code",
   "execution_count": 71,
   "metadata": {},
   "outputs": [],
   "source": [
    "iv_age=get_iv(df)"
   ]
  },
  {
   "cell_type": "code",
   "execution_count": 72,
   "metadata": {},
   "outputs": [
    {
     "data": {
      "text/plain": [
       "0.3534260046441345"
      ]
     },
     "execution_count": 72,
     "metadata": {},
     "output_type": "execute_result"
    }
   ],
   "source": [
    "iv_age"
   ]
  },
  {
   "cell_type": "markdown",
   "metadata": {},
   "source": [
    "###  卡方检验,合并箱子"
   ]
  },
  {
   "cell_type": "code",
   "execution_count": 73,
   "metadata": {},
   "outputs": [],
   "source": [
    "num_bins_=num_bins.copy()\n",
    "import matplotlib.pyplot as plt\n",
    "import scipy"
   ]
  },
  {
   "cell_type": "code",
   "execution_count": 74,
   "metadata": {},
   "outputs": [
    {
     "data": {
      "text/plain": [
       "(4243, 7509)"
      ]
     },
     "execution_count": 74,
     "metadata": {},
     "output_type": "execute_result"
    }
   ],
   "source": [
    "x1=num_bins_[0][2:]\n",
    "x1"
   ]
  },
  {
   "cell_type": "code",
   "execution_count": 75,
   "metadata": {},
   "outputs": [
    {
     "data": {
      "text/plain": [
       "(3571, 5959)"
      ]
     },
     "execution_count": 75,
     "metadata": {},
     "output_type": "execute_result"
    }
   ],
   "source": [
    "x2=num_bins_[1][2:]\n",
    "x2"
   ]
  },
  {
   "cell_type": "code",
   "execution_count": 76,
   "metadata": {},
   "outputs": [
    {
     "data": {
      "text/plain": [
       "0.04110848432696819"
      ]
     },
     "execution_count": 76,
     "metadata": {},
     "output_type": "execute_result"
    }
   ],
   "source": [
    "scipy.stats.chi2_contingency([x1,x2])[1]"
   ]
  },
  {
   "cell_type": "code",
   "execution_count": 77,
   "metadata": {},
   "outputs": [
    {
     "data": {
      "text/plain": [
       "4.171537291044168"
      ]
     },
     "execution_count": 77,
     "metadata": {},
     "output_type": "execute_result"
    }
   ],
   "source": [
    "scipy.stats.chi2_contingency([x1,x2])[0]"
   ]
  },
  {
   "cell_type": "code",
   "execution_count": 78,
   "metadata": {},
   "outputs": [
    {
     "data": {
      "image/png": "[encoded data removed]",
      "text/plain": [
       "<Figure size 432x288 with 1 Axes>"
      ]
     },
     "metadata": {
      "needs_background": "light"
     },
     "output_type": "display_data"
    }
   ],
   "source": [
    "\n",
    "IV=[]\n",
    "axisx=[]\n",
    "while len(num_bins_)>2:\n",
    "    pvs=[]\n",
    "    #获取num_bins_两两之间的卡方检验的置信度（或卡方值）\n",
    "    for i in range(len(num_bins_)-1):\n",
    "        x1=num_bins_[i][2:]#第i组后面两个数\n",
    "        x2=num_bins_[i+1][2:]#第i+1组后面两个数\n",
    "        #0返回chi2值，1返回p值\n",
    "        pv=scipy.stats.chi2_contingency([x1,x2])[1]#pv-p value\n",
    "        #chi2=scipy.stats.chi2_contingency([x1,x2])[0]\n",
    "        pvs.append(pv)\n",
    "        \n",
    "    #通过p值进行处理，合并P值最大的两组\n",
    "    i=pvs.index(max(pvs))\n",
    "    num_bins_[i:i+2]=[(\n",
    "        num_bins_[i][0],\n",
    "        num_bins_[i+1][1],\n",
    "        num_bins_[i][2]+num_bins_[i+1][2],\n",
    "        num_bins_[i][3]+num_bins_[i+1][3]   \n",
    "    )]\n",
    "    bins_df_=get_woe(num_bins_)\n",
    "    axisx.append(len(num_bins_))\n",
    "    IV.append(get_iv(bins_df_))\n",
    "plt.figure()\n",
    "plt.plot(axisx,IV)\n",
    "plt.xticks(axisx)\n",
    "plt.xlabel('number of boxes')\n",
    "plt.ylabel('IV value')\n",
    "plt.show()"
   ]
  },
  {
   "cell_type": "markdown",
   "metadata": {},
   "source": [
    "## 3.3.5用最佳分箱个数分箱，并验证分箱结果"
   ]
  },
  {
   "cell_type": "code",
   "execution_count": 79,
   "metadata": {},
   "outputs": [],
   "source": [
    "def get_bins(num_bins_,n):\n",
    "    while len(num_bins_)>n:\n",
    "        pvs=[]\n",
    "        for i in range(len(num_bins_)-1):\n",
    "            x1=num_bins_[i][2:]\n",
    "            x2=num_bins_[i+1][2:]\n",
    "            pv=scipy.stats.chi2_contingency([x1,x2])[1]\n",
    "            #chi2=scipy.stats.chi2_contingency([x1,x2])[0]\n",
    "            pvs.append(pv)\n",
    "            \n",
    "        i=pvs.index(max(pvs))\n",
    "        num_bins_[i:i+2]=[(\n",
    "        num_bins_[i][0],\n",
    "        num_bins_[i+1][1],\n",
    "        num_bins_[i][2]+num_bins_[i+1][2],\n",
    "        num_bins_[i][3]+num_bins_[i+1][3]   \n",
    "    )]\n",
    "    \n",
    "    return num_bins_\n",
    "        "
   ]
  },
  {
   "cell_type": "code",
   "execution_count": 80,
   "metadata": {},
   "outputs": [],
   "source": [
    "afterbins=get_bins(num_bins,6)"
   ]
  },
  {
   "cell_type": "code",
   "execution_count": 81,
   "metadata": {},
   "outputs": [
    {
     "data": {
      "text/plain": [
       "[(21.0, 36.0, 14797, 24817),\n",
       " (36.0, 54.0, 39070, 51464),\n",
       " (54.0, 61.0, 15743, 12235),\n",
       " (61.0, 64.0, 6968, 3209),\n",
       " (64.0, 74.0, 13376, 4191),\n",
       " (74.0, 107.0, 7737, 1401)]"
      ]
     },
     "execution_count": 81,
     "metadata": {},
     "output_type": "execute_result"
    }
   ],
   "source": [
    "afterbins"
   ]
  },
  {
   "cell_type": "code",
   "execution_count": 82,
   "metadata": {},
   "outputs": [],
   "source": [
    "bins_df_=get_woe(num_bins)"
   ]
  },
  {
   "cell_type": "code",
   "execution_count": 83,
   "metadata": {},
   "outputs": [
    {
     "data": {
      "text/html": [
       "<div>\n",
       "<style scoped>\n",
       "    .dataframe tbody tr th:only-of-type {\n",
       "        vertical-align: middle;\n",
       "    }\n",
       "\n",
       "    .dataframe tbody tr th {\n",
       "        vertical-align: top;\n",
       "    }\n",
       "\n",
       "    .dataframe thead th {\n",
       "        text-align: right;\n",
       "    }\n",
       "</style>\n",
       "<table border=\"1\" class=\"dataframe\">\n",
       "  <thead>\n",
       "    <tr style=\"text-align: right;\">\n",
       "      <th></th>\n",
       "      <th>min</th>\n",
       "      <th>max</th>\n",
       "      <th>count_0</th>\n",
       "      <th>count_1</th>\n",
       "      <th>total</th>\n",
       "      <th>percentage</th>\n",
       "      <th>bad_rate</th>\n",
       "      <th>good%</th>\n",
       "      <th>bad%</th>\n",
       "      <th>woe</th>\n",
       "    </tr>\n",
       "  </thead>\n",
       "  <tbody>\n",
       "    <tr>\n",
       "      <td>0</td>\n",
       "      <td>21.0</td>\n",
       "      <td>36.0</td>\n",
       "      <td>14797</td>\n",
       "      <td>24817</td>\n",
       "      <td>39614</td>\n",
       "      <td>0.203140</td>\n",
       "      <td>0.626470</td>\n",
       "      <td>0.151467</td>\n",
       "      <td>0.255012</td>\n",
       "      <td>-0.520940</td>\n",
       "    </tr>\n",
       "    <tr>\n",
       "      <td>1</td>\n",
       "      <td>36.0</td>\n",
       "      <td>54.0</td>\n",
       "      <td>39070</td>\n",
       "      <td>51464</td>\n",
       "      <td>90534</td>\n",
       "      <td>0.464258</td>\n",
       "      <td>0.568449</td>\n",
       "      <td>0.399934</td>\n",
       "      <td>0.528828</td>\n",
       "      <td>-0.279363</td>\n",
       "    </tr>\n",
       "    <tr>\n",
       "      <td>2</td>\n",
       "      <td>54.0</td>\n",
       "      <td>61.0</td>\n",
       "      <td>15743</td>\n",
       "      <td>12235</td>\n",
       "      <td>27978</td>\n",
       "      <td>0.143471</td>\n",
       "      <td>0.437308</td>\n",
       "      <td>0.161151</td>\n",
       "      <td>0.125723</td>\n",
       "      <td>0.248259</td>\n",
       "    </tr>\n",
       "    <tr>\n",
       "      <td>3</td>\n",
       "      <td>61.0</td>\n",
       "      <td>64.0</td>\n",
       "      <td>6968</td>\n",
       "      <td>3209</td>\n",
       "      <td>10177</td>\n",
       "      <td>0.052188</td>\n",
       "      <td>0.315319</td>\n",
       "      <td>0.071327</td>\n",
       "      <td>0.032975</td>\n",
       "      <td>0.771533</td>\n",
       "    </tr>\n",
       "    <tr>\n",
       "      <td>4</td>\n",
       "      <td>64.0</td>\n",
       "      <td>74.0</td>\n",
       "      <td>13376</td>\n",
       "      <td>4191</td>\n",
       "      <td>17567</td>\n",
       "      <td>0.090083</td>\n",
       "      <td>0.238572</td>\n",
       "      <td>0.136922</td>\n",
       "      <td>0.043065</td>\n",
       "      <td>1.156687</td>\n",
       "    </tr>\n",
       "    <tr>\n",
       "      <td>5</td>\n",
       "      <td>74.0</td>\n",
       "      <td>107.0</td>\n",
       "      <td>7737</td>\n",
       "      <td>1401</td>\n",
       "      <td>9138</td>\n",
       "      <td>0.046860</td>\n",
       "      <td>0.153316</td>\n",
       "      <td>0.079199</td>\n",
       "      <td>0.014396</td>\n",
       "      <td>1.704992</td>\n",
       "    </tr>\n",
       "  </tbody>\n",
       "</table>\n",
       "</div>"
      ],
      "text/plain": [
       "    min    max  count_0  count_1  total  percentage  bad_rate     good%  \\\n",
       "0  21.0   36.0    14797    24817  39614    0.203140  0.626470  0.151467   \n",
       "1  36.0   54.0    39070    51464  90534    0.464258  0.568449  0.399934   \n",
       "2  54.0   61.0    15743    12235  27978    0.143471  0.437308  0.161151   \n",
       "3  61.0   64.0     6968     3209  10177    0.052188  0.315319  0.071327   \n",
       "4  64.0   74.0    13376     4191  17567    0.090083  0.238572  0.136922   \n",
       "5  74.0  107.0     7737     1401   9138    0.046860  0.153316  0.079199   \n",
       "\n",
       "       bad%       woe  \n",
       "0  0.255012 -0.520940  \n",
       "1  0.528828 -0.279363  \n",
       "2  0.125723  0.248259  \n",
       "3  0.032975  0.771533  \n",
       "4  0.043065  1.156687  \n",
       "5  0.014396  1.704992  "
      ]
     },
     "execution_count": 83,
     "metadata": {},
     "output_type": "execute_result"
    }
   ],
   "source": [
    "bins_df_"
   ]
  },
  {
   "cell_type": "markdown",
   "metadata": {},
   "source": [
    "## 3.3.6 将选取最佳分箱个数的过程包装为函数"
   ]
  },
  {
   "cell_type": "code",
   "execution_count": 84,
   "metadata": {},
   "outputs": [],
   "source": [
    "def graphforbestbin(DF,X,Y,n=6,q=20,graph=True):\n",
    "    \"\"\"\n",
    "    自动最优分箱函数，基于卡方检验的分箱\n",
    "    参数：\n",
    "    DF:需要输入的数据\n",
    "    X：需要分箱的列名\n",
    "    Y:分箱数据对应的标签Y列名\n",
    "    n:保留分箱个数\n",
    "    q:初始分箱个数\n",
    "    graph:是否要画出IV图像\n",
    "    \"\"\"\n",
    "    DF=DF[[X,Y]].copy()\n",
    "    \n",
    "    DF['qcut'],bins=pd.qcut(DF[X],retbins=True,q=q,duplicates='drop')\n",
    "    coount_y0=DF.loc[DF[Y]==0].groupby(by='qcut').count()[Y]\n",
    "    coount_y1=DF.loc[DF[Y]==1].groupby(by='qcut').count()[Y]\n",
    "    num_bins=[*zip(bins,bins[1:],coount_y0,coount_y1)]\n",
    "    \n",
    "    for i in range(q):\n",
    "        if 0 in num_bins[0][2:]:\n",
    "            num_bins[0:2]=[(\n",
    "                num_bins[0][0],\n",
    "                num_bins[1][1],\n",
    "                num_bins[0][2]+num_bins[1][2],\n",
    "                num_bins[0][2]+num_bins[1][3] )]\n",
    "        continue\n",
    "    for i in range(len(num_bins)):\n",
    "        if 0 in num_bins[i][2:]:\n",
    "            num_bins[i-1:i+1]=[(\n",
    "                num_bins[i-1][0],\n",
    "                num_bins[i][1],\n",
    "                num_bins[i-1][2]+num_bins[i][2],\n",
    "                num_bins[i-1][3]+num_bins[i][3]        \n",
    "        )]\n",
    "            break\n",
    "        else:\n",
    "            break\n",
    "    \n",
    "    def get_woe(num_bins):\n",
    "        #通过 num_bins数据计算woe\n",
    "        columns=['min','max','count_0','count_1']\n",
    "        df=pd.DataFrame(num_bins,columns=columns)\n",
    "        df['total']=df.count_0+df.count_1#一个箱子中的所有样本数\n",
    "        df['percentage']=df.total/df.total.sum()\n",
    "        df['bad_rate']=df.count_1/df.total\n",
    "        df['good%']=df.count_0/df.count_0.sum()\n",
    "        df['bad%']=df.count_1/df.count_1.sum()\n",
    "        df['woe']=np.log(df['good%']/df['bad%'])\n",
    "        return df\n",
    "\n",
    "  #计算IV值\n",
    "    def get_iv(df):\n",
    "        rate=df['good%']-df['bad%']\n",
    "        iv=np.sum(rate*df.woe)\n",
    "        return iv\n",
    "    \n",
    "    IV=[]\n",
    "    axisx=[]\n",
    "    while len(num_bins)>n:\n",
    "        pvs=[]\n",
    "    #获取num_bins_两两之间的卡方检验的置信度（或卡方值）\n",
    "        for i in range(len(num_bins)-1):\n",
    "            x1=num_bins[i][2:]#第i组后面两个数\n",
    "            x2=num_bins[i+1][2:]#第i+1组后面两个数\n",
    "        #0返回chi2值，1返回p值\n",
    "            pv=scipy.stats.chi2_contingency([x1,x2])[1]#pv-p value\n",
    "        #chi2=scipy.stats.chi2_contingency([x1,x2])[0]\n",
    "            pvs.append(pv)\n",
    "        \n",
    "    #通过p值进行处理，合并P值最大的两组\n",
    "        i=pvs.index(max(pvs))\n",
    "        num_bins[i:i+2]=[(\n",
    "            num_bins[i][0],\n",
    "            num_bins[i+1][1],\n",
    "            num_bins[i][2]+num_bins[i+1][2],\n",
    "            num_bins[i][3]+num_bins[i+1][3])]\n",
    "        \n",
    "        bins_df=pd.DataFrame(get_woe(num_bins))\n",
    "        axisx.append(len(num_bins))\n",
    "        IV.append(get_iv(bins_df))\n",
    "    \n",
    "    if graph:\n",
    "        plt.figure()\n",
    "        plt.plot(axisx,IV)\n",
    "        plt.xticks(axisx)\n",
    "        plt.xlabel('number of boxes')\n",
    "        plt.ylabel('IV value')\n",
    "        plt.show()\n",
    "        \n",
    "    return bins_df\n",
    "        \n",
    "    \n"
   ]
  },
  {
   "cell_type": "code",
   "execution_count": 85,
   "metadata": {},
   "outputs": [
    {
     "data": {
      "text/plain": [
       "Index(['SeriousDlqin2yrs', 'RevolvingUtilizationOfUnsecuredLines', 'age',\n",
       "       'NumberOfTime30-59DaysPastDueNotWorse', 'DebtRatio', 'MonthlyIncome',\n",
       "       'NumberOfOpenCreditLinesAndLoans', 'NumberOfTimes90DaysLate',\n",
       "       'NumberRealEstateLoansOrLines', 'NumberOfTime60-89DaysPastDueNotWorse',\n",
       "       'NumberOfDependents', 'qcut'],\n",
       "      dtype='object')"
      ]
     },
     "execution_count": 85,
     "metadata": {},
     "output_type": "execute_result"
    }
   ],
   "source": [
    "model_data.columns"
   ]
  },
  {
   "cell_type": "code",
   "execution_count": 86,
   "metadata": {},
   "outputs": [
    {
     "name": "stdout",
     "output_type": "stream",
     "text": [
      "RevolvingUtilizationOfUnsecuredLines\n"
     ]
    },
    {
     "data": {
      "image/png": "[encoded data removed]",
      "text/plain": [
       "<Figure size 432x288 with 1 Axes>"
      ]
     },
     "metadata": {
      "needs_background": "light"
     },
     "output_type": "display_data"
    },
    {
     "name": "stdout",
     "output_type": "stream",
     "text": [
      "age\n"
     ]
    },
    {
     "data": {
      "image/png": "[encoded data removed]",
      "text/plain": [
       "<Figure size 432x288 with 1 Axes>"
      ]
     },
     "metadata": {
      "needs_background": "light"
     },
     "output_type": "display_data"
    },
    {
     "name": "stdout",
     "output_type": "stream",
     "text": [
      "NumberOfTime30-59DaysPastDueNotWorse\n"
     ]
    },
    {
     "data": {
      "image/png": "[encoded data removed]",
      "text/plain": [
       "<Figure size 432x288 with 1 Axes>"
      ]
     },
     "metadata": {
      "needs_background": "light"
     },
     "output_type": "display_data"
    },
    {
     "name": "stdout",
     "output_type": "stream",
     "text": [
      "DebtRatio\n"
     ]
    },
    {
     "data": {
      "image/png": "[encoded data removed]",
      "text/plain": [
       "<Figure size 432x288 with 1 Axes>"
      ]
     },
     "metadata": {
      "needs_background": "light"
     },
     "output_type": "display_data"
    },
    {
     "name": "stdout",
     "output_type": "stream",
     "text": [
      "MonthlyIncome\n"
     ]
    },
    {
     "data": {
      "image/png": "[encoded data removed]",
      "text/plain": [
       "<Figure size 432x288 with 1 Axes>"
      ]
     },
     "metadata": {
      "needs_background": "light"
     },
     "output_type": "display_data"
    },
    {
     "name": "stdout",
     "output_type": "stream",
     "text": [
      "NumberOfOpenCreditLinesAndLoans\n"
     ]
    },
    {
     "data": {
      "image/png": "[encoded data removed]",
      "text/plain": [
       "<Figure size 432x288 with 1 Axes>"
      ]
     },
     "metadata": {
      "needs_background": "light"
     },
     "output_type": "display_data"
    },
    {
     "name": "stdout",
     "output_type": "stream",
     "text": [
      "NumberOfTimes90DaysLate\n"
     ]
    },
    {
     "data": {
      "image/png": "[encoded data removed]",
      "text/plain": [
       "<Figure size 432x288 with 1 Axes>"
      ]
     },
     "metadata": {
      "needs_background": "light"
     },
     "output_type": "display_data"
    },
    {
     "name": "stdout",
     "output_type": "stream",
     "text": [
      "NumberRealEstateLoansOrLines\n"
     ]
    },
    {
     "data": {
      "image/png": "[encoded data removed]",
      "text/plain": [
       "<Figure size 432x288 with 1 Axes>"
      ]
     },
     "metadata": {
      "needs_background": "light"
     },
     "output_type": "display_data"
    },
    {
     "name": "stdout",
     "output_type": "stream",
     "text": [
      "NumberOfTime60-89DaysPastDueNotWorse\n"
     ]
    },
    {
     "data": {
      "image/png": "[encoded data removed]",
      "text/plain": [
       "<Figure size 432x288 with 1 Axes>"
      ]
     },
     "metadata": {
      "needs_background": "light"
     },
     "output_type": "display_data"
    },
    {
     "ename": "UnboundLocalError",
     "evalue": "local variable 'bins_df' referenced before assignment",
     "output_type": "error",
     "traceback": [
      "\u001b[1;31m---------------------------------------------------------------------------\u001b[0m",
      "\u001b[1;31mUnboundLocalError\u001b[0m                         Traceback (most recent call last)",
      "\u001b[1;32m<ipython-input-86-fadf30f275a4>\u001b[0m in \u001b[0;36m<module>\u001b[1;34m\u001b[0m\n\u001b[0;32m      1\u001b[0m \u001b[1;32mfor\u001b[0m \u001b[0mi\u001b[0m \u001b[1;32min\u001b[0m \u001b[0mmodel_data\u001b[0m\u001b[1;33m.\u001b[0m\u001b[0mcolumns\u001b[0m\u001b[1;33m[\u001b[0m\u001b[1;36m1\u001b[0m\u001b[1;33m:\u001b[0m\u001b[1;33m-\u001b[0m\u001b[1;36m1\u001b[0m\u001b[1;33m]\u001b[0m\u001b[1;33m:\u001b[0m\u001b[1;33m\u001b[0m\u001b[1;33m\u001b[0m\u001b[0m\n\u001b[0;32m      2\u001b[0m     \u001b[0mprint\u001b[0m\u001b[1;33m(\u001b[0m\u001b[0mi\u001b[0m\u001b[1;33m)\u001b[0m\u001b[1;33m\u001b[0m\u001b[1;33m\u001b[0m\u001b[0m\n\u001b[1;32m----> 3\u001b[1;33m     \u001b[0mgraphforbestbin\u001b[0m\u001b[1;33m(\u001b[0m\u001b[0mmodel_data\u001b[0m\u001b[1;33m,\u001b[0m\u001b[0mi\u001b[0m\u001b[1;33m,\u001b[0m\u001b[1;34m'SeriousDlqin2yrs'\u001b[0m\u001b[1;33m,\u001b[0m\u001b[0mn\u001b[0m\u001b[1;33m=\u001b[0m\u001b[1;36m2\u001b[0m\u001b[1;33m,\u001b[0m\u001b[0mq\u001b[0m\u001b[1;33m=\u001b[0m\u001b[1;36m20\u001b[0m\u001b[1;33m,\u001b[0m\u001b[0mgraph\u001b[0m\u001b[1;33m=\u001b[0m\u001b[1;32mTrue\u001b[0m\u001b[1;33m)\u001b[0m\u001b[1;33m\u001b[0m\u001b[1;33m\u001b[0m\u001b[0m\n\u001b[0m",
      "\u001b[1;32m<ipython-input-84-d207b5d306cd>\u001b[0m in \u001b[0;36mgraphforbestbin\u001b[1;34m(DF, X, Y, n, q, graph)\u001b[0m\n\u001b[0;32m     88\u001b[0m         \u001b[0mplt\u001b[0m\u001b[1;33m.\u001b[0m\u001b[0mshow\u001b[0m\u001b[1;33m(\u001b[0m\u001b[1;33m)\u001b[0m\u001b[1;33m\u001b[0m\u001b[1;33m\u001b[0m\u001b[0m\n\u001b[0;32m     89\u001b[0m \u001b[1;33m\u001b[0m\u001b[0m\n\u001b[1;32m---> 90\u001b[1;33m     \u001b[1;32mreturn\u001b[0m \u001b[0mbins_df\u001b[0m\u001b[1;33m\u001b[0m\u001b[1;33m\u001b[0m\u001b[0m\n\u001b[0m\u001b[0;32m     91\u001b[0m \u001b[1;33m\u001b[0m\u001b[0m\n\u001b[0;32m     92\u001b[0m \u001b[1;33m\u001b[0m\u001b[0m\n",
      "\u001b[1;31mUnboundLocalError\u001b[0m: local variable 'bins_df' referenced before assignment"
     ]
    }
   ],
   "source": [
    "for i in model_data.columns[1:-1]:\n",
    "    print(i)\n",
    "    graphforbestbin(model_data,i,'SeriousDlqin2yrs',n=2,q=20,graph=True)"
   ]
  },
  {
   "cell_type": "code",
   "execution_count": 87,
   "metadata": {},
   "outputs": [],
   "source": [
    "# 手动分箱\n",
    "\n",
    "auto_col_bins={\n",
    "    'RevolvingUtilizationOfUnsecuredLines':6,\n",
    "    'age':5,\n",
    "    'DebtRatio':4,\n",
    "    'MonthlyIncome':3,\n",
    "    'NumberOfOpenCreditLinesAndLoans':5\n",
    "}\n",
    "#不能使用自动分箱的变量\n",
    "hand_bins={\n",
    "    'NumberOfTime30-59DaysPastDueNotWorse':[0,1,2,13],\n",
    "    'NumberOfTimes90DaysLate':[0,1,2,17],\n",
    "    'NumberRealEstateLoansOrLines':[0,1,2,4,54],\n",
    "    'NumberOfTime60-89DaysPastDueNotWorse':[0,1,2,8],\n",
    "    'NumberOfDependents':[0,1,2,3]}\n",
    "\n",
    "# 保证区间覆盖使用np.inf替换最大值，用-np.inf替换最小值\n",
    "hand_bins={k:[-np.inf,*v[:-1],np.inf] for k,v in hand_bins.items()}"
   ]
  },
  {
   "cell_type": "code",
   "execution_count": 88,
   "metadata": {},
   "outputs": [
    {
     "data": {
      "text/plain": [
       "{'NumberOfTime30-59DaysPastDueNotWorse': [-inf, 0, 1, 2, inf],\n",
       " 'NumberOfTimes90DaysLate': [-inf, 0, 1, 2, inf],\n",
       " 'NumberRealEstateLoansOrLines': [-inf, 0, 1, 2, 4, inf],\n",
       " 'NumberOfTime60-89DaysPastDueNotWorse': [-inf, 0, 1, 2, inf],\n",
       " 'NumberOfDependents': [-inf, 0, 1, 2, inf]}"
      ]
     },
     "execution_count": 88,
     "metadata": {},
     "output_type": "execute_result"
    }
   ],
   "source": [
    "hand_bins"
   ]
  },
  {
   "cell_type": "code",
   "execution_count": 89,
   "metadata": {},
   "outputs": [
    {
     "data": {
      "text/plain": [
       "{'RevolvingUtilizationOfUnsecuredLines': 6,\n",
       " 'age': 5,\n",
       " 'DebtRatio': 4,\n",
       " 'MonthlyIncome': 3,\n",
       " 'NumberOfOpenCreditLinesAndLoans': 5}"
      ]
     },
     "execution_count": 89,
     "metadata": {},
     "output_type": "execute_result"
    }
   ],
   "source": [
    "auto_col_bins"
   ]
  },
  {
   "cell_type": "code",
   "execution_count": 90,
   "metadata": {},
   "outputs": [
    {
     "name": "stdout",
     "output_type": "stream",
     "text": [
      "[0.0, 0.098999107, 0.29760036556327857, 0.4647157395, 0.9827022452644255, 0.9999998999999999, 18300.0]\n",
      "[21.0, 36.0, 54.0, 61.0, 74.0, 107.0]\n",
      "[0.0, 0.017386295179213113, 0.4016965259001521, 1.473081988718592, 329664.0]\n",
      "[0.0, 0.11, 5600.0, 3008750.0]\n",
      "[0.0, 1.0, 3.0, 5.0, 17.0, 57.0]\n"
     ]
    }
   ],
   "source": [
    "bins_of_col={}\n",
    "#生成自动分箱的的分箱区间和分箱后的IV值\n",
    "\n",
    "for col in auto_col_bins:\n",
    "    bins_df=graphforbestbin(model_data,col,'SeriousDlqin2yrs',n=auto_col_bins[col],q=20,graph=False)\n",
    "    bins_list=sorted(set(bins_df['min']).union(bins_df['max']))\n",
    "    print(bins_list)\n",
    "    bins_list[0],bins_list[-1]=-np.inf,np.inf\n",
    "    bins_of_col[col]=bins_list\n",
    "    \n",
    "#合并手动分箱数据\n",
    "bins_of_col.update(hand_bins)"
   ]
  },
  {
   "cell_type": "code",
   "execution_count": 91,
   "metadata": {},
   "outputs": [
    {
     "data": {
      "text/plain": [
       "{'RevolvingUtilizationOfUnsecuredLines': [-inf,\n",
       "  0.098999107,\n",
       "  0.29760036556327857,\n",
       "  0.4647157395,\n",
       "  0.9827022452644255,\n",
       "  0.9999998999999999,\n",
       "  inf],\n",
       " 'age': [-inf, 36.0, 54.0, 61.0, 74.0, inf],\n",
       " 'DebtRatio': [-inf,\n",
       "  0.017386295179213113,\n",
       "  0.4016965259001521,\n",
       "  1.473081988718592,\n",
       "  inf],\n",
       " 'MonthlyIncome': [-inf, 0.11, 5600.0, inf],\n",
       " 'NumberOfOpenCreditLinesAndLoans': [-inf, 1.0, 3.0, 5.0, 17.0, inf],\n",
       " 'NumberOfTime30-59DaysPastDueNotWorse': [-inf, 0, 1, 2, inf],\n",
       " 'NumberOfTimes90DaysLate': [-inf, 0, 1, 2, inf],\n",
       " 'NumberRealEstateLoansOrLines': [-inf, 0, 1, 2, 4, inf],\n",
       " 'NumberOfTime60-89DaysPastDueNotWorse': [-inf, 0, 1, 2, inf],\n",
       " 'NumberOfDependents': [-inf, 0, 1, 2, inf]}"
      ]
     },
     "execution_count": 91,
     "metadata": {},
     "output_type": "execute_result"
    }
   ],
   "source": [
    "bins_of_col"
   ]
  },
  {
   "cell_type": "code",
   "execution_count": 92,
   "metadata": {},
   "outputs": [],
   "source": [
    "bins_df=graphforbestbin(model_data,'age','SeriousDlqin2yrs',n=5,q=20,graph=False)"
   ]
  },
  {
   "cell_type": "code",
   "execution_count": 93,
   "metadata": {},
   "outputs": [
    {
     "data": {
      "text/html": [
       "<div>\n",
       "<style scoped>\n",
       "    .dataframe tbody tr th:only-of-type {\n",
       "        vertical-align: middle;\n",
       "    }\n",
       "\n",
       "    .dataframe tbody tr th {\n",
       "        vertical-align: top;\n",
       "    }\n",
       "\n",
       "    .dataframe thead th {\n",
       "        text-align: right;\n",
       "    }\n",
       "</style>\n",
       "<table border=\"1\" class=\"dataframe\">\n",
       "  <thead>\n",
       "    <tr style=\"text-align: right;\">\n",
       "      <th></th>\n",
       "      <th>min</th>\n",
       "      <th>max</th>\n",
       "      <th>count_0</th>\n",
       "      <th>count_1</th>\n",
       "      <th>total</th>\n",
       "      <th>percentage</th>\n",
       "      <th>bad_rate</th>\n",
       "      <th>good%</th>\n",
       "      <th>bad%</th>\n",
       "      <th>woe</th>\n",
       "    </tr>\n",
       "  </thead>\n",
       "  <tbody>\n",
       "    <tr>\n",
       "      <td>0</td>\n",
       "      <td>21.0</td>\n",
       "      <td>36.0</td>\n",
       "      <td>14797</td>\n",
       "      <td>24817</td>\n",
       "      <td>39614</td>\n",
       "      <td>0.203140</td>\n",
       "      <td>0.626470</td>\n",
       "      <td>0.151467</td>\n",
       "      <td>0.255012</td>\n",
       "      <td>-0.520940</td>\n",
       "    </tr>\n",
       "    <tr>\n",
       "      <td>1</td>\n",
       "      <td>36.0</td>\n",
       "      <td>54.0</td>\n",
       "      <td>39070</td>\n",
       "      <td>51464</td>\n",
       "      <td>90534</td>\n",
       "      <td>0.464258</td>\n",
       "      <td>0.568449</td>\n",
       "      <td>0.399934</td>\n",
       "      <td>0.528828</td>\n",
       "      <td>-0.279363</td>\n",
       "    </tr>\n",
       "    <tr>\n",
       "      <td>2</td>\n",
       "      <td>54.0</td>\n",
       "      <td>61.0</td>\n",
       "      <td>15743</td>\n",
       "      <td>12235</td>\n",
       "      <td>27978</td>\n",
       "      <td>0.143471</td>\n",
       "      <td>0.437308</td>\n",
       "      <td>0.161151</td>\n",
       "      <td>0.125723</td>\n",
       "      <td>0.248259</td>\n",
       "    </tr>\n",
       "    <tr>\n",
       "      <td>3</td>\n",
       "      <td>61.0</td>\n",
       "      <td>74.0</td>\n",
       "      <td>20344</td>\n",
       "      <td>7400</td>\n",
       "      <td>27744</td>\n",
       "      <td>0.142271</td>\n",
       "      <td>0.266724</td>\n",
       "      <td>0.208248</td>\n",
       "      <td>0.076040</td>\n",
       "      <td>1.007470</td>\n",
       "    </tr>\n",
       "    <tr>\n",
       "      <td>4</td>\n",
       "      <td>74.0</td>\n",
       "      <td>107.0</td>\n",
       "      <td>7737</td>\n",
       "      <td>1401</td>\n",
       "      <td>9138</td>\n",
       "      <td>0.046860</td>\n",
       "      <td>0.153316</td>\n",
       "      <td>0.079199</td>\n",
       "      <td>0.014396</td>\n",
       "      <td>1.704992</td>\n",
       "    </tr>\n",
       "  </tbody>\n",
       "</table>\n",
       "</div>"
      ],
      "text/plain": [
       "    min    max  count_0  count_1  total  percentage  bad_rate     good%  \\\n",
       "0  21.0   36.0    14797    24817  39614    0.203140  0.626470  0.151467   \n",
       "1  36.0   54.0    39070    51464  90534    0.464258  0.568449  0.399934   \n",
       "2  54.0   61.0    15743    12235  27978    0.143471  0.437308  0.161151   \n",
       "3  61.0   74.0    20344     7400  27744    0.142271  0.266724  0.208248   \n",
       "4  74.0  107.0     7737     1401   9138    0.046860  0.153316  0.079199   \n",
       "\n",
       "       bad%       woe  \n",
       "0  0.255012 -0.520940  \n",
       "1  0.528828 -0.279363  \n",
       "2  0.125723  0.248259  \n",
       "3  0.076040  1.007470  \n",
       "4  0.014396  1.704992  "
      ]
     },
     "execution_count": 93,
     "metadata": {},
     "output_type": "execute_result"
    }
   ],
   "source": [
    "bins_df"
   ]
  },
  {
   "cell_type": "markdown",
   "metadata": {},
   "source": [
    "##  3.4 计算各箱的WOE并映射到数据中"
   ]
  },
  {
   "cell_type": "code",
   "execution_count": 94,
   "metadata": {},
   "outputs": [
    {
     "data": {
      "text/html": [
       "<div>\n",
       "<style scoped>\n",
       "    .dataframe tbody tr th:only-of-type {\n",
       "        vertical-align: middle;\n",
       "    }\n",
       "\n",
       "    .dataframe tbody tr th {\n",
       "        vertical-align: top;\n",
       "    }\n",
       "\n",
       "    .dataframe thead th {\n",
       "        text-align: right;\n",
       "    }\n",
       "</style>\n",
       "<table border=\"1\" class=\"dataframe\">\n",
       "  <thead>\n",
       "    <tr style=\"text-align: right;\">\n",
       "      <th></th>\n",
       "      <th>age</th>\n",
       "      <th>SeriousDlqin2yrs</th>\n",
       "      <th>cut</th>\n",
       "    </tr>\n",
       "  </thead>\n",
       "  <tbody>\n",
       "    <tr>\n",
       "      <td>0</td>\n",
       "      <td>53.0</td>\n",
       "      <td>0</td>\n",
       "      <td>(36.0, 54.0]</td>\n",
       "    </tr>\n",
       "    <tr>\n",
       "      <td>1</td>\n",
       "      <td>63.0</td>\n",
       "      <td>0</td>\n",
       "      <td>(61.0, 74.0]</td>\n",
       "    </tr>\n",
       "    <tr>\n",
       "      <td>2</td>\n",
       "      <td>39.0</td>\n",
       "      <td>1</td>\n",
       "      <td>(36.0, 54.0]</td>\n",
       "    </tr>\n",
       "    <tr>\n",
       "      <td>3</td>\n",
       "      <td>73.0</td>\n",
       "      <td>0</td>\n",
       "      <td>(61.0, 74.0]</td>\n",
       "    </tr>\n",
       "    <tr>\n",
       "      <td>4</td>\n",
       "      <td>53.0</td>\n",
       "      <td>1</td>\n",
       "      <td>(36.0, 54.0]</td>\n",
       "    </tr>\n",
       "    <tr>\n",
       "      <td>...</td>\n",
       "      <td>...</td>\n",
       "      <td>...</td>\n",
       "      <td>...</td>\n",
       "    </tr>\n",
       "    <tr>\n",
       "      <td>195003</td>\n",
       "      <td>32.0</td>\n",
       "      <td>1</td>\n",
       "      <td>(-inf, 36.0]</td>\n",
       "    </tr>\n",
       "    <tr>\n",
       "      <td>195004</td>\n",
       "      <td>50.0</td>\n",
       "      <td>1</td>\n",
       "      <td>(36.0, 54.0]</td>\n",
       "    </tr>\n",
       "    <tr>\n",
       "      <td>195005</td>\n",
       "      <td>46.0</td>\n",
       "      <td>1</td>\n",
       "      <td>(36.0, 54.0]</td>\n",
       "    </tr>\n",
       "    <tr>\n",
       "      <td>195006</td>\n",
       "      <td>64.0</td>\n",
       "      <td>0</td>\n",
       "      <td>(61.0, 74.0]</td>\n",
       "    </tr>\n",
       "    <tr>\n",
       "      <td>195007</td>\n",
       "      <td>53.0</td>\n",
       "      <td>1</td>\n",
       "      <td>(36.0, 54.0]</td>\n",
       "    </tr>\n",
       "  </tbody>\n",
       "</table>\n",
       "<p>195008 rows × 3 columns</p>\n",
       "</div>"
      ],
      "text/plain": [
       "         age  SeriousDlqin2yrs           cut\n",
       "0       53.0                 0  (36.0, 54.0]\n",
       "1       63.0                 0  (61.0, 74.0]\n",
       "2       39.0                 1  (36.0, 54.0]\n",
       "3       73.0                 0  (61.0, 74.0]\n",
       "4       53.0                 1  (36.0, 54.0]\n",
       "...      ...               ...           ...\n",
       "195003  32.0                 1  (-inf, 36.0]\n",
       "195004  50.0                 1  (36.0, 54.0]\n",
       "195005  46.0                 1  (36.0, 54.0]\n",
       "195006  64.0                 0  (61.0, 74.0]\n",
       "195007  53.0                 1  (36.0, 54.0]\n",
       "\n",
       "[195008 rows x 3 columns]"
      ]
     },
     "execution_count": 94,
     "metadata": {},
     "output_type": "execute_result"
    }
   ],
   "source": [
    "# 现在已经有了箱子，接下来要计算各箱的WOE，并且把WOE替换到原来的model_data中，因为将使用WOE覆盖后的数据建模\n",
    "data=model_data.copy()\n",
    "\n",
    "\n",
    "data=data[['age','SeriousDlqin2yrs']].copy()\n",
    "\n",
    "data['cut']=pd.cut(data['age'],[-np.inf, 36.0, 54.0, 61.0, 74.0, np.inf])\n",
    "data"
   ]
  },
  {
   "cell_type": "code",
   "execution_count": 95,
   "metadata": {},
   "outputs": [
    {
     "data": {
      "text/plain": [
       "cut           SeriousDlqin2yrs\n",
       "(-inf, 36.0]  1                   24817\n",
       "              0                   14797\n",
       "(36.0, 54.0]  1                   51464\n",
       "              0                   39070\n",
       "(54.0, 61.0]  0                   15743\n",
       "              1                   12235\n",
       "(61.0, 74.0]  0                   20344\n",
       "              1                    7400\n",
       "(74.0, inf]   0                    7737\n",
       "              1                    1401\n",
       "Name: SeriousDlqin2yrs, dtype: int64"
      ]
     },
     "execution_count": 95,
     "metadata": {},
     "output_type": "execute_result"
    }
   ],
   "source": [
    "data.groupby('cut')['SeriousDlqin2yrs'].value_counts()#按分箱聚合"
   ]
  },
  {
   "cell_type": "code",
   "execution_count": 96,
   "metadata": {},
   "outputs": [
    {
     "data": {
      "text/html": [
       "<div>\n",
       "<style scoped>\n",
       "    .dataframe tbody tr th:only-of-type {\n",
       "        vertical-align: middle;\n",
       "    }\n",
       "\n",
       "    .dataframe tbody tr th {\n",
       "        vertical-align: top;\n",
       "    }\n",
       "\n",
       "    .dataframe thead th {\n",
       "        text-align: right;\n",
       "    }\n",
       "</style>\n",
       "<table border=\"1\" class=\"dataframe\">\n",
       "  <thead>\n",
       "    <tr style=\"text-align: right;\">\n",
       "      <th>SeriousDlqin2yrs</th>\n",
       "      <th>0</th>\n",
       "      <th>1</th>\n",
       "    </tr>\n",
       "    <tr>\n",
       "      <th>cut</th>\n",
       "      <th></th>\n",
       "      <th></th>\n",
       "    </tr>\n",
       "  </thead>\n",
       "  <tbody>\n",
       "    <tr>\n",
       "      <td>(-inf, 36.0]</td>\n",
       "      <td>14797</td>\n",
       "      <td>24817</td>\n",
       "    </tr>\n",
       "    <tr>\n",
       "      <td>(36.0, 54.0]</td>\n",
       "      <td>39070</td>\n",
       "      <td>51464</td>\n",
       "    </tr>\n",
       "    <tr>\n",
       "      <td>(54.0, 61.0]</td>\n",
       "      <td>15743</td>\n",
       "      <td>12235</td>\n",
       "    </tr>\n",
       "    <tr>\n",
       "      <td>(61.0, 74.0]</td>\n",
       "      <td>20344</td>\n",
       "      <td>7400</td>\n",
       "    </tr>\n",
       "    <tr>\n",
       "      <td>(74.0, inf]</td>\n",
       "      <td>7737</td>\n",
       "      <td>1401</td>\n",
       "    </tr>\n",
       "  </tbody>\n",
       "</table>\n",
       "</div>"
      ],
      "text/plain": [
       "SeriousDlqin2yrs      0      1\n",
       "cut                           \n",
       "(-inf, 36.0]      14797  24817\n",
       "(36.0, 54.0]      39070  51464\n",
       "(54.0, 61.0]      15743  12235\n",
       "(61.0, 74.0]      20344   7400\n",
       "(74.0, inf]        7737   1401"
      ]
     },
     "execution_count": 96,
     "metadata": {},
     "output_type": "execute_result"
    }
   ],
   "source": [
    "# 使用unstack()来将树状结构变成表状结构\n",
    "data.groupby('cut')['SeriousDlqin2yrs'].value_counts().unstack()"
   ]
  },
  {
   "cell_type": "code",
   "execution_count": 97,
   "metadata": {},
   "outputs": [],
   "source": [
    "bins_df=data.groupby('cut')['SeriousDlqin2yrs'].value_counts().unstack()\n",
    "bins_df['woe']=np.log(bins_df[0]/bins_df[0].sum()/(bins_df[1]/bins_df[1].sum()))"
   ]
  },
  {
   "cell_type": "code",
   "execution_count": 98,
   "metadata": {},
   "outputs": [
    {
     "data": {
      "text/html": [
       "<div>\n",
       "<style scoped>\n",
       "    .dataframe tbody tr th:only-of-type {\n",
       "        vertical-align: middle;\n",
       "    }\n",
       "\n",
       "    .dataframe tbody tr th {\n",
       "        vertical-align: top;\n",
       "    }\n",
       "\n",
       "    .dataframe thead th {\n",
       "        text-align: right;\n",
       "    }\n",
       "</style>\n",
       "<table border=\"1\" class=\"dataframe\">\n",
       "  <thead>\n",
       "    <tr style=\"text-align: right;\">\n",
       "      <th>SeriousDlqin2yrs</th>\n",
       "      <th>0</th>\n",
       "      <th>1</th>\n",
       "      <th>woe</th>\n",
       "    </tr>\n",
       "    <tr>\n",
       "      <th>cut</th>\n",
       "      <th></th>\n",
       "      <th></th>\n",
       "      <th></th>\n",
       "    </tr>\n",
       "  </thead>\n",
       "  <tbody>\n",
       "    <tr>\n",
       "      <td>(-inf, 36.0]</td>\n",
       "      <td>14797</td>\n",
       "      <td>24817</td>\n",
       "      <td>-0.520940</td>\n",
       "    </tr>\n",
       "    <tr>\n",
       "      <td>(36.0, 54.0]</td>\n",
       "      <td>39070</td>\n",
       "      <td>51464</td>\n",
       "      <td>-0.279363</td>\n",
       "    </tr>\n",
       "    <tr>\n",
       "      <td>(54.0, 61.0]</td>\n",
       "      <td>15743</td>\n",
       "      <td>12235</td>\n",
       "      <td>0.248259</td>\n",
       "    </tr>\n",
       "    <tr>\n",
       "      <td>(61.0, 74.0]</td>\n",
       "      <td>20344</td>\n",
       "      <td>7400</td>\n",
       "      <td>1.007470</td>\n",
       "    </tr>\n",
       "    <tr>\n",
       "      <td>(74.0, inf]</td>\n",
       "      <td>7737</td>\n",
       "      <td>1401</td>\n",
       "      <td>1.704992</td>\n",
       "    </tr>\n",
       "  </tbody>\n",
       "</table>\n",
       "</div>"
      ],
      "text/plain": [
       "SeriousDlqin2yrs      0      1       woe\n",
       "cut                                     \n",
       "(-inf, 36.0]      14797  24817 -0.520940\n",
       "(36.0, 54.0]      39070  51464 -0.279363\n",
       "(54.0, 61.0]      15743  12235  0.248259\n",
       "(61.0, 74.0]      20344   7400  1.007470\n",
       "(74.0, inf]        7737   1401  1.704992"
      ]
     },
     "execution_count": 98,
     "metadata": {},
     "output_type": "execute_result"
    }
   ],
   "source": [
    "bins_df"
   ]
  },
  {
   "cell_type": "code",
   "execution_count": 99,
   "metadata": {},
   "outputs": [],
   "source": [
    "# 封装函数\n",
    "def get_woe(df,col,y,bins):\n",
    "    df=df[[col,y]].copy()\n",
    "    df['cut']=pd.cut(df[col],bins)\n",
    "    bins_df=df.groupby('cut')[y].value_counts().unstack()\n",
    "    woe=bins_df['woe']=np.log(bins_df[0]/bins_df[0].sum()/(bins_df[1]/bins_df[1].sum()))\n",
    "    return woe"
   ]
  },
  {
   "cell_type": "code",
   "execution_count": 100,
   "metadata": {},
   "outputs": [],
   "source": [
    "woeall={}\n",
    "for col in bins_of_col:\n",
    "    woeall[col]=get_woe(model_data,col,'SeriousDlqin2yrs',bins_of_col[col])"
   ]
  },
  {
   "cell_type": "code",
   "execution_count": 101,
   "metadata": {},
   "outputs": [
    {
     "data": {
      "text/plain": [
       "{'RevolvingUtilizationOfUnsecuredLines': cut\n",
       " (-inf, 0.099]     2.199374\n",
       " (0.099, 0.298]    0.666679\n",
       " (0.298, 0.465]   -0.125930\n",
       " (0.465, 0.983]   -1.071662\n",
       " (0.983, 1.0]     -0.474941\n",
       " (1.0, inf]       -2.039594\n",
       " dtype: float64, 'age': cut\n",
       " (-inf, 36.0]   -0.520940\n",
       " (36.0, 54.0]   -0.279363\n",
       " (54.0, 61.0]    0.248259\n",
       " (61.0, 74.0]    1.007470\n",
       " (74.0, inf]     1.704992\n",
       " dtype: float64, 'DebtRatio': cut\n",
       " (-inf, 0.0174]     1.507780\n",
       " (0.0174, 0.402]    0.036761\n",
       " (0.402, 1.473]    -0.388390\n",
       " (1.473, inf]       0.174989\n",
       " dtype: float64, 'MonthlyIncome': cut\n",
       " (-inf, 0.11]      1.485894\n",
       " (0.11, 5600.0]   -0.242206\n",
       " (5600.0, inf]     0.232423\n",
       " dtype: float64, 'NumberOfOpenCreditLinesAndLoans': cut\n",
       " (-inf, 1.0]   -0.841488\n",
       " (1.0, 3.0]    -0.336154\n",
       " (3.0, 5.0]    -0.054322\n",
       " (5.0, 17.0]    0.124254\n",
       " (17.0, inf]    0.467523\n",
       " dtype: float64, 'NumberOfTime30-59DaysPastDueNotWorse': cut\n",
       " (-inf, 0.0]    0.352592\n",
       " (0.0, 1.0]    -0.871376\n",
       " (1.0, 2.0]    -1.380844\n",
       " (2.0, inf]    -1.541517\n",
       " dtype: float64, 'NumberOfTimes90DaysLate': cut\n",
       " (-inf, 0.0]    0.233924\n",
       " (0.0, 1.0]    -1.750669\n",
       " (1.0, 2.0]    -2.249493\n",
       " (2.0, inf]    -2.406633\n",
       " dtype: float64, 'NumberRealEstateLoansOrLines': cut\n",
       " (-inf, 0.0]   -0.393784\n",
       " (0.0, 1.0]     0.194687\n",
       " (1.0, 2.0]     0.617325\n",
       " (2.0, 4.0]     0.391640\n",
       " (4.0, inf]    -0.290673\n",
       " dtype: float64, 'NumberOfTime60-89DaysPastDueNotWorse': cut\n",
       " (-inf, 0.0]    0.124511\n",
       " (0.0, 1.0]    -1.384399\n",
       " (1.0, 2.0]    -1.777138\n",
       " (2.0, inf]    -1.806485\n",
       " dtype: float64, 'NumberOfDependents': cut\n",
       " (-inf, 0.0]    0.658684\n",
       " (0.0, 1.0]    -0.513663\n",
       " (1.0, 2.0]    -0.531125\n",
       " (2.0, inf]    -0.477005\n",
       " dtype: float64}"
      ]
     },
     "execution_count": 101,
     "metadata": {},
     "output_type": "execute_result"
    }
   ],
   "source": [
    "woeall"
   ]
  },
  {
   "cell_type": "code",
   "execution_count": 102,
   "metadata": {},
   "outputs": [],
   "source": [
    "# 接下来把所有WOE映射到原始数据中\n",
    "#不希望覆盖掉原有的数据，创建一个新的DataFrame,索引和原始数据model_data一模一样\n",
    "model_woe=pd.DataFrame(index=model_data.index)\n",
    "\n",
    "#将原始数据分箱后，按箱的结果把woe结构用map函数映射到数据中\n",
    "model_woe['age']=pd.cut(model_data['age'],bins_of_col['age']).map(woeall['age'])"
   ]
  },
  {
   "cell_type": "code",
   "execution_count": 103,
   "metadata": {},
   "outputs": [
    {
     "data": {
      "text/html": [
       "<div>\n",
       "<style scoped>\n",
       "    .dataframe tbody tr th:only-of-type {\n",
       "        vertical-align: middle;\n",
       "    }\n",
       "\n",
       "    .dataframe tbody tr th {\n",
       "        vertical-align: top;\n",
       "    }\n",
       "\n",
       "    .dataframe thead th {\n",
       "        text-align: right;\n",
       "    }\n",
       "</style>\n",
       "<table border=\"1\" class=\"dataframe\">\n",
       "  <thead>\n",
       "    <tr style=\"text-align: right;\">\n",
       "      <th></th>\n",
       "      <th>age</th>\n",
       "    </tr>\n",
       "  </thead>\n",
       "  <tbody>\n",
       "    <tr>\n",
       "      <td>0</td>\n",
       "      <td>-0.279363</td>\n",
       "    </tr>\n",
       "    <tr>\n",
       "      <td>1</td>\n",
       "      <td>1.007470</td>\n",
       "    </tr>\n",
       "    <tr>\n",
       "      <td>2</td>\n",
       "      <td>-0.279363</td>\n",
       "    </tr>\n",
       "    <tr>\n",
       "      <td>3</td>\n",
       "      <td>1.007470</td>\n",
       "    </tr>\n",
       "    <tr>\n",
       "      <td>4</td>\n",
       "      <td>-0.279363</td>\n",
       "    </tr>\n",
       "  </tbody>\n",
       "</table>\n",
       "</div>"
      ],
      "text/plain": [
       "        age\n",
       "0 -0.279363\n",
       "1  1.007470\n",
       "2 -0.279363\n",
       "3  1.007470\n",
       "4 -0.279363"
      ]
     },
     "execution_count": 103,
     "metadata": {},
     "output_type": "execute_result"
    }
   ],
   "source": [
    "model_woe.head()"
   ]
  },
  {
   "cell_type": "code",
   "execution_count": 104,
   "metadata": {},
   "outputs": [],
   "source": [
    "#对所有特征操作可以写成：\n",
    "for col in bins_of_col:\n",
    "    model_woe[col]=pd.cut(model_data[col],bins_of_col[col]).map(woeall[col])\n",
    "    \n",
    "#把标签补充到数据当中\n",
    "model_woe['SeriousDlqin2yrs']=model_data['SeriousDlqin2yrs']\n"
   ]
  },
  {
   "cell_type": "markdown",
   "metadata": {},
   "source": [
    "# 3.5 建模与模型验证\n"
   ]
  },
  {
   "cell_type": "code",
   "execution_count": 105,
   "metadata": {},
   "outputs": [],
   "source": [
    "#处理测试集\n",
    "vali_woe=pd.DataFrame(index=vali_data.index)\n",
    "for col in bins_of_col:\n",
    "    vali_woe[col]=pd.cut(vali_data[col],bins_of_col[col]).map(woeall[col])\n",
    "vali_woe['SeriousDlqin2yrs']=vali_data['SeriousDlqin2yrs']\n"
   ]
  },
  {
   "cell_type": "code",
   "execution_count": 106,
   "metadata": {},
   "outputs": [
    {
     "data": {
      "text/html": [
       "<div>\n",
       "<style scoped>\n",
       "    .dataframe tbody tr th:only-of-type {\n",
       "        vertical-align: middle;\n",
       "    }\n",
       "\n",
       "    .dataframe tbody tr th {\n",
       "        vertical-align: top;\n",
       "    }\n",
       "\n",
       "    .dataframe thead th {\n",
       "        text-align: right;\n",
       "    }\n",
       "</style>\n",
       "<table border=\"1\" class=\"dataframe\">\n",
       "  <thead>\n",
       "    <tr style=\"text-align: right;\">\n",
       "      <th></th>\n",
       "      <th>RevolvingUtilizationOfUnsecuredLines</th>\n",
       "      <th>age</th>\n",
       "      <th>DebtRatio</th>\n",
       "      <th>MonthlyIncome</th>\n",
       "      <th>NumberOfOpenCreditLinesAndLoans</th>\n",
       "      <th>NumberOfTime30-59DaysPastDueNotWorse</th>\n",
       "      <th>NumberOfTimes90DaysLate</th>\n",
       "      <th>NumberRealEstateLoansOrLines</th>\n",
       "      <th>NumberOfTime60-89DaysPastDueNotWorse</th>\n",
       "      <th>NumberOfDependents</th>\n",
       "      <th>SeriousDlqin2yrs</th>\n",
       "    </tr>\n",
       "  </thead>\n",
       "  <tbody>\n",
       "    <tr>\n",
       "      <td>0</td>\n",
       "      <td>2.199374</td>\n",
       "      <td>0.248259</td>\n",
       "      <td>1.507780</td>\n",
       "      <td>-0.242206</td>\n",
       "      <td>-0.054322</td>\n",
       "      <td>0.352592</td>\n",
       "      <td>0.233924</td>\n",
       "      <td>-0.393784</td>\n",
       "      <td>0.124511</td>\n",
       "      <td>0.658684</td>\n",
       "      <td>0</td>\n",
       "    </tr>\n",
       "    <tr>\n",
       "      <td>1</td>\n",
       "      <td>-1.071662</td>\n",
       "      <td>-0.279363</td>\n",
       "      <td>0.036761</td>\n",
       "      <td>0.232423</td>\n",
       "      <td>0.124254</td>\n",
       "      <td>0.352592</td>\n",
       "      <td>0.233924</td>\n",
       "      <td>0.617325</td>\n",
       "      <td>0.124511</td>\n",
       "      <td>-0.477005</td>\n",
       "      <td>1</td>\n",
       "    </tr>\n",
       "    <tr>\n",
       "      <td>2</td>\n",
       "      <td>2.199374</td>\n",
       "      <td>1.007470</td>\n",
       "      <td>0.036761</td>\n",
       "      <td>0.232423</td>\n",
       "      <td>-0.054322</td>\n",
       "      <td>0.352592</td>\n",
       "      <td>0.233924</td>\n",
       "      <td>-0.393784</td>\n",
       "      <td>0.124511</td>\n",
       "      <td>0.658684</td>\n",
       "      <td>0</td>\n",
       "    </tr>\n",
       "    <tr>\n",
       "      <td>3</td>\n",
       "      <td>2.199374</td>\n",
       "      <td>-0.279363</td>\n",
       "      <td>0.036761</td>\n",
       "      <td>-0.242206</td>\n",
       "      <td>0.124254</td>\n",
       "      <td>0.352592</td>\n",
       "      <td>0.233924</td>\n",
       "      <td>0.194687</td>\n",
       "      <td>0.124511</td>\n",
       "      <td>0.658684</td>\n",
       "      <td>0</td>\n",
       "    </tr>\n",
       "    <tr>\n",
       "      <td>4</td>\n",
       "      <td>-1.071662</td>\n",
       "      <td>-0.279363</td>\n",
       "      <td>0.036761</td>\n",
       "      <td>-0.242206</td>\n",
       "      <td>0.124254</td>\n",
       "      <td>0.352592</td>\n",
       "      <td>0.233924</td>\n",
       "      <td>-0.393784</td>\n",
       "      <td>0.124511</td>\n",
       "      <td>-0.513663</td>\n",
       "      <td>1</td>\n",
       "    </tr>\n",
       "  </tbody>\n",
       "</table>\n",
       "</div>"
      ],
      "text/plain": [
       "  RevolvingUtilizationOfUnsecuredLines       age DebtRatio MonthlyIncome  \\\n",
       "0                             2.199374  0.248259  1.507780     -0.242206   \n",
       "1                            -1.071662 -0.279363  0.036761      0.232423   \n",
       "2                             2.199374  1.007470  0.036761      0.232423   \n",
       "3                             2.199374 -0.279363  0.036761     -0.242206   \n",
       "4                            -1.071662 -0.279363  0.036761     -0.242206   \n",
       "\n",
       "  NumberOfOpenCreditLinesAndLoans NumberOfTime30-59DaysPastDueNotWorse  \\\n",
       "0                       -0.054322                             0.352592   \n",
       "1                        0.124254                             0.352592   \n",
       "2                       -0.054322                             0.352592   \n",
       "3                        0.124254                             0.352592   \n",
       "4                        0.124254                             0.352592   \n",
       "\n",
       "  NumberOfTimes90DaysLate NumberRealEstateLoansOrLines  \\\n",
       "0                0.233924                    -0.393784   \n",
       "1                0.233924                     0.617325   \n",
       "2                0.233924                    -0.393784   \n",
       "3                0.233924                     0.194687   \n",
       "4                0.233924                    -0.393784   \n",
       "\n",
       "  NumberOfTime60-89DaysPastDueNotWorse NumberOfDependents  SeriousDlqin2yrs  \n",
       "0                             0.124511           0.658684                 0  \n",
       "1                             0.124511          -0.477005                 1  \n",
       "2                             0.124511           0.658684                 0  \n",
       "3                             0.124511           0.658684                 0  \n",
       "4                             0.124511          -0.513663                 1  "
      ]
     },
     "execution_count": 106,
     "metadata": {},
     "output_type": "execute_result"
    }
   ],
   "source": [
    "vali_woe.head()"
   ]
  },
  {
   "cell_type": "code",
   "execution_count": 107,
   "metadata": {},
   "outputs": [],
   "source": [
    "#接下来顺利建模\n",
    "X=model_woe.iloc[:,:-1]\n",
    "y=model_woe.iloc[:,-1]\n",
    "vali_X=vali_woe.iloc[:,:-1]\n",
    "vali_y=vali_woe.iloc[:,-1]"
   ]
  },
  {
   "cell_type": "code",
   "execution_count": 108,
   "metadata": {},
   "outputs": [
    {
     "data": {
      "text/plain": [
       "0.7763951373600076"
      ]
     },
     "execution_count": 108,
     "metadata": {},
     "output_type": "execute_result"
    }
   ],
   "source": [
    "from sklearn.linear_model import LogisticRegression as LR\n",
    "\n",
    "lr=LR().fit(X,y)\n",
    "lr.score(vali_X,vali_y)#"
   ]
  },
  {
   "cell_type": "code",
   "execution_count": 109,
   "metadata": {},
   "outputs": [
    {
     "data": {
      "image/png": "[encoded data removed]",
      "text/plain": [
       "<Figure size 432x288 with 1 Axes>"
      ]
     },
     "metadata": {
      "needs_background": "light"
     },
     "output_type": "display_data"
    }
   ],
   "source": [
    "c_1=np.linspace(0.01,1,20)\n",
    "c_2=np.linspace(0.01,0.2,20)\n",
    "\n",
    "score=[]\n",
    "for i in c_1:\n",
    "    lr=LR(solver='liblinear',C=i).fit(X,y)\n",
    "    score.append(lr.score(vali_X,vali_y))\n",
    "    \n",
    "plt.figure()\n",
    "plt.plot(c_1,score)\n",
    "plt.show()"
   ]
  },
  {
   "cell_type": "code",
   "execution_count": 134,
   "metadata": {},
   "outputs": [
    {
     "data": {
      "image/png": "[encoded data removed]",
      "text/plain": [
       "<Figure size 432x288 with 1 Axes>"
      ]
     },
     "metadata": {
      "needs_background": "light"
     },
     "output_type": "display_data"
    }
   ],
   "source": [
    "c_2=np.linspace(0.01,0.2,20)\n",
    "\n",
    "score=[]\n",
    "for i in c_2:\n",
    "    lr=LR(solver='liblinear',C=i).fit(X,y)\n",
    "    score.append(lr.score(vali_X,vali_y))\n",
    "    \n",
    "plt.figure()\n",
    "plt.plot(c_2,score)\n",
    "plt.xlabel('C')\n",
    "plt.ylabel('Score')\n",
    "plt.show()"
   ]
  },
  {
   "cell_type": "code",
   "execution_count": 110,
   "metadata": {},
   "outputs": [
    {
     "data": {
      "text/plain": [
       "array([5], dtype=int32)"
      ]
     },
     "execution_count": 110,
     "metadata": {},
     "output_type": "execute_result"
    }
   ],
   "source": [
    "lr.n_iter_"
   ]
  },
  {
   "cell_type": "code",
   "execution_count": 132,
   "metadata": {},
   "outputs": [
    {
     "name": "stderr",
     "output_type": "stream",
     "text": [
      "D:\\Anoconda\\lib\\site-packages\\sklearn\\svm\\_base.py:977: ConvergenceWarning: Liblinear failed to converge, increase the number of iterations.\n",
      "  \"the number of iterations.\", ConvergenceWarning)\n",
      "D:\\Anoconda\\lib\\site-packages\\sklearn\\svm\\_base.py:977: ConvergenceWarning: Liblinear failed to converge, increase the number of iterations.\n",
      "  \"the number of iterations.\", ConvergenceWarning)\n",
      "D:\\Anoconda\\lib\\site-packages\\sklearn\\svm\\_base.py:977: ConvergenceWarning: Liblinear failed to converge, increase the number of iterations.\n",
      "  \"the number of iterations.\", ConvergenceWarning)\n",
      "D:\\Anoconda\\lib\\site-packages\\sklearn\\svm\\_base.py:977: ConvergenceWarning: Liblinear failed to converge, increase the number of iterations.\n",
      "  \"the number of iterations.\", ConvergenceWarning)\n",
      "D:\\Anoconda\\lib\\site-packages\\sklearn\\svm\\_base.py:977: ConvergenceWarning: Liblinear failed to converge, increase the number of iterations.\n",
      "  \"the number of iterations.\", ConvergenceWarning)\n"
     ]
    },
    {
     "data": {
      "image/png": "[encoded data removed]",
      "text/plain": [
       "<Figure size 432x288 with 1 Axes>"
      ]
     },
     "metadata": {
      "needs_background": "light"
     },
     "output_type": "display_data"
    }
   ],
   "source": [
    "score=[]\n",
    "for i in [1,2,3,4,5,6]:\n",
    "    lr=LR(solver='liblinear',C=0.025,max_iter=i).fit(X,y)\n",
    "    score.append(lr.score(vali_X,vali_y))\n",
    "plt.figure()\n",
    "plt.plot([1,2,3,4,5,6],score)\n",
    "plt.show()"
   ]
  },
  {
   "cell_type": "code",
   "execution_count": 133,
   "metadata": {},
   "outputs": [
    {
     "data": {
      "text/plain": [
       "<matplotlib.axes._subplots.AxesSubplot at 0x2c83ec8588>"
      ]
     },
     "execution_count": 133,
     "metadata": {},
     "output_type": "execute_result"
    },
    {
     "data": {
      "image/png": "[encoded data removed]",
      "text/plain": [
       "<Figure size 432x432 with 1 Axes>"
      ]
     },
     "metadata": {
      "needs_background": "light"
     },
     "output_type": "display_data"
    }
   ],
   "source": [
    "# ROC曲线\n",
    "import scikitplot as skplt\n",
    "vali_proba_df=pd.DataFrame(lr.predict_proba(vali_X))\n",
    "skplt.metrics.plot_roc(vali_y,vali_proba_df,plot_micro=False,figsize=(6,6),plot_macro=False)"
   ]
  },
  {
   "cell_type": "code",
   "execution_count": 119,
   "metadata": {},
   "outputs": [],
   "source": [
    "B=20/np.log(2)\n",
    "A=600+B*np.log(1/60)"
   ]
  },
  {
   "cell_type": "code",
   "execution_count": 120,
   "metadata": {},
   "outputs": [
    {
     "data": {
      "text/plain": [
       "(28.85390081777927, 481.8621880878296)"
      ]
     },
     "execution_count": 120,
     "metadata": {},
     "output_type": "execute_result"
    }
   ],
   "source": [
    "B,A"
   ]
  },
  {
   "cell_type": "code",
   "execution_count": 121,
   "metadata": {},
   "outputs": [
    {
     "data": {
      "text/plain": [
       "array([481.97408625])"
      ]
     },
     "execution_count": 121,
     "metadata": {},
     "output_type": "execute_result"
    }
   ],
   "source": [
    "base_score=A-B*lr.intercept_\n",
    "base_score"
   ]
  },
  {
   "cell_type": "code",
   "execution_count": 124,
   "metadata": {},
   "outputs": [
    {
     "data": {
      "text/html": [
       "<div>\n",
       "<style scoped>\n",
       "    .dataframe tbody tr th:only-of-type {\n",
       "        vertical-align: middle;\n",
       "    }\n",
       "\n",
       "    .dataframe tbody tr th {\n",
       "        vertical-align: top;\n",
       "    }\n",
       "\n",
       "    .dataframe thead th {\n",
       "        text-align: right;\n",
       "    }\n",
       "</style>\n",
       "<table border=\"1\" class=\"dataframe\">\n",
       "  <thead>\n",
       "    <tr style=\"text-align: right;\">\n",
       "      <th></th>\n",
       "      <th>SeriousDlqin2yrs</th>\n",
       "      <th>RevolvingUtilizationOfUnsecuredLines</th>\n",
       "      <th>age</th>\n",
       "      <th>NumberOfTime30-59DaysPastDueNotWorse</th>\n",
       "      <th>DebtRatio</th>\n",
       "      <th>MonthlyIncome</th>\n",
       "      <th>NumberOfOpenCreditLinesAndLoans</th>\n",
       "      <th>NumberOfTimes90DaysLate</th>\n",
       "      <th>NumberRealEstateLoansOrLines</th>\n",
       "      <th>NumberOfTime60-89DaysPastDueNotWorse</th>\n",
       "      <th>NumberOfDependents</th>\n",
       "      <th>qcut</th>\n",
       "    </tr>\n",
       "  </thead>\n",
       "  <tbody>\n",
       "    <tr>\n",
       "      <td>0</td>\n",
       "      <td>0</td>\n",
       "      <td>0.015404</td>\n",
       "      <td>53.0</td>\n",
       "      <td>0</td>\n",
       "      <td>0.121802</td>\n",
       "      <td>4728.0</td>\n",
       "      <td>5</td>\n",
       "      <td>0</td>\n",
       "      <td>0</td>\n",
       "      <td>0</td>\n",
       "      <td>0.000000</td>\n",
       "      <td>(52.0, 54.0]</td>\n",
       "    </tr>\n",
       "    <tr>\n",
       "      <td>1</td>\n",
       "      <td>0</td>\n",
       "      <td>0.168311</td>\n",
       "      <td>63.0</td>\n",
       "      <td>0</td>\n",
       "      <td>0.141964</td>\n",
       "      <td>1119.0</td>\n",
       "      <td>5</td>\n",
       "      <td>0</td>\n",
       "      <td>0</td>\n",
       "      <td>0</td>\n",
       "      <td>0.000000</td>\n",
       "      <td>(61.0, 64.0]</td>\n",
       "    </tr>\n",
       "    <tr>\n",
       "      <td>2</td>\n",
       "      <td>1</td>\n",
       "      <td>1.063570</td>\n",
       "      <td>39.0</td>\n",
       "      <td>1</td>\n",
       "      <td>0.417663</td>\n",
       "      <td>3500.0</td>\n",
       "      <td>5</td>\n",
       "      <td>1</td>\n",
       "      <td>0</td>\n",
       "      <td>2</td>\n",
       "      <td>3.716057</td>\n",
       "      <td>(36.0, 39.0]</td>\n",
       "    </tr>\n",
       "    <tr>\n",
       "      <td>3</td>\n",
       "      <td>0</td>\n",
       "      <td>0.088684</td>\n",
       "      <td>73.0</td>\n",
       "      <td>0</td>\n",
       "      <td>0.522822</td>\n",
       "      <td>5301.0</td>\n",
       "      <td>11</td>\n",
       "      <td>0</td>\n",
       "      <td>2</td>\n",
       "      <td>0</td>\n",
       "      <td>0.000000</td>\n",
       "      <td>(68.0, 74.0]</td>\n",
       "    </tr>\n",
       "    <tr>\n",
       "      <td>4</td>\n",
       "      <td>1</td>\n",
       "      <td>0.622999</td>\n",
       "      <td>53.0</td>\n",
       "      <td>0</td>\n",
       "      <td>0.423650</td>\n",
       "      <td>13000.0</td>\n",
       "      <td>9</td>\n",
       "      <td>0</td>\n",
       "      <td>2</td>\n",
       "      <td>0</td>\n",
       "      <td>0.181999</td>\n",
       "      <td>(52.0, 54.0]</td>\n",
       "    </tr>\n",
       "  </tbody>\n",
       "</table>\n",
       "</div>"
      ],
      "text/plain": [
       "   SeriousDlqin2yrs  RevolvingUtilizationOfUnsecuredLines   age  \\\n",
       "0                 0                              0.015404  53.0   \n",
       "1                 0                              0.168311  63.0   \n",
       "2                 1                              1.063570  39.0   \n",
       "3                 0                              0.088684  73.0   \n",
       "4                 1                              0.622999  53.0   \n",
       "\n",
       "   NumberOfTime30-59DaysPastDueNotWorse  DebtRatio  MonthlyIncome  \\\n",
       "0                                     0   0.121802         4728.0   \n",
       "1                                     0   0.141964         1119.0   \n",
       "2                                     1   0.417663         3500.0   \n",
       "3                                     0   0.522822         5301.0   \n",
       "4                                     0   0.423650        13000.0   \n",
       "\n",
       "   NumberOfOpenCreditLinesAndLoans  NumberOfTimes90DaysLate  \\\n",
       "0                                5                        0   \n",
       "1                                5                        0   \n",
       "2                                5                        1   \n",
       "3                               11                        0   \n",
       "4                                9                        0   \n",
       "\n",
       "   NumberRealEstateLoansOrLines  NumberOfTime60-89DaysPastDueNotWorse  \\\n",
       "0                             0                                     0   \n",
       "1                             0                                     0   \n",
       "2                             0                                     2   \n",
       "3                             2                                     0   \n",
       "4                             2                                     0   \n",
       "\n",
       "   NumberOfDependents          qcut  \n",
       "0            0.000000  (52.0, 54.0]  \n",
       "1            0.000000  (61.0, 64.0]  \n",
       "2            3.716057  (36.0, 39.0]  \n",
       "3            0.000000  (68.0, 74.0]  \n",
       "4            0.181999  (52.0, 54.0]  "
      ]
     },
     "execution_count": 124,
     "metadata": {},
     "output_type": "execute_result"
    }
   ],
   "source": [
    "model_data.head()"
   ]
  },
  {
   "cell_type": "code",
   "execution_count": 125,
   "metadata": {},
   "outputs": [
    {
     "data": {
      "text/plain": [
       "cut\n",
       "(-inf, 36.0]   -11.320545\n",
       "(36.0, 54.0]    -6.070842\n",
       "(54.0, 61.0]     5.394922\n",
       "(61.0, 74.0]    21.893326\n",
       "(74.0, inf]     37.051162\n",
       "dtype: float64"
      ]
     },
     "execution_count": 125,
     "metadata": {},
     "output_type": "execute_result"
    }
   ],
   "source": [
    "score_age=woeall['age']*(-B*lr.coef_[0][1])\n",
    "score_age"
   ]
  },
  {
   "cell_type": "code",
   "execution_count": 128,
   "metadata": {},
   "outputs": [],
   "source": [
    "file='ScoreData.csv'\n",
    "\n",
    "with open(file,'w') as fdata:\n",
    "    fdata.write('base_score,{}\\n'.format(base_score))\n",
    "for  i,col in enumerate(X.columns):\n",
    "    score=woeall[col]*(-B*lr.coef_[0][i])\n",
    "    score.name='Score'\n",
    "    score.index.name=col\n",
    "    score.to_csv(file,header=True,mode='a')"
   ]
  },
  {
   "cell_type": "code",
   "execution_count": 126,
   "metadata": {},
   "outputs": [
    {
     "data": {
      "text/plain": [
       "[(0, 'age'),\n",
       " (1, 'RevolvingUtilizationOfUnsecuredLines'),\n",
       " (2, 'DebtRatio'),\n",
       " (3, 'MonthlyIncome'),\n",
       " (4, 'NumberOfOpenCreditLinesAndLoans'),\n",
       " (5, 'NumberOfTime30-59DaysPastDueNotWorse'),\n",
       " (6, 'NumberOfTimes90DaysLate'),\n",
       " (7, 'NumberRealEstateLoansOrLines'),\n",
       " (8, 'NumberOfTime60-89DaysPastDueNotWorse'),\n",
       " (9, 'NumberOfDependents')]"
      ]
     },
     "execution_count": 126,
     "metadata": {},
     "output_type": "execute_result"
    }
   ],
   "source": [
    "[*enumerate(X.columns)]#里面是元祖"
   ]
  },
  {
   "cell_type": "code",
   "execution_count": null,
   "metadata": {},
   "outputs": [],
   "source": []
  }
 ],
 "metadata": {
  "kernelspec": {
   "display_name": "Python 3",
   "language": "python",
   "name": "python3"
  },
  "language_info": {
   "codemirror_mode": {
    "name": "ipython",
    "version": 3
   },
   "file_extension": ".py",
   "mimetype": "text/x-python",
   "name": "python",
   "nbconvert_exporter": "python",
   "pygments_lexer": "ipython3",
   "version": "3.7.4"
  }
 },
 "nbformat": 4,
 "nbformat_minor": 2
}
